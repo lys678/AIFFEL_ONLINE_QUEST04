{
  "cells": [
    {
      "cell_type": "markdown",
      "metadata": {
        "id": "view-in-github",
        "colab_type": "text"
      },
      "source": [
        "<a href=\"https://colab.research.google.com/github/lys678/AIFFEL_ONLINE_QUEST04/blob/master/Main_Quest_03/Main_Quest_03.ipynb\" target=\"_parent\"><img src=\"https://colab.research.google.com/assets/colab-badge.svg\" alt=\"Open In Colab\"/></a>"
      ]
    },
    {
      "cell_type": "markdown",
      "source": [
        "#**[MAIN QUEST 03] 가위바위보**"
      ],
      "metadata": {
        "id": "9hjg0qatis86"
      },
      "id": "9hjg0qatis86"
    },
    {
      "cell_type": "markdown",
      "source": [
        "\n"
      ],
      "metadata": {
        "id": "v4SwDnm0i8Tj"
      },
      "id": "v4SwDnm0i8Tj"
    },
    {
      "cell_type": "code",
      "execution_count": null,
      "id": "4e7dbdbf",
      "metadata": {
        "id": "4e7dbdbf",
        "outputId": "edc696f2-8568-467e-b1ee-fb2a35473a8f"
      },
      "outputs": [
        {
          "name": "stdout",
          "output_type": "stream",
          "text": [
            "2.6.0\n",
            "1.22.2\n"
          ]
        }
      ],
      "source": [
        "import tensorflow as tf\n",
        "from tensorflow import keras\n",
        "\n",
        "import numpy as np\n",
        "import matplotlib.pyplot as plt\n",
        "import os\n",
        "\n",
        "\n",
        "print(tf.__version__)   # Tensorflow의 버전을 출력\n",
        "print(np.__version__)"
      ]
    },
    {
      "cell_type": "code",
      "execution_count": null,
      "id": "9135f4fb",
      "metadata": {
        "id": "9135f4fb",
        "outputId": "b2819267-8c66-4e0e-afcd-1eae934b27fc"
      },
      "outputs": [
        {
          "name": "stdout",
          "output_type": "stream",
          "text": [
            "PIL 라이브러리 import 완료!\n"
          ]
        }
      ],
      "source": [
        "# PIL 라이브러리 import하기\n",
        "\n",
        "from PIL import Image\n",
        "import glob\n",
        "import os\n",
        "\n",
        "print(\"PIL 라이브러리 import 완료!\")"
      ]
    },
    {
      "cell_type": "markdown",
      "source": [
        "이미지의 크기를 28x28로 만드는 함수를 작성합니다.\\\n",
        "가위의 이미지의 크기를 바꾸어줍니다."
      ],
      "metadata": {
        "id": "dvR53Vb8jkG5"
      },
      "id": "dvR53Vb8jkG5"
    },
    {
      "cell_type": "code",
      "execution_count": null,
      "id": "ad71adbf",
      "metadata": {
        "id": "ad71adbf",
        "outputId": "609c0d66-4eea-4093-fe11-eb0d3e7e432c"
      },
      "outputs": [
        {
          "name": "stdout",
          "output_type": "stream",
          "text": [
            "100  images to be resized.\n",
            "100  images resized.\n",
            "가위 이미지 resize 완료!\n"
          ]
        }
      ],
      "source": [
        "def resize_images(img_path):\n",
        "\timages=glob.glob(img_path + \"/*.jpg\")\n",
        "\n",
        "\tprint(len(images), \" images to be resized.\")\n",
        "\n",
        "    # 파일마다 모두 28x28 사이즈로 바꾸어 저장합니다.\n",
        "\ttarget_size=(28,28)\n",
        "\tfor img in images:\n",
        "\t\told_img=Image.open(img)\n",
        "\t\tnew_img=old_img.resize(target_size,Image.ANTIALIAS)\n",
        "\t\tnew_img.save(img, \"JPEG\")\n",
        "\n",
        "\tprint(len(images), \" images resized.\")\n",
        "\n",
        "# 가위 이미지가 저장된 디렉토리 아래의 모든 jpg 파일을 읽어들여서\n",
        "image_dir_path = os.getenv(\"HOME\") + \"/aiffel/rock_scissor_paper/scissor\"\n",
        "resize_images(image_dir_path)\n",
        "\n",
        "print(\"가위 이미지 resize 완료!\")"
      ]
    },
    {
      "cell_type": "markdown",
      "source": [
        "보 이미지의 크기를 바꾸어 저장합니다."
      ],
      "metadata": {
        "id": "wE4xfQcYkGzV"
      },
      "id": "wE4xfQcYkGzV"
    },
    {
      "cell_type": "code",
      "execution_count": null,
      "id": "587fddfc",
      "metadata": {
        "id": "587fddfc",
        "outputId": "a5395454-1809-4723-fd9c-c850d605e7a3"
      },
      "outputs": [
        {
          "name": "stdout",
          "output_type": "stream",
          "text": [
            "100  images to be resized.\n",
            "100  images resized.\n",
            "보 이미지 resize 완료!\n"
          ]
        }
      ],
      "source": [
        "# 보 이미지가 저장된 디렉토리 아래의 모든 jpg 파일을 읽어들여서\n",
        "image_dir_path = os.getenv(\"HOME\") + \"/aiffel/rock_scissor_paper/paper\"\n",
        "\n",
        "# 파일마다 모두 28x28 사이즈로 바꾸어 저장합니다.\n",
        "resize_images(image_dir_path)\n",
        "\n",
        "print(\"보 이미지 resize 완료!\")"
      ]
    },
    {
      "cell_type": "markdown",
      "source": [
        "바위 이미지의 크기를 바꾸어 저장합니다."
      ],
      "metadata": {
        "id": "bXeN9_ytkN-1"
      },
      "id": "bXeN9_ytkN-1"
    },
    {
      "cell_type": "code",
      "execution_count": null,
      "id": "69b37335",
      "metadata": {
        "id": "69b37335",
        "outputId": "d5b53d3d-8e73-403b-8fef-19b9c9285b5c"
      },
      "outputs": [
        {
          "name": "stdout",
          "output_type": "stream",
          "text": [
            "100  images to be resized.\n",
            "100  images resized.\n",
            "바위 이미지 resize 완료!\n"
          ]
        }
      ],
      "source": [
        "# 바위 이미지가 저장된 디렉토리 아래의 모든 jpg 파일을 읽어들여서\n",
        "image_dir_path = os.getenv(\"HOME\") + \"/aiffel/rock_scissor_paper/rock\"\n",
        "\n",
        "# 파일마다 모두 28x28 사이즈로 바꾸어 저장합니다.\n",
        "resize_images(image_dir_path)\n",
        "\n",
        "print(\"바위 이미지 resize 완료!\")"
      ]
    },
    {
      "cell_type": "markdown",
      "source": [
        "load_data 함수를 만들어서 이미지의 위치를 불러옵니다."
      ],
      "metadata": {
        "id": "prG_IymZkQrO"
      },
      "id": "prG_IymZkQrO"
    },
    {
      "cell_type": "code",
      "execution_count": null,
      "id": "7238331b",
      "metadata": {
        "scrolled": true,
        "id": "7238331b",
        "outputId": "a748ee25-c56b-43ed-d257-badc6768d2c3"
      },
      "outputs": [
        {
          "name": "stdout",
          "output_type": "stream",
          "text": [
            "학습데이터(x_train)의 이미지 개수는 300 입니다.\n",
            "x_train shape: (300, 28, 28, 3)\n",
            "y_train shape: (300,)\n"
          ]
        }
      ],
      "source": [
        "import numpy as np\n",
        "\n",
        "# load_data 함수를 만들어서 해당 이미지의 위치 불러오기\n",
        "\n",
        "def load_data(img_path, number_of_data=300):  # 가위바위보 이미지 개수 총합에 주의하세요.\n",
        "    # 가위 : 0, 바위 : 1, 보 : 2\n",
        "    img_size=28\n",
        "    color=3\n",
        "    #이미지 데이터와 라벨(가위 : 0, 바위 : 1, 보 : 2) 데이터를 담을 행렬(matrix) 영역을 생성합니다.\n",
        "    imgs=np.zeros(number_of_data*img_size*img_size*color,dtype=np.int32).reshape(number_of_data,img_size,img_size,color)\n",
        "    labels=np.zeros(number_of_data,dtype=np.int32)\n",
        "\n",
        "    idx=0\n",
        "    for file in glob.iglob(img_path+'/scissor/*.jpg'):\n",
        "        img = np.array(Image.open(file),dtype=np.int32)\n",
        "        imgs[idx,:,:,:]=img    # 데이터 영역에 이미지 행렬을 복사\n",
        "        labels[idx]=0   # 가위 : 0\n",
        "        idx=idx+1\n",
        "\n",
        "    for file in glob.iglob(img_path+'/rock/*.jpg'):\n",
        "        img = np.array(Image.open(file),dtype=np.int32)\n",
        "        imgs[idx,:,:,:]=img    # 데이터 영역에 이미지 행렬을 복사\n",
        "        labels[idx]=1   # 바위 : 1\n",
        "        idx=idx+1\n",
        "\n",
        "    for file in glob.iglob(img_path+'/paper/*.jpg'):\n",
        "        img = np.array(Image.open(file),dtype=np.int32)\n",
        "        imgs[idx,:,:,:]=img    # 데이터 영역에 이미지 행렬을 복사\n",
        "        labels[idx]=2   # 보 : 2\n",
        "        idx=idx+1\n",
        "\n",
        "    print(\"학습데이터(x_train)의 이미지 개수는\", idx,\"입니다.\")\n",
        "    return imgs, labels\n",
        "\n",
        "image_dir_path = os.getenv(\"HOME\") + \"/aiffel/rock_scissor_paper\"\n",
        "(x_train, y_train)=load_data(image_dir_path)\n",
        "x_train_norm = x_train/255.0   # 입력은 0~1 사이의 값으로 정규화\n",
        "y_train_norm = y_train/255.0\n",
        "\n",
        "print(\"x_train shape: {}\".format(x_train.shape))\n",
        "print(\"y_train shape: {}\".format(y_train.shape))"
      ]
    },
    {
      "cell_type": "markdown",
      "source": [
        "y_train[0]의 이미지를 확인합니다."
      ],
      "metadata": {
        "id": "3Ghc0uY4kXD3"
      },
      "id": "3Ghc0uY4kXD3"
    },
    {
      "cell_type": "code",
      "execution_count": null,
      "id": "8a225c7a",
      "metadata": {
        "id": "8a225c7a",
        "outputId": "bab0aa12-f77b-41f2-d6fd-5431edd4ee7e"
      },
      "outputs": [
        {
          "name": "stdout",
          "output_type": "stream",
          "text": [
            "라벨:  0\n"
          ]
        },
        {
          "data": {
            "image/png": "[encoded data removed]",
            "text/plain": [
              "<Figure size 432x288 with 1 Axes>"
            ]
          },
          "metadata": {
            "needs_background": "light"
          },
          "output_type": "display_data"
        }
      ],
      "source": [
        "import matplotlib.pyplot as plt\n",
        "\n",
        "plt.imshow(x_train[0])\n",
        "print('라벨: ', y_train[0])"
      ]
    },
    {
      "cell_type": "markdown",
      "source": [
        "model을 만들어줍니다.\n",
        "dropout을 사용해보려고 했으나 그렇게 되면 train의 학습률이 너무 떨어져서 사용하지는 않았습니다."
      ],
      "metadata": {
        "id": "F7VRiyYzkdG0"
      },
      "id": "F7VRiyYzkdG0"
    },
    {
      "cell_type": "code",
      "execution_count": null,
      "id": "e5c5c7a8",
      "metadata": {
        "id": "e5c5c7a8",
        "outputId": "174fca1f-630c-41d9-fd55-db5cedeed19f"
      },
      "outputs": [
        {
          "name": "stdout",
          "output_type": "stream",
          "text": [
            "Model: \"sequential_5\"\n",
            "_________________________________________________________________\n",
            "Layer (type)                 Output Shape              Param #   \n",
            "=================================================================\n",
            "conv2d_11 (Conv2D)           (None, 26, 26, 32)        896       \n",
            "_________________________________________________________________\n",
            "max_pooling2d_11 (MaxPooling (None, 13, 13, 32)        0         \n",
            "_________________________________________________________________\n",
            "conv2d_12 (Conv2D)           (None, 11, 11, 64)        18496     \n",
            "_________________________________________________________________\n",
            "max_pooling2d_12 (MaxPooling (None, 5, 5, 64)          0         \n",
            "_________________________________________________________________\n",
            "conv2d_13 (Conv2D)           (None, 3, 3, 128)         73856     \n",
            "_________________________________________________________________\n",
            "max_pooling2d_13 (MaxPooling (None, 1, 1, 128)         0         \n",
            "_________________________________________________________________\n",
            "flatten_5 (Flatten)          (None, 128)               0         \n",
            "_________________________________________________________________\n",
            "dense_10 (Dense)             (None, 128)               16512     \n",
            "_________________________________________________________________\n",
            "dense_11 (Dense)             (None, 3)                 387       \n",
            "=================================================================\n",
            "Total params: 110,147\n",
            "Trainable params: 110,147\n",
            "Non-trainable params: 0\n",
            "_________________________________________________________________\n"
          ]
        }
      ],
      "source": [
        "import tensorflow as tf\n",
        "from tensorflow import keras\n",
        "import numpy as np\n",
        "\n",
        "# model을 직접 만들어 보세요.\n",
        "# Hint! model의 입력/출력부에 특히 유의해 주세요. 가위바위보 데이터셋은 MNIST 데이터셋과 어떤 점이 달라졌나요?\n",
        "# 가위바위보 데이터셋은 3채널 컬러 이미지이므로 입력 형태를 (이미지 높이, 이미지 너비, 채널 수)로 지정합니다.\n",
        "input_shape = (28, 28, 3)\n",
        "\n",
        "# 모델 생성\n",
        "model=keras.models.Sequential()\n",
        "model.add(keras.layers.Conv2D(32, (3, 3), activation='relu', input_shape=input_shape))\n",
        "model.add(keras.layers.MaxPooling2D((2, 2)))\n",
        "model.add(keras.layers.Conv2D(64, (3, 3), activation='relu'))\n",
        "model.add(keras.layers.MaxPooling2D((2, 2)))\n",
        "model.add(keras.layers.Conv2D(128, (3, 3), activation='relu'))\n",
        "model.add(keras.layers.MaxPooling2D((2, 2)))\n",
        "model.add(keras.layers.Flatten())\n",
        "model.add(keras.layers.Dense(128, activation='relu'))\n",
        "model.add(keras.layers.Dense(3, activation='softmax'))  # 출력 노드 개수를 3으로 설정하여 가위, 바위, 보를 구분합니다.\n",
        "\n",
        "# 모델 컴파일\n",
        "model.compile(optimizer='adam', loss='categorical_crossentropy', metrics=['accuracy'])\n",
        "\n",
        "# 모델 아키텍처 요약\n",
        "model.summary()"
      ]
    },
    {
      "cell_type": "markdown",
      "source": [
        "x_train_norm과 y_train을 이용하여 학습을 시켜줍니다."
      ],
      "metadata": {
        "id": "ySY6-BP8kvGI"
      },
      "id": "ySY6-BP8kvGI"
    },
    {
      "cell_type": "code",
      "execution_count": null,
      "id": "be68c8fa",
      "metadata": {
        "id": "be68c8fa",
        "outputId": "d97267f5-a6d1-4543-d59e-c2795b45bd80"
      },
      "outputs": [
        {
          "name": "stdout",
          "output_type": "stream",
          "text": [
            "Epoch 1/10\n",
            "10/10 [==============================] - 1s 41ms/step - loss: 1.0183 - accuracy: 0.5500\n",
            "Epoch 2/10\n",
            "10/10 [==============================] - 0s 41ms/step - loss: 0.6450 - accuracy: 0.7667\n",
            "Epoch 3/10\n",
            "10/10 [==============================] - 0s 40ms/step - loss: 0.4408 - accuracy: 0.7533\n",
            "Epoch 4/10\n",
            "10/10 [==============================] - 0s 40ms/step - loss: 0.3475 - accuracy: 0.8300\n",
            "Epoch 5/10\n",
            "10/10 [==============================] - 0s 40ms/step - loss: 0.2719 - accuracy: 0.9033\n",
            "Epoch 6/10\n",
            "10/10 [==============================] - 0s 41ms/step - loss: 0.2208 - accuracy: 0.9067\n",
            "Epoch 7/10\n",
            "10/10 [==============================] - 0s 41ms/step - loss: 0.2457 - accuracy: 0.8633\n",
            "Epoch 8/10\n",
            "10/10 [==============================] - 0s 40ms/step - loss: 0.1312 - accuracy: 0.9900\n",
            "Epoch 9/10\n",
            "10/10 [==============================] - 0s 41ms/step - loss: 0.0756 - accuracy: 0.9900\n",
            "Epoch 10/10\n",
            "10/10 [==============================] - 0s 40ms/step - loss: 0.0472 - accuracy: 0.9967\n"
          ]
        },
        {
          "data": {
            "text/plain": [
              "<keras.callbacks.History at 0x7fe293381670>"
            ]
          },
          "execution_count": 29,
          "metadata": {},
          "output_type": "execute_result"
        }
      ],
      "source": [
        "# 딥러닝 학습\n",
        "model.compile(optimizer='adam',\n",
        "             loss='sparse_categorical_crossentropy',\n",
        "             metrics=['accuracy'])\n",
        "\n",
        "model.fit(x_train_norm, y_train, epochs=10)"
      ]
    },
    {
      "cell_type": "markdown",
      "source": [
        "학습 데이터의 이미지 개수의 총합을 맞추어서 데이터를 정규화합니다."
      ],
      "metadata": {
        "id": "M3gfyRyzk1hm"
      },
      "id": "M3gfyRyzk1hm"
    },
    {
      "cell_type": "code",
      "execution_count": null,
      "id": "36aef4b1",
      "metadata": {
        "id": "36aef4b1",
        "outputId": "e519de3c-16a1-4880-9859-735e6bd841a3"
      },
      "outputs": [
        {
          "name": "stdout",
          "output_type": "stream",
          "text": [
            "학습데이터(x_train)의 이미지 개수는 0 입니다.\n",
            "x_train shape: (300, 28, 28, 3)\n",
            "y_train shape: (300,)\n"
          ]
        }
      ],
      "source": [
        "import numpy as np\n",
        "\n",
        "def load_data(img_path, number_of_data=300):  # 가위바위보 이미지 개수 총합에 주의하세요.\n",
        "    # 가위 : 0, 바위 : 1, 보 : 2\n",
        "    img_size=28\n",
        "    color=3\n",
        "    #이미지 데이터와 라벨(가위 : 0, 바위 : 1, 보 : 2) 데이터를 담을 행렬(matrix) 영역을 생성합니다.\n",
        "    imgs=np.zeros(number_of_data*img_size*img_size*color,dtype=np.int32).reshape(number_of_data,img_size,img_size,color)\n",
        "    labels=np.zeros(number_of_data,dtype=np.int32)\n",
        "\n",
        "    idx=0\n",
        "    for file in glob.iglob(img_path+'/scissor/*.jpg'):\n",
        "        img = np.array(Image.open(file),dtype=np.int32)\n",
        "        imgs[idx,:,:,:]=img    # 데이터 영역에 이미지 행렬을 복사\n",
        "        labels[idx]=0   # 가위 : 0\n",
        "        idx=idx+1\n",
        "\n",
        "    for file in glob.iglob(img_path+'/rock/*.jpg'):\n",
        "        img = np.array(Image.open(file),dtype=np.int32)\n",
        "        imgs[idx,:,:,:]=img    # 데이터 영역에 이미지 행렬을 복사\n",
        "        labels[idx]=1   # 바위 : 1\n",
        "        idx=idx+1\n",
        "\n",
        "    for file in glob.iglob(img_path+'/paper/*.jpg'):\n",
        "        img = np.array(Image.open(file),dtype=np.int32)\n",
        "        imgs[idx,:,:,:]=img    # 데이터 영역에 이미지 행렬을 복사\n",
        "        labels[idx]=2   # 보 : 2\n",
        "        idx=idx+1\n",
        "\n",
        "    print(\"학습데이터(x_train)의 이미지 개수는\", idx,\"입니다.\")\n",
        "    return imgs, labels\n",
        "\n",
        "\n",
        "image_dir_path = os.getenv(\"HOME\") + \"/aiffel/rock_scissor_paper/test\"\n",
        "(x_test, y_test)=load_data(image_dir_path)\n",
        "x_test_norm = x_test/255.0   # 입력은 0~1 사이의 값으로 정규화\n",
        "y_test_norm = y_test/255.0\n",
        "\n",
        "\n",
        "print(\"x_train shape: {}\".format(x_test.shape))\n",
        "print(\"y_train shape: {}\".format(y_test.shape))"
      ]
    },
    {
      "cell_type": "code",
      "execution_count": null,
      "id": "31f3a841",
      "metadata": {
        "id": "31f3a841",
        "outputId": "e2b80f7f-f9fb-4762-9198-515a037b9f57"
      },
      "outputs": [
        {
          "name": "stdout",
          "output_type": "stream",
          "text": [
            "Model: \"sequential_6\"\n",
            "_________________________________________________________________\n",
            "Layer (type)                 Output Shape              Param #   \n",
            "=================================================================\n",
            "conv2d_14 (Conv2D)           (None, 26, 26, 16)        448       \n",
            "_________________________________________________________________\n",
            "max_pooling2d_14 (MaxPooling (None, 13, 13, 16)        0         \n",
            "_________________________________________________________________\n",
            "conv2d_15 (Conv2D)           (None, 11, 11, 32)        4640      \n",
            "_________________________________________________________________\n",
            "max_pooling2d_15 (MaxPooling (None, 5, 5, 32)          0         \n",
            "_________________________________________________________________\n",
            "flatten_6 (Flatten)          (None, 800)               0         \n",
            "_________________________________________________________________\n",
            "dense_12 (Dense)             (None, 32)                25632     \n",
            "_________________________________________________________________\n",
            "dense_13 (Dense)             (None, 10)                330       \n",
            "=================================================================\n",
            "Total params: 31,050\n",
            "Trainable params: 31,050\n",
            "Non-trainable params: 0\n",
            "_________________________________________________________________\n",
            "Epoch 1/10\n",
            "10/10 [==============================] - 1s 20ms/step - loss: 3.5236 - accuracy: 0.8033\n",
            "Epoch 2/10\n",
            "10/10 [==============================] - 0s 21ms/step - loss: 0.0000e+00 - accuracy: 1.0000\n",
            "Epoch 3/10\n",
            "10/10 [==============================] - 0s 21ms/step - loss: 0.0000e+00 - accuracy: 1.0000\n",
            "Epoch 4/10\n",
            "10/10 [==============================] - 0s 18ms/step - loss: 0.0000e+00 - accuracy: 1.0000\n",
            "Epoch 5/10\n",
            "10/10 [==============================] - 0s 18ms/step - loss: 0.0000e+00 - accuracy: 1.0000\n",
            "Epoch 6/10\n",
            "10/10 [==============================] - 0s 18ms/step - loss: 0.0000e+00 - accuracy: 1.0000\n",
            "Epoch 7/10\n",
            "10/10 [==============================] - 0s 22ms/step - loss: 0.0000e+00 - accuracy: 1.0000\n",
            "Epoch 8/10\n",
            "10/10 [==============================] - 0s 21ms/step - loss: 0.0000e+00 - accuracy: 1.0000\n",
            "Epoch 9/10\n",
            "10/10 [==============================] - 0s 20ms/step - loss: 0.0000e+00 - accuracy: 1.0000\n",
            "Epoch 10/10\n",
            "10/10 [==============================] - 0s 26ms/step - loss: 0.0000e+00 - accuracy: 1.0000\n",
            "10/10 - 0s - loss: 0.0000e+00 - accuracy: 1.0000\n",
            "test_loss: 0.0 \n",
            "test_accuracy: 1.0\n"
          ]
        }
      ],
      "source": [
        "# 바꿔 볼 수 있는 하이퍼파라미터들\n",
        "n_channel_1=16\n",
        "n_channel_2=32\n",
        "n_dense=32\n",
        "n_train_epoch=10\n",
        "\n",
        "model=keras.models.Sequential()\n",
        "model.add(keras.layers.Conv2D(n_channel_1, (3,3), activation='relu', input_shape=(28,28,3)))\n",
        "model.add(keras.layers.MaxPool2D(2,2))\n",
        "model.add(keras.layers.Conv2D(n_channel_2, (3,3), activation='relu'))\n",
        "model.add(keras.layers.MaxPooling2D((2,2)))\n",
        "model.add(keras.layers.Flatten())\n",
        "model.add(keras.layers.Dense(n_dense, activation='relu'))\n",
        "model.add(keras.layers.Dense(10, activation='softmax'))\n",
        "\n",
        "model.summary()\n",
        "model.compile(optimizer='adam',\n",
        "             loss='sparse_categorical_crossentropy',\n",
        "             metrics=['accuracy'])\n",
        "\n",
        "# 모델 훈련\n",
        "model.fit(x_train, y_test, epochs=n_train_epoch)\n",
        "\n",
        "\n",
        "# 모델 시험\n",
        "test_loss, test_accuracy = model.evaluate(x_train, y_test, verbose=2)\n",
        "print(f\"test_loss: {test_loss} \")\n",
        "print(f\"test_accuracy: {test_accuracy}\")"
      ]
    },
    {
      "cell_type": "code",
      "execution_count": null,
      "id": "90dc415e",
      "metadata": {
        "id": "90dc415e",
        "outputId": "03f7230c-a7ff-40aa-efbb-2282986742ab"
      },
      "outputs": [
        {
          "data": {
            "image/png": "[encoded data removed]",
            "text/plain": [
              "<Figure size 432x288 with 1 Axes>"
            ]
          },
          "metadata": {
            "needs_background": "light"
          },
          "output_type": "display_data"
        }
      ],
      "source": [
        "train_accuracy = []\n",
        "test_accuracy = []\n",
        "\n",
        "for epoch in range(n_train_epoch):\n",
        "    # 모델을 한 에폭동안 훈련\n",
        "    model.fit(x_train_norm, y_train, epochs=1, verbose=0)\n",
        "\n",
        "    # 훈련 데이터와 테스트 데이터에 대해 모델을 평가하여 정확도 저장\n",
        "    train_loss, train_acc = model.evaluate(x_train_norm, y_train, verbose=0)\n",
        "    test_loss, test_acc = model.evaluate(x_test_norm, y_test, verbose=0)\n",
        "\n",
        "    # 정확도 값을 리스트에 추가\n",
        "    train_accuracy.append(train_acc)\n",
        "    test_accuracy.append(test_acc)\n",
        "\n",
        "# 훈련 및 테스트 데이터에 대한 정확도를 에폭별로 시각화\n",
        "markers = {'train': 'o', 'test': 's'}\n",
        "x = np.arange(n_train_epoch)\n",
        "\n",
        "plt.plot(x, train_accuracy, marker='o', label='train', markevery=1)\n",
        "plt.plot(x, test_accuracy, marker='s', label='test', markevery=1)\n",
        "plt.xlabel(\"epochs\")\n",
        "plt.ylabel(\"accuracy\")\n",
        "plt.ylim(0, 1.0)\n",
        "plt.legend(loc='lower right')\n",
        "plt.show()"
      ]
    },
    {
      "cell_type": "code",
      "execution_count": null,
      "id": "70f5c791",
      "metadata": {
        "id": "70f5c791"
      },
      "outputs": [],
      "source": []
    }
  ],
  "metadata": {
    "kernelspec": {
      "display_name": "Python 3 (ipykernel)",
      "language": "python",
      "name": "python3"
    },
    "language_info": {
      "codemirror_mode": {
        "name": "ipython",
        "version": 3
      },
      "file_extension": ".py",
      "mimetype": "text/x-python",
      "name": "python",
      "nbconvert_exporter": "python",
      "pygments_lexer": "ipython3",
      "version": "3.9.7"
    },
    "colab": {
      "provenance": [],
      "include_colab_link": true
    }
  },
  "nbformat": 4,
  "nbformat_minor": 5
}