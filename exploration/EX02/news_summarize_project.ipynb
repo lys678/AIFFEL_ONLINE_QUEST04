{
  "cells": [
    {
      "cell_type": "markdown",
      "metadata": {
        "id": "view-in-github",
        "colab_type": "text"
      },
      "source": [
        "<a href=\"https://colab.research.google.com/github/lys678/AIFFEL_ONLINE_QUEST04/blob/master/exploration/EX02/news_summarize_project.ipynb\" target=\"_parent\"><img src=\"https://colab.research.google.com/assets/colab-badge.svg\" alt=\"Open In Colab\"/></a>"
      ]
    },
    {
      "cell_type": "markdown",
      "id": "3b82908f",
      "metadata": {
        "id": "3b82908f"
      },
      "source": [
        "# 프로젝트: 뉴스기사 요약해보기"
      ]
    },
    {
      "cell_type": "code",
      "execution_count": null,
      "id": "3fec030c",
      "metadata": {
        "id": "3fec030c",
        "outputId": "836ac7a4-d42d-47ef-ce04-71a057074172"
      },
      "outputs": [
        {
          "name": "stdout",
          "output_type": "stream",
          "text": [
            "3.6.5\n",
            "2.6.0\n",
            "1.3.3\n",
            "1.2.0\n"
          ]
        }
      ],
      "source": [
        "# 주요 라이브러리 버전을 확인\n",
        "from importlib.metadata import version\n",
        "import nltk\n",
        "import tensorflow\n",
        "import summa\n",
        "import pandas\n",
        "\n",
        "print(nltk.__version__)\n",
        "print(tensorflow.__version__)\n",
        "print(pandas.__version__)\n",
        "print(version('summa'))"
      ]
    },
    {
      "cell_type": "markdown",
      "id": "f926180e",
      "metadata": {
        "id": "f926180e"
      },
      "source": [
        "## Step 1. 데이터 수집하기"
      ]
    },
    {
      "cell_type": "markdown",
      "id": "c8807c3f",
      "metadata": {
        "id": "c8807c3f"
      },
      "source": [
        "### 데이터 다운로드"
      ]
    },
    {
      "cell_type": "code",
      "execution_count": null,
      "id": "9e990a43",
      "metadata": {
        "id": "9e990a43"
      },
      "outputs": [],
      "source": [
        "import urllib.request\n",
        "import pandas as pd\n",
        "urllib.request.urlretrieve(\"https://raw.githubusercontent.com/sunnysai12345/News_Summary/master/news_summary_more.csv\", filename=\"news_summary_more.csv\")\n",
        "data = pd.read_csv('news_summary_more.csv', encoding='iso-8859-1')"
      ]
    },
    {
      "cell_type": "code",
      "execution_count": null,
      "id": "36d9016f",
      "metadata": {
        "id": "36d9016f",
        "outputId": "e949c091-91b3-4828-f2a9-716b8df8a1c9"
      },
      "outputs": [
        {
          "data": {
            "text/html": [
              "<div>\n",
              "<style scoped>\n",
              "    .dataframe tbody tr th:only-of-type {\n",
              "        vertical-align: middle;\n",
              "    }\n",
              "\n",
              "    .dataframe tbody tr th {\n",
              "        vertical-align: top;\n",
              "    }\n",
              "\n",
              "    .dataframe thead th {\n",
              "        text-align: right;\n",
              "    }\n",
              "</style>\n",
              "<table border=\"1\" class=\"dataframe\">\n",
              "  <thead>\n",
              "    <tr style=\"text-align: right;\">\n",
              "      <th></th>\n",
              "      <th>headlines</th>\n",
              "      <th>text</th>\n",
              "    </tr>\n",
              "  </thead>\n",
              "  <tbody>\n",
              "    <tr>\n",
              "      <th>92069</th>\n",
              "      <td>Abuses by ex-world no.1 leaves British tennis ...</td>\n",
              "      <td>Britain's women's singles number one tennis pl...</td>\n",
              "    </tr>\n",
              "    <tr>\n",
              "      <th>2618</th>\n",
              "      <td>Cabinet approves 3 new AIIMS at Gujarat, Jammu...</td>\n",
              "      <td>The Cabinet on Thursday approved the establish...</td>\n",
              "    </tr>\n",
              "    <tr>\n",
              "      <th>44569</th>\n",
              "      <td>Trump imposes tariff on steel and aluminium im...</td>\n",
              "      <td>US President Donald Trump on Thursday signed a...</td>\n",
              "    </tr>\n",
              "    <tr>\n",
              "      <th>51111</th>\n",
              "      <td>Chinese man who hid gold worth Ã¢ÂÂ¹52L in je...</td>\n",
              "      <td>Customs officials at the Delhi airport have ar...</td>\n",
              "    </tr>\n",
              "    <tr>\n",
              "      <th>85982</th>\n",
              "      <td>Twinkle shares picture with mother Dimple on h...</td>\n",
              "      <td>Novelist Twinkle Khanna took to Instagram to s...</td>\n",
              "    </tr>\n",
              "    <tr>\n",
              "      <th>7852</th>\n",
              "      <td>Spinners take all 40 wickets for team in 2-Tes...</td>\n",
              "      <td>Spinners picked up all the 40 wickets for Bang...</td>\n",
              "    </tr>\n",
              "    <tr>\n",
              "      <th>82995</th>\n",
              "      <td>Patna Police officers play games, browse net d...</td>\n",
              "      <td>Two Patna Police officers were caught playing ...</td>\n",
              "    </tr>\n",
              "    <tr>\n",
              "      <th>39570</th>\n",
              "      <td>Calls with Trump are like sausages: French Pre...</td>\n",
              "      <td>Comparing his calls with US President Donald T...</td>\n",
              "    </tr>\n",
              "    <tr>\n",
              "      <th>2892</th>\n",
              "      <td>Possibility that Vinta accused Alok of rape fo...</td>\n",
              "      <td>A Mumbai sessions court has said actor Alok Na...</td>\n",
              "    </tr>\n",
              "    <tr>\n",
              "      <th>63862</th>\n",
              "      <td>Maha's growth slow because of bureaucratsÃ¢ÂÂ...</td>\n",
              "      <td>Ahead of completing three years as Maharashtra...</td>\n",
              "    </tr>\n",
              "  </tbody>\n",
              "</table>\n",
              "</div>"
            ],
            "text/plain": [
              "                                               headlines  \\\n",
              "92069  Abuses by ex-world no.1 leaves British tennis ...   \n",
              "2618   Cabinet approves 3 new AIIMS at Gujarat, Jammu...   \n",
              "44569  Trump imposes tariff on steel and aluminium im...   \n",
              "51111  Chinese man who hid gold worth Ã¢ÂÂ¹52L in je...   \n",
              "85982  Twinkle shares picture with mother Dimple on h...   \n",
              "7852   Spinners take all 40 wickets for team in 2-Tes...   \n",
              "82995  Patna Police officers play games, browse net d...   \n",
              "39570  Calls with Trump are like sausages: French Pre...   \n",
              "2892   Possibility that Vinta accused Alok of rape fo...   \n",
              "63862  Maha's growth slow because of bureaucratsÃ¢ÂÂ...   \n",
              "\n",
              "                                                    text  \n",
              "92069  Britain's women's singles number one tennis pl...  \n",
              "2618   The Cabinet on Thursday approved the establish...  \n",
              "44569  US President Donald Trump on Thursday signed a...  \n",
              "51111  Customs officials at the Delhi airport have ar...  \n",
              "85982  Novelist Twinkle Khanna took to Instagram to s...  \n",
              "7852   Spinners picked up all the 40 wickets for Bang...  \n",
              "82995  Two Patna Police officers were caught playing ...  \n",
              "39570  Comparing his calls with US President Donald T...  \n",
              "2892   A Mumbai sessions court has said actor Alok Na...  \n",
              "63862  Ahead of completing three years as Maharashtra...  "
            ]
          },
          "execution_count": 3,
          "metadata": {},
          "output_type": "execute_result"
        }
      ],
      "source": [
        "# 데이터 샘플확인\n",
        "data.sample(10)"
      ]
    },
    {
      "cell_type": "code",
      "execution_count": null,
      "id": "8396dea1",
      "metadata": {
        "id": "8396dea1",
        "outputId": "fc20f4da-6276-4060-c2c7-f45ef91053c5"
      },
      "outputs": [
        {
          "name": "stdout",
          "output_type": "stream",
          "text": [
            "전체 샘플수 : 98401\n"
          ]
        }
      ],
      "source": [
        "# 데이터 개수 확인\n",
        "print('전체 샘플수 :', (len(data)))"
      ]
    },
    {
      "cell_type": "markdown",
      "id": "32d73ff3",
      "metadata": {
        "id": "32d73ff3"
      },
      "source": [
        "## Step 2. 데이터 전처리하기 (추상적 요약)"
      ]
    },
    {
      "cell_type": "markdown",
      "id": "31565ea5",
      "metadata": {
        "id": "31565ea5"
      },
      "source": [
        "### 중복 샘플과 NULL 값이 존재하는 샘플 제거"
      ]
    },
    {
      "cell_type": "code",
      "execution_count": null,
      "id": "f18c320c",
      "metadata": {
        "id": "f18c320c",
        "outputId": "086c5bac-79aa-4d75-88d7-7faa5451b125"
      },
      "outputs": [
        {
          "name": "stdout",
          "output_type": "stream",
          "text": [
            "headlines 열에서 중복을 배제한 유일한 샘플의 수 : 98280\n",
            "text 열에서 중복을 배제한 유일한 샘플의 수 : 98360\n"
          ]
        }
      ],
      "source": [
        "# 데이터의 중복 샘플 유무를 확인\n",
        "print('headlines 열에서 중복을 배제한 유일한 샘플의 수 :', data['headlines'].nunique())\n",
        "print('text 열에서 중복을 배제한 유일한 샘플의 수 :', data['text'].nunique())"
      ]
    },
    {
      "cell_type": "code",
      "execution_count": null,
      "id": "06c80cff",
      "metadata": {
        "id": "06c80cff",
        "outputId": "0638ab0e-f516-4793-f654-8dcc57d24f78"
      },
      "outputs": [
        {
          "name": "stdout",
          "output_type": "stream",
          "text": [
            "전체 샘플수 : 98262\n"
          ]
        }
      ],
      "source": [
        "# headlines, text 열의 중복 샘플 제거\n",
        "data.drop_duplicates(subset = ['headlines'], inplace=True)\n",
        "data.drop_duplicates(subset = ['text'], inplace=True)\n",
        "print('전체 샘플수 :', (len(data)))"
      ]
    },
    {
      "cell_type": "markdown",
      "id": "ddce29a5",
      "metadata": {
        "id": "ddce29a5"
      },
      "source": [
        "headlines와 text열에서 모두 중복을 제거한 결과 98262개의 샘플만 남았습니다."
      ]
    },
    {
      "cell_type": "code",
      "execution_count": null,
      "id": "b221e69d",
      "metadata": {
        "id": "b221e69d",
        "outputId": "8711e694-cd1a-4355-f5ec-058d16fde613"
      },
      "outputs": [
        {
          "name": "stdout",
          "output_type": "stream",
          "text": [
            "headlines    0\n",
            "text         0\n",
            "dtype: int64\n"
          ]
        }
      ],
      "source": [
        "# 데이터프레임에 Null 값이 있는지 확인\n",
        "print(data.isnull().sum())"
      ]
    },
    {
      "cell_type": "markdown",
      "id": "922fb815",
      "metadata": {
        "id": "922fb815"
      },
      "source": [
        "null 값은 없는 것으로 확인"
      ]
    },
    {
      "cell_type": "markdown",
      "id": "a7b19ea8",
      "metadata": {
        "id": "a7b19ea8"
      },
      "source": [
        "### 텍스트 정규화와 불용어 제거"
      ]
    },
    {
      "cell_type": "code",
      "execution_count": null,
      "id": "d8d27a6c",
      "metadata": {
        "id": "d8d27a6c",
        "outputId": "9d577055-df9b-4b05-eabd-464fb35533dd"
      },
      "outputs": [
        {
          "name": "stderr",
          "output_type": "stream",
          "text": [
            "[nltk_data] Downloading package stopwords to /aiffel/nltk_data...\n",
            "[nltk_data]   Unzipping corpora/stopwords.zip.\n"
          ]
        }
      ],
      "source": [
        "# NLTK 패키지에서 불용어 사전을 다운로드하고, 데이터 전처리를 위한 나머지 패키지 불러오기\n",
        "import nltk\n",
        "nltk.download('stopwords')\n",
        "\n",
        "import numpy as np\n",
        "import pandas as pd\n",
        "import os\n",
        "import re\n",
        "import matplotlib.pyplot as plt\n",
        "from nltk.corpus import stopwords\n",
        "from bs4 import BeautifulSoup\n",
        "from tensorflow.keras.preprocessing.text import Tokenizer\n",
        "from tensorflow.keras.preprocessing.sequence import pad_sequences\n",
        "import urllib.request\n",
        "import warnings\n",
        "warnings.filterwarnings(\"ignore\", category=UserWarning, module='bs4')"
      ]
    },
    {
      "cell_type": "code",
      "execution_count": null,
      "id": "dda9e118",
      "metadata": {
        "id": "dda9e118",
        "outputId": "24445722-1f67-4106-d063-9ec22579bb19"
      },
      "outputs": [
        {
          "name": "stdout",
          "output_type": "stream",
          "text": [
            "정규화 사전의 수:  120\n"
          ]
        }
      ],
      "source": [
        "# 텍스트 정규화를 위한 사전(dictionary)을 아래와 같이 구성\n",
        "contractions = {\"ain't\": \"is not\", \"aren't\": \"are not\",\"can't\": \"cannot\", \"'cause\": \"because\", \"could've\": \"could have\", \"couldn't\": \"could not\",\n",
        "                           \"didn't\": \"did not\",  \"doesn't\": \"does not\", \"don't\": \"do not\", \"hadn't\": \"had not\", \"hasn't\": \"has not\", \"haven't\": \"have not\",\n",
        "                           \"he'd\": \"he would\",\"he'll\": \"he will\", \"he's\": \"he is\", \"how'd\": \"how did\", \"how'd'y\": \"how do you\", \"how'll\": \"how will\", \"how's\": \"how is\",\n",
        "                           \"I'd\": \"I would\", \"I'd've\": \"I would have\", \"I'll\": \"I will\", \"I'll've\": \"I will have\",\"I'm\": \"I am\", \"I've\": \"I have\", \"i'd\": \"i would\",\n",
        "                           \"i'd've\": \"i would have\", \"i'll\": \"i will\",  \"i'll've\": \"i will have\",\"i'm\": \"i am\", \"i've\": \"i have\", \"isn't\": \"is not\", \"it'd\": \"it would\",\n",
        "                           \"it'd've\": \"it would have\", \"it'll\": \"it will\", \"it'll've\": \"it will have\",\"it's\": \"it is\", \"let's\": \"let us\", \"ma'am\": \"madam\",\n",
        "                           \"mayn't\": \"may not\", \"might've\": \"might have\",\"mightn't\": \"might not\",\"mightn't've\": \"might not have\", \"must've\": \"must have\",\n",
        "                           \"mustn't\": \"must not\", \"mustn't've\": \"must not have\", \"needn't\": \"need not\", \"needn't've\": \"need not have\",\"o'clock\": \"of the clock\",\n",
        "                           \"oughtn't\": \"ought not\", \"oughtn't've\": \"ought not have\", \"shan't\": \"shall not\", \"sha'n't\": \"shall not\", \"shan't've\": \"shall not have\",\n",
        "                           \"she'd\": \"she would\", \"she'd've\": \"she would have\", \"she'll\": \"she will\", \"she'll've\": \"she will have\", \"she's\": \"she is\",\n",
        "                           \"should've\": \"should have\", \"shouldn't\": \"should not\", \"shouldn't've\": \"should not have\", \"so've\": \"so have\",\"so's\": \"so as\",\n",
        "                           \"this's\": \"this is\",\"that'd\": \"that would\", \"that'd've\": \"that would have\", \"that's\": \"that is\", \"there'd\": \"there would\",\n",
        "                           \"there'd've\": \"there would have\", \"there's\": \"there is\", \"here's\": \"here is\",\"they'd\": \"they would\", \"they'd've\": \"they would have\",\n",
        "                           \"they'll\": \"they will\", \"they'll've\": \"they will have\", \"they're\": \"they are\", \"they've\": \"they have\", \"to've\": \"to have\",\n",
        "                           \"wasn't\": \"was not\", \"we'd\": \"we would\", \"we'd've\": \"we would have\", \"we'll\": \"we will\", \"we'll've\": \"we will have\", \"we're\": \"we are\",\n",
        "                           \"we've\": \"we have\", \"weren't\": \"were not\", \"what'll\": \"what will\", \"what'll've\": \"what will have\", \"what're\": \"what are\",\n",
        "                           \"what's\": \"what is\", \"what've\": \"what have\", \"when's\": \"when is\", \"when've\": \"when have\", \"where'd\": \"where did\", \"where's\": \"where is\",\n",
        "                           \"where've\": \"where have\", \"who'll\": \"who will\", \"who'll've\": \"who will have\", \"who's\": \"who is\", \"who've\": \"who have\",\n",
        "                           \"why's\": \"why is\", \"why've\": \"why have\", \"will've\": \"will have\", \"won't\": \"will not\", \"won't've\": \"will not have\",\n",
        "                           \"would've\": \"would have\", \"wouldn't\": \"would not\", \"wouldn't've\": \"would not have\", \"y'all\": \"you all\",\n",
        "                           \"y'all'd\": \"you all would\",\"y'all'd've\": \"you all would have\",\"y'all're\": \"you all are\",\"y'all've\": \"you all have\",\n",
        "                           \"you'd\": \"you would\", \"you'd've\": \"you would have\", \"you'll\": \"you will\", \"you'll've\": \"you will have\",\n",
        "                           \"you're\": \"you are\", \"you've\": \"you have\"}\n",
        "\n",
        "print(\"정규화 사전의 수: \", len(contractions))"
      ]
    },
    {
      "cell_type": "code",
      "execution_count": null,
      "id": "fd421734",
      "metadata": {
        "id": "fd421734",
        "outputId": "c3fc5795-e2a3-49cd-b631-1412591142b5"
      },
      "outputs": [
        {
          "name": "stdout",
          "output_type": "stream",
          "text": [
            "불용어 개수 : 179\n",
            "['i', 'me', 'my', 'myself', 'we', 'our', 'ours', 'ourselves', 'you', \"you're\", \"you've\", \"you'll\", \"you'd\", 'your', 'yours', 'yourself', 'yourselves', 'he', 'him', 'his', 'himself', 'she', \"she's\", 'her', 'hers', 'herself', 'it', \"it's\", 'its', 'itself', 'they', 'them', 'their', 'theirs', 'themselves', 'what', 'which', 'who', 'whom', 'this', 'that', \"that'll\", 'these', 'those', 'am', 'is', 'are', 'was', 'were', 'be', 'been', 'being', 'have', 'has', 'had', 'having', 'do', 'does', 'did', 'doing', 'a', 'an', 'the', 'and', 'but', 'if', 'or', 'because', 'as', 'until', 'while', 'of', 'at', 'by', 'for', 'with', 'about', 'against', 'between', 'into', 'through', 'during', 'before', 'after', 'above', 'below', 'to', 'from', 'up', 'down', 'in', 'out', 'on', 'off', 'over', 'under', 'again', 'further', 'then', 'once', 'here', 'there', 'when', 'where', 'why', 'how', 'all', 'any', 'both', 'each', 'few', 'more', 'most', 'other', 'some', 'such', 'no', 'nor', 'not', 'only', 'own', 'same', 'so', 'than', 'too', 'very', 's', 't', 'can', 'will', 'just', 'don', \"don't\", 'should', \"should've\", 'now', 'd', 'll', 'm', 'o', 're', 've', 'y', 'ain', 'aren', \"aren't\", 'couldn', \"couldn't\", 'didn', \"didn't\", 'doesn', \"doesn't\", 'hadn', \"hadn't\", 'hasn', \"hasn't\", 'haven', \"haven't\", 'isn', \"isn't\", 'ma', 'mightn', \"mightn't\", 'mustn', \"mustn't\", 'needn', \"needn't\", 'shan', \"shan't\", 'shouldn', \"shouldn't\", 'wasn', \"wasn't\", 'weren', \"weren't\", 'won', \"won't\", 'wouldn', \"wouldn't\"]\n"
          ]
        }
      ],
      "source": [
        "# 불용어 확인\n",
        "print('불용어 개수 :', len(stopwords.words('english') ))\n",
        "print(stopwords.words('english'))"
      ]
    },
    {
      "cell_type": "code",
      "execution_count": null,
      "id": "ef6aa738",
      "metadata": {
        "id": "ef6aa738"
      },
      "outputs": [],
      "source": [
        "# 데이터 전처리 함수\n",
        "def preprocess_sentence(sentence, remove_stopwords=True):\n",
        "    sentence = sentence.lower() # 텍스트 소문자화\n",
        "    sentence = BeautifulSoup(sentence, \"lxml\").text # <br />, <a href = ...> 등의 html 태그 제거\n",
        "    sentence = re.sub(r'\\([^)]*\\)', '', sentence) # 괄호로 닫힌 문자열 (...) 제거 Ex) my husband (and myself!) for => my husband for\n",
        "    sentence = re.sub('\"','', sentence) # 쌍따옴표 \" 제거\n",
        "    sentence = ' '.join([contractions[t] if t in contractions else t for t in sentence.split(\" \")]) # 약어 정규화\n",
        "    sentence = re.sub(r\"'s\\b\",\"\", sentence) # 소유격 제거. Ex) roland's -> roland\n",
        "    sentence = re.sub(\"[^a-zA-Z]\", \" \", sentence) # 영어 외 문자(숫자, 특수문자 등) 공백으로 변환\n",
        "    sentence = re.sub('[m]{2,}', 'mm', sentence) # m이 3개 이상이면 2개로 변경. Ex) ummmmmmm yeah -> umm yeah\n",
        "\n",
        "    # 불용어 제거 (Text)\n",
        "    if remove_stopwords:\n",
        "        tokens = ' '.join(word for word in sentence.split() if not word in stopwords.words('english') if len(word) > 1)\n",
        "    # 불용어 미제거 (Summary)\n",
        "    else:\n",
        "        tokens = ' '.join(word for word in sentence.split() if len(word) > 1)\n",
        "    return tokens"
      ]
    },
    {
      "cell_type": "code",
      "execution_count": null,
      "id": "ad949a09",
      "metadata": {
        "id": "ad949a09",
        "outputId": "3a2218d9-7344-4ebb-c076-e755ca1ff10a"
      },
      "outputs": [
        {
          "name": "stdout",
          "output_type": "stream",
          "text": [
            "headlines 전처리 후 결과:  ['upgrad learner switches career ml al salary hike', 'delhi techie wins free food swiggy one year cred', 'new zealand end rohit sharma led india match winning streak', 'aegon life iterm insurance plan helps customers save tax', 'known hirani yrs metoo claims true sonam']\n"
          ]
        }
      ],
      "source": [
        "# 전체 headlines 데이터에 대한 전처리\n",
        "clean_headlines = []\n",
        "\n",
        "for index, row in data.iterrows():\n",
        "    clean_headlines.append(preprocess_sentence(row['headlines']))\n",
        "\n",
        "# 전처리 후 출력\n",
        "print(\"headlines 전처리 후 결과: \", clean_headlines[:5])"
      ]
    },
    {
      "cell_type": "code",
      "execution_count": null,
      "id": "de3a7c61",
      "metadata": {
        "id": "de3a7c61",
        "outputId": "f8851463-f0f9-4613-9dbb-2e658593b23c"
      },
      "outputs": [
        {
          "name": "stdout",
          "output_type": "stream",
          "text": [
            "text 전처리 후 결과:  ['saurav kant alumnus upgrad iiit pg program machine learning artificial intelligence sr systems engineer infosys almost years work experience program upgrad degree career support helped transition data scientist tech mahindra salary hike upgrad online power learning powered lakh careers', 'kunal shah credit card bill payment platform cred gave users chance win free food swiggy one year pranav kaushik delhi techie bagged reward spending cred coins users get one cred coin per rupee bill paid used avail rewards brands like ixigo bookmyshow ubereats cult fit', 'new zealand defeated india wickets fourth odi hamilton thursday win first match five match odi series india lost international match rohit sharma captaincy consecutive victories dating back march match witnessed india getting seventh lowest total odi cricket history', 'aegon life iterm insurance plan customers enjoy tax benefits premiums paid save taxes plan provides life cover age years also customers options insure critical illnesses disability accidental death benefit rider life cover age years', 'speaking sexual harassment allegations rajkumar hirani sonam kapoor said known hirani many years true metoo movement get derailed metoo movement always believe woman case need reserve judgment added hirani accused assistant worked sanju']\n"
          ]
        }
      ],
      "source": [
        "# 전체 text 데이터에 대한 전처리\n",
        "clean_text = []\n",
        "\n",
        "for index, row in data.iterrows():\n",
        "    clean_text.append(preprocess_sentence(row['text']))\n",
        "\n",
        "# 전처리 후 출력\n",
        "print(\"text 전처리 후 결과: \", clean_text[:5])"
      ]
    },
    {
      "cell_type": "code",
      "execution_count": null,
      "id": "d73e2e6a",
      "metadata": {
        "id": "d73e2e6a"
      },
      "outputs": [],
      "source": [
        "# 보다 쉽게 확인하기 위해 데이터들을 데이터프레임에 재저장\n",
        "# 빈(empty) 값을 가진 샘플들이 있다면, 모두 Null 값을 가진 샘플로 대체\n",
        "data['text'] = clean_text\n",
        "data['headlines'] = clean_headlines\n",
        "\n",
        "# 빈 값을 Null 값으로 변환\n",
        "data.replace('', np.nan, inplace=True)"
      ]
    },
    {
      "cell_type": "code",
      "execution_count": null,
      "id": "f4406720",
      "metadata": {
        "id": "f4406720",
        "outputId": "ba23d2b9-6f30-4d97-8bbb-2e43af36a2d5"
      },
      "outputs": [
        {
          "data": {
            "text/plain": [
              "headlines    0\n",
              "text         0\n",
              "dtype: int64"
            ]
          },
          "execution_count": 15,
          "metadata": {},
          "output_type": "execute_result"
        }
      ],
      "source": [
        "# .isnull().sum()을 사용해서 Null 값이 생겼는지 확인\n",
        "data.isnull().sum()"
      ]
    },
    {
      "cell_type": "code",
      "execution_count": null,
      "id": "70054703",
      "metadata": {
        "id": "70054703",
        "outputId": "fcee285c-9472-47a0-c3ae-7f7200ff0f82"
      },
      "outputs": [
        {
          "name": "stdout",
          "output_type": "stream",
          "text": [
            "전체 샘플수 : 98262\n"
          ]
        }
      ],
      "source": [
        "print('전체 샘플수 :', (len(data)))"
      ]
    },
    {
      "cell_type": "markdown",
      "id": "e479d376",
      "metadata": {
        "id": "e479d376"
      },
      "source": [
        "### 샘플의 최대 길이 정하기"
      ]
    },
    {
      "cell_type": "code",
      "execution_count": null,
      "id": "bdc3a320",
      "metadata": {
        "id": "bdc3a320",
        "outputId": "83277102-3338-417c-dbab-6549dabfc1b1"
      },
      "outputs": [
        {
          "name": "stdout",
          "output_type": "stream",
          "text": [
            "헤드라인의 최소 길이 : 1\n",
            "헤드라인의 최대 길이 : 13\n",
            "헤드라인의 평균 길이 : 7.136787364393153\n",
            "텍스트의 최소 길이 : 1\n",
            "텍스트의 최대 길이 : 60\n",
            "텍스트의 평균 길이 : 35.10029309397326\n"
          ]
        },
        {
          "data": {
            "image/png": "[encoded data removed]",
            "text/plain": [
              "<Figure size 432x288 with 2 Axes>"
            ]
          },
          "metadata": {
            "needs_background": "light"
          },
          "output_type": "display_data"
        },
        {
          "data": {
            "image/png": "[encoded data removed]",
            "text/plain": [
              "<Figure size 432x288 with 1 Axes>"
            ]
          },
          "metadata": {
            "needs_background": "light"
          },
          "output_type": "display_data"
        },
        {
          "data": {
            "image/png": "[encoded data removed]",
            "text/plain": [
              "<Figure size 432x288 with 1 Axes>"
            ]
          },
          "metadata": {
            "needs_background": "light"
          },
          "output_type": "display_data"
        }
      ],
      "source": [
        "# headlines와 text의 최소, 최대, 평균 길이를 구하고 또한 길이 분포를 시각화\n",
        "# 길이 분포 출력\n",
        "import matplotlib.pyplot as plt\n",
        "\n",
        "headlines_len = [len(s.split()) for s in data['headlines']]\n",
        "text_len = [len(s.split()) for s in data['text']]\n",
        "\n",
        "print('헤드라인의 최소 길이 : {}'.format(np.min(headlines_len)))\n",
        "print('헤드라인의 최대 길이 : {}'.format(np.max(headlines_len)))\n",
        "print('헤드라인의 평균 길이 : {}'.format(np.mean(headlines_len)))\n",
        "print('텍스트의 최소 길이 : {}'.format(np.min(text_len)))\n",
        "print('텍스트의 최대 길이 : {}'.format(np.max(text_len)))\n",
        "print('텍스트의 평균 길이 : {}'.format(np.mean(text_len)))\n",
        "\n",
        "plt.subplot(1,2,1)\n",
        "plt.boxplot(headlines_len)\n",
        "plt.title('headlines')\n",
        "plt.subplot(1,2,2)\n",
        "plt.boxplot(text_len)\n",
        "plt.title('text')\n",
        "plt.tight_layout()\n",
        "plt.show()\n",
        "\n",
        "plt.title('Headlines')\n",
        "plt.hist(headlines_len, bins = 40)\n",
        "plt.xlabel('length of samples')\n",
        "plt.ylabel('number of samples')\n",
        "plt.show()\n",
        "\n",
        "plt.title('Text')\n",
        "plt.hist(text_len, bins = 40)\n",
        "plt.xlabel('length of samples')\n",
        "plt.ylabel('number of samples')\n",
        "plt.show()"
      ]
    },
    {
      "cell_type": "code",
      "execution_count": null,
      "id": "eefe5603",
      "metadata": {
        "id": "eefe5603"
      },
      "outputs": [],
      "source": [
        "# headlines의 최대 길이와 text의 적절한 최대 길이를 임의로 지정\n",
        "headlines_max_len = 12\n",
        "text_max_len = 50"
      ]
    },
    {
      "cell_type": "code",
      "execution_count": null,
      "id": "32b1db20",
      "metadata": {
        "id": "32b1db20"
      },
      "outputs": [],
      "source": [
        "# 훈련 데이터와 샘플의 길이를 입력하면, 데이터의 몇 %가 해당하는지 계산하는 함수\n",
        "def below_threshold_len(max_len, nested_list):\n",
        "  cnt = 0\n",
        "  for s in nested_list:\n",
        "    if(len(s.split()) <= max_len):\n",
        "        cnt = cnt + 1\n",
        "  print('전체 샘플 중 길이가 %s 이하인 샘플의 비율: %s'%(max_len, (cnt / len(nested_list))))"
      ]
    },
    {
      "cell_type": "code",
      "execution_count": null,
      "id": "2f24d188",
      "metadata": {
        "id": "2f24d188",
        "outputId": "a642c15a-274f-433c-ff68-92671b00162c"
      },
      "outputs": [
        {
          "name": "stdout",
          "output_type": "stream",
          "text": [
            "전체 샘플 중 길이가 12 이하인 샘플의 비율: 0.9999796462518573\n",
            "전체 샘플 중 길이가 50 이하인 샘플의 비율: 0.999857523763001\n"
          ]
        }
      ],
      "source": [
        "# 이렇게 만든 함수를 Text와 Summary에 적용해 우리가 결정한 임의의 길이가 몇%의 샘플까지 포함하는지 확인\n",
        "below_threshold_len(headlines_max_len, data['headlines'])\n",
        "below_threshold_len(text_max_len,  data['text'])"
      ]
    },
    {
      "cell_type": "markdown",
      "id": "392edbf6",
      "metadata": {
        "id": "392edbf6"
      },
      "source": [
        "모두 99.9%이상의 비율을 가지는 것을 보아 샘플의 길이를 조정하는 것이 데이터에 큰 영향을 주지 않을 것을 알 수 있다."
      ]
    },
    {
      "cell_type": "code",
      "execution_count": null,
      "id": "ddf9aa6c",
      "metadata": {
        "id": "ddf9aa6c",
        "outputId": "5f289304-bc77-4010-de22-401d06a8e258"
      },
      "outputs": [
        {
          "name": "stdout",
          "output_type": "stream",
          "text": [
            "전체 샘플수 : 98246\n"
          ]
        }
      ],
      "source": [
        "# headlines와 text를 담고 있는 data 데이터프레임을 위에서 임의로 정의한 headlines_max_len과 text_max_len의 길이보다 큰 샘플을 제외\n",
        "# apply 함수와 람다식을 사용하여 길이가 지정한 값보다 큰 \"headlines\" 샘플 제외\n",
        "data = data[data.apply(lambda x: len(x['headlines'].split()) <= headlines_max_len, axis=1)]\n",
        "\n",
        "# apply 함수와 람다식을 사용하여 길이가 지정한 값보다 큰 \"text\" 샘플 제외\n",
        "data = data[data.apply(lambda x: len(x['text'].split()) <= text_max_len, axis=1)]\n",
        "\n",
        "print('전체 샘플수 :', (len(data)))"
      ]
    },
    {
      "cell_type": "markdown",
      "id": "b063dd48",
      "metadata": {
        "id": "b063dd48"
      },
      "source": [
        "### 시작 토큰과 종료 토큰 추가하기"
      ]
    },
    {
      "cell_type": "code",
      "execution_count": null,
      "id": "0de52df8",
      "metadata": {
        "id": "0de52df8",
        "outputId": "5c82bee7-9796-46a8-827c-c65295c2e81a"
      },
      "outputs": [
        {
          "data": {
            "text/html": [
              "<div>\n",
              "<style scoped>\n",
              "    .dataframe tbody tr th:only-of-type {\n",
              "        vertical-align: middle;\n",
              "    }\n",
              "\n",
              "    .dataframe tbody tr th {\n",
              "        vertical-align: top;\n",
              "    }\n",
              "\n",
              "    .dataframe thead th {\n",
              "        text-align: right;\n",
              "    }\n",
              "</style>\n",
              "<table border=\"1\" class=\"dataframe\">\n",
              "  <thead>\n",
              "    <tr style=\"text-align: right;\">\n",
              "      <th></th>\n",
              "      <th>headlines</th>\n",
              "      <th>text</th>\n",
              "      <th>decoder_input</th>\n",
              "      <th>decoder_target</th>\n",
              "    </tr>\n",
              "  </thead>\n",
              "  <tbody>\n",
              "    <tr>\n",
              "      <th>0</th>\n",
              "      <td>upgrad learner switches career ml al salary hike</td>\n",
              "      <td>saurav kant alumnus upgrad iiit pg program mac...</td>\n",
              "      <td>sostoken upgrad learner switches career ml al ...</td>\n",
              "      <td>upgrad learner switches career ml al salary hi...</td>\n",
              "    </tr>\n",
              "    <tr>\n",
              "      <th>1</th>\n",
              "      <td>delhi techie wins free food swiggy one year cred</td>\n",
              "      <td>kunal shah credit card bill payment platform c...</td>\n",
              "      <td>sostoken delhi techie wins free food swiggy on...</td>\n",
              "      <td>delhi techie wins free food swiggy one year cr...</td>\n",
              "    </tr>\n",
              "    <tr>\n",
              "      <th>2</th>\n",
              "      <td>new zealand end rohit sharma led india match w...</td>\n",
              "      <td>new zealand defeated india wickets fourth odi ...</td>\n",
              "      <td>sostoken new zealand end rohit sharma led indi...</td>\n",
              "      <td>new zealand end rohit sharma led india match w...</td>\n",
              "    </tr>\n",
              "    <tr>\n",
              "      <th>3</th>\n",
              "      <td>aegon life iterm insurance plan helps customer...</td>\n",
              "      <td>aegon life iterm insurance plan customers enjo...</td>\n",
              "      <td>sostoken aegon life iterm insurance plan helps...</td>\n",
              "      <td>aegon life iterm insurance plan helps customer...</td>\n",
              "    </tr>\n",
              "    <tr>\n",
              "      <th>4</th>\n",
              "      <td>known hirani yrs metoo claims true sonam</td>\n",
              "      <td>speaking sexual harassment allegations rajkuma...</td>\n",
              "      <td>sostoken known hirani yrs metoo claims true sonam</td>\n",
              "      <td>known hirani yrs metoo claims true sonam eostoken</td>\n",
              "    </tr>\n",
              "  </tbody>\n",
              "</table>\n",
              "</div>"
            ],
            "text/plain": [
              "                                           headlines  \\\n",
              "0   upgrad learner switches career ml al salary hike   \n",
              "1   delhi techie wins free food swiggy one year cred   \n",
              "2  new zealand end rohit sharma led india match w...   \n",
              "3  aegon life iterm insurance plan helps customer...   \n",
              "4           known hirani yrs metoo claims true sonam   \n",
              "\n",
              "                                                text  \\\n",
              "0  saurav kant alumnus upgrad iiit pg program mac...   \n",
              "1  kunal shah credit card bill payment platform c...   \n",
              "2  new zealand defeated india wickets fourth odi ...   \n",
              "3  aegon life iterm insurance plan customers enjo...   \n",
              "4  speaking sexual harassment allegations rajkuma...   \n",
              "\n",
              "                                       decoder_input  \\\n",
              "0  sostoken upgrad learner switches career ml al ...   \n",
              "1  sostoken delhi techie wins free food swiggy on...   \n",
              "2  sostoken new zealand end rohit sharma led indi...   \n",
              "3  sostoken aegon life iterm insurance plan helps...   \n",
              "4  sostoken known hirani yrs metoo claims true sonam   \n",
              "\n",
              "                                      decoder_target  \n",
              "0  upgrad learner switches career ml al salary hi...  \n",
              "1  delhi techie wins free food swiggy one year cr...  \n",
              "2  new zealand end rohit sharma led india match w...  \n",
              "3  aegon life iterm insurance plan helps customer...  \n",
              "4  known hirani yrs metoo claims true sonam eostoken  "
            ]
          },
          "execution_count": 22,
          "metadata": {},
          "output_type": "execute_result"
        }
      ],
      "source": [
        "# text 데이터에는 시작 토큰과 종료 토큰을 추가한다.\n",
        "data['decoder_input'] = data['headlines'].apply(lambda x : 'sostoken '+ x)\n",
        "data['decoder_target'] = data['headlines'].apply(lambda x : x + ' eostoken')\n",
        "data.head()"
      ]
    },
    {
      "cell_type": "code",
      "execution_count": null,
      "id": "c4d5f9e6",
      "metadata": {
        "id": "c4d5f9e6"
      },
      "outputs": [],
      "source": [
        "# 인코더의 입력, 디코더의 입력과 레이블을 각각 다시 Numpy 타입으로 저장\n",
        "encoder_input = np.array(data['text']) # 인코더의 입력\n",
        "decoder_input = np.array(data['decoder_input']) # 디코더의 입력\n",
        "decoder_target = np.array(data['decoder_target']) # 디코더의 레이블"
      ]
    },
    {
      "cell_type": "code",
      "execution_count": null,
      "id": "280b6b80",
      "metadata": {
        "id": "280b6b80",
        "outputId": "0a2b8804-89a6-4015-8b92-86c02e80d36d"
      },
      "outputs": [
        {
          "name": "stdout",
          "output_type": "stream",
          "text": [
            "[59741 37286 25775 ... 92432 25583 64331]\n"
          ]
        }
      ],
      "source": [
        "# encoder_input과 크기와 형태가 같은 순서가 섞인 정수 시퀀스를 만들기\n",
        "indices = np.arange(encoder_input.shape[0])\n",
        "np.random.shuffle(indices)\n",
        "print(indices)"
      ]
    },
    {
      "cell_type": "code",
      "execution_count": null,
      "id": "ce398c5c",
      "metadata": {
        "id": "ce398c5c"
      },
      "outputs": [],
      "source": [
        "# 이 정수 시퀀스를 이용해 다시 데이터의 샘플 순서를 정의\n",
        "encoder_input = encoder_input[indices]\n",
        "decoder_input = decoder_input[indices]\n",
        "decoder_target = decoder_target[indices]"
      ]
    },
    {
      "cell_type": "code",
      "execution_count": null,
      "id": "75feecf5",
      "metadata": {
        "id": "75feecf5",
        "outputId": "a41974d5-5760-4f58-c8b1-a8a1c460ea60"
      },
      "outputs": [
        {
          "name": "stdout",
          "output_type": "stream",
          "text": [
            "테스트 데이터의 수 : 19649\n"
          ]
        }
      ],
      "source": [
        "# 섞인 데이터를 8:2의 비율로 훈련 데이터와 테스트 데이터로 분리\n",
        "n_of_val = int(len(encoder_input)*0.2)\n",
        "print('테스트 데이터의 수 :', n_of_val)"
      ]
    },
    {
      "cell_type": "code",
      "execution_count": null,
      "id": "c6532596",
      "metadata": {
        "id": "c6532596",
        "outputId": "57287d04-5cb5-4766-ef15-db66bbff215f"
      },
      "outputs": [
        {
          "name": "stdout",
          "output_type": "stream",
          "text": [
            "훈련 데이터의 개수 : 78597\n",
            "훈련 레이블의 개수 : 78597\n",
            "테스트 데이터의 개수 : 19649\n",
            "테스트 레이블의 개수 : 19649\n"
          ]
        }
      ],
      "source": [
        "encoder_input_train = encoder_input[:-n_of_val]\n",
        "decoder_input_train = decoder_input[:-n_of_val]\n",
        "decoder_target_train = decoder_target[:-n_of_val]\n",
        "\n",
        "encoder_input_test = encoder_input[-n_of_val:]\n",
        "decoder_input_test = decoder_input[-n_of_val:]\n",
        "decoder_target_test = decoder_target[-n_of_val:]\n",
        "\n",
        "print('훈련 데이터의 개수 :', len(encoder_input_train))\n",
        "print('훈련 레이블의 개수 :', len(decoder_input_train))\n",
        "print('테스트 데이터의 개수 :', len(encoder_input_test))\n",
        "print('테스트 레이블의 개수 :', len(decoder_input_test))"
      ]
    },
    {
      "cell_type": "markdown",
      "id": "49c349f2",
      "metadata": {
        "id": "49c349f2"
      },
      "source": [
        "### 단어 집합(vocabulary) 만들기 및 정수 인코딩"
      ]
    },
    {
      "cell_type": "code",
      "execution_count": null,
      "id": "cba9b79d",
      "metadata": {
        "id": "cba9b79d"
      },
      "outputs": [],
      "source": [
        "src_tokenizer = Tokenizer() # 토크나이저 정의\n",
        "src_tokenizer.fit_on_texts(encoder_input_train) # 입력된 데이터로부터 단어 집합 생성"
      ]
    },
    {
      "cell_type": "code",
      "execution_count": null,
      "id": "1c19e45d",
      "metadata": {
        "id": "1c19e45d",
        "outputId": "59e2d82b-f342-4019-b6ac-cec51ce904bf"
      },
      "outputs": [
        {
          "name": "stdout",
          "output_type": "stream",
          "text": [
            "단어 집합(vocabulary)의 크기 : 69431\n",
            "등장 빈도가 6번 이하인 희귀 단어의 수: 47307\n",
            "단어 집합에서 희귀 단어를 제외시킬 경우의 단어 집합의 크기 22124\n",
            "단어 집합에서 희귀 단어의 비율: 68.13527098846338\n",
            "전체 등장 빈도에서 희귀 단어 등장 빈도 비율: 3.4765342096620904\n"
          ]
        }
      ],
      "source": [
        "# 등장 빈도수가 7회 미만인 단어들이 이 데이터에서 얼만큼의 비중을 차지하는지 확인\n",
        "threshold = 7\n",
        "total_cnt = len(src_tokenizer.word_index) # 단어의 수\n",
        "rare_cnt = 0 # 등장 빈도수가 threshold보다 작은 단어의 개수를 카운트\n",
        "total_freq = 0 # 훈련 데이터의 전체 단어 빈도수 총 합\n",
        "rare_freq = 0 # 등장 빈도수가 threshold보다 작은 단어의 등장 빈도수의 총 합\n",
        "\n",
        "# 단어와 빈도수의 쌍(pair)을 key와 value로 받는다.\n",
        "for key, value in src_tokenizer.word_counts.items():\n",
        "    total_freq = total_freq + value\n",
        "\n",
        "    # 단어의 등장 빈도수가 threshold보다 작으면\n",
        "    if(value < threshold):\n",
        "        rare_cnt = rare_cnt + 1\n",
        "        rare_freq = rare_freq + value\n",
        "\n",
        "print('단어 집합(vocabulary)의 크기 :', total_cnt)\n",
        "print('등장 빈도가 %s번 이하인 희귀 단어의 수: %s'%(threshold - 1, rare_cnt))\n",
        "print('단어 집합에서 희귀 단어를 제외시킬 경우의 단어 집합의 크기 %s'%(total_cnt - rare_cnt))\n",
        "print(\"단어 집합에서 희귀 단어의 비율:\", (rare_cnt / total_cnt)*100)\n",
        "print(\"전체 등장 빈도에서 희귀 단어 등장 빈도 비율:\", (rare_freq / total_freq)*100)"
      ]
    },
    {
      "cell_type": "code",
      "execution_count": null,
      "id": "c64ccef2",
      "metadata": {
        "id": "c64ccef2"
      },
      "outputs": [],
      "source": [
        "src_vocab = 20000  # 단어 집합에서 희귀 단어를 제외시킬 경우의 단어 집합의 크기가 22124이므로 이와 비슷한 20000으로 지정\n",
        "src_tokenizer = Tokenizer(num_words=src_vocab) # 단어 집합의 크기를 20,000으로 제한\n",
        "src_tokenizer.fit_on_texts(encoder_input_train) # 단어 집합 재생성"
      ]
    },
    {
      "cell_type": "code",
      "execution_count": null,
      "id": "f4ce9142",
      "metadata": {
        "id": "f4ce9142",
        "outputId": "ab7db660-de75-4998-a360-704ae663c42e"
      },
      "outputs": [
        {
          "name": "stdout",
          "output_type": "stream",
          "text": [
            "[[276, 225, 157, 1112, 124, 4842, 6401, 7865, 1976, 418, 118, 427, 1732, 799, 2839, 7865, 2364, 2839, 32, 431, 386, 153, 7865, 2364, 800, 1732, 6401, 60, 1976, 837, 2483, 13328, 153, 11572], [37, 215, 2583, 89, 59, 988, 181, 3, 13, 3312, 6, 342, 1145, 7, 2546, 615, 894, 3312, 436, 463, 57, 3600], [10, 301, 57, 1582, 10258, 18377, 48, 108, 42, 1007, 430, 672, 14752, 2012, 48, 42, 158, 597, 301, 2711, 172, 6, 2397, 10, 1516, 788, 146, 496, 1233, 2719]]\n"
          ]
        }
      ],
      "source": [
        "# 텍스트 시퀀스를 정수 시퀀스로 변환\n",
        "encoder_input_train = src_tokenizer.texts_to_sequences(encoder_input_train)\n",
        "encoder_input_test = src_tokenizer.texts_to_sequences(encoder_input_test)\n",
        "\n",
        "# 잘 진행되었는지 샘플 출력\n",
        "print(encoder_input_train[:3])"
      ]
    },
    {
      "cell_type": "code",
      "execution_count": null,
      "id": "f725cfd7",
      "metadata": {
        "id": "f725cfd7"
      },
      "outputs": [],
      "source": [
        "tar_tokenizer = Tokenizer()\n",
        "tar_tokenizer.fit_on_texts(decoder_input_train)"
      ]
    },
    {
      "cell_type": "code",
      "execution_count": null,
      "id": "3db1a255",
      "metadata": {
        "id": "3db1a255",
        "outputId": "f9d0a409-11ac-49cd-dd6d-a56bf3c9e460"
      },
      "outputs": [
        {
          "name": "stdout",
          "output_type": "stream",
          "text": [
            "단어 집합(vocabulary)의 크기 : 29903\n",
            "등장 빈도가 5번 이하인 희귀 단어의 수: 19668\n",
            "단어 집합에서 희귀 단어를 제외시킬 경우의 단어 집합의 크기 10235\n",
            "단어 집합에서 희귀 단어의 비율: 65.77266495000501\n",
            "전체 등장 빈도에서 희귀 단어 등장 빈도 비율: 5.896234529480391\n"
          ]
        }
      ],
      "source": [
        "# 등장 빈도수가 6회 미만인 단어들이 이 데이터에서 얼만큼의 비중을 차지하는지 확인\n",
        "threshold = 6\n",
        "total_cnt = len(tar_tokenizer.word_index) # 단어의 수\n",
        "rare_cnt = 0 # 등장 빈도수가 threshold보다 작은 단어의 개수를 카운트\n",
        "total_freq = 0 # 훈련 데이터의 전체 단어 빈도수 총 합\n",
        "rare_freq = 0 # 등장 빈도수가 threshold보다 작은 단어의 등장 빈도수의 총 합\n",
        "\n",
        "# 단어와 빈도수의 쌍(pair)을 key와 value로 받는다.\n",
        "for key, value in tar_tokenizer.word_counts.items():\n",
        "    total_freq = total_freq + value\n",
        "\n",
        "    # 단어의 등장 빈도수가 threshold보다 작으면\n",
        "    if(value < threshold):\n",
        "        rare_cnt = rare_cnt + 1\n",
        "        rare_freq = rare_freq + value\n",
        "\n",
        "print('단어 집합(vocabulary)의 크기 :', total_cnt)\n",
        "print('등장 빈도가 %s번 이하인 희귀 단어의 수: %s'%(threshold - 1, rare_cnt))\n",
        "print('단어 집합에서 희귀 단어를 제외시킬 경우의 단어 집합의 크기 %s'%(total_cnt - rare_cnt))\n",
        "print(\"단어 집합에서 희귀 단어의 비율:\", (rare_cnt / total_cnt)*100)\n",
        "print(\"전체 등장 빈도에서 희귀 단어 등장 빈도 비율:\", (rare_freq / total_freq)*100)"
      ]
    },
    {
      "cell_type": "code",
      "execution_count": null,
      "id": "be04124d",
      "metadata": {
        "id": "be04124d",
        "outputId": "e6bd0ab6-a255-458e-e314-23fe7359fb75"
      },
      "outputs": [
        {
          "name": "stdout",
          "output_type": "stream",
          "text": [
            "input\n",
            "input  [[1, 91, 133, 168, 623, 42, 5549, 375], [1, 5, 48, 5302, 3079, 59], [1, 222, 9375, 1273, 6, 15, 815, 851], [1, 776, 1550, 2410, 4720, 1155, 49], [1, 8, 5, 2158, 4721, 23, 73]]\n",
            "target\n",
            "decoder  [[91, 133, 168, 623, 42, 5549, 375, 2], [5, 48, 5302, 3079, 59, 2], [222, 9375, 1273, 6, 15, 815, 851, 2], [776, 1550, 2410, 4720, 1155, 49, 2], [8, 5, 2158, 4721, 23, 73, 2]]\n"
          ]
        }
      ],
      "source": [
        "tar_vocab = 10000\n",
        "tar_tokenizer = Tokenizer(num_words=tar_vocab)\n",
        "tar_tokenizer.fit_on_texts(decoder_input_train)\n",
        "tar_tokenizer.fit_on_texts(decoder_target_train)\n",
        "\n",
        "# 텍스트 시퀀스를 정수 시퀀스로 변환\n",
        "decoder_input_train = tar_tokenizer.texts_to_sequences(decoder_input_train)\n",
        "decoder_target_train = tar_tokenizer.texts_to_sequences(decoder_target_train)\n",
        "decoder_input_test = tar_tokenizer.texts_to_sequences(decoder_input_test)\n",
        "decoder_target_test = tar_tokenizer.texts_to_sequences(decoder_target_test)\n",
        "\n",
        "# 잘 변환되었는지 확인\n",
        "print('input')\n",
        "print('input ',decoder_input_train[:5])\n",
        "print('target')\n",
        "print('decoder ',decoder_target_train[:5])"
      ]
    },
    {
      "cell_type": "code",
      "execution_count": null,
      "id": "18f68b25",
      "metadata": {
        "id": "18f68b25",
        "outputId": "41cd693a-79e1-49bb-8081-65ab8efe8782"
      },
      "outputs": [
        {
          "name": "stdout",
          "output_type": "stream",
          "text": [
            "삭제할 훈련 데이터의 개수 : 1\n",
            "삭제할 테스트 데이터의 개수 : 1\n",
            "훈련 데이터의 개수 : 78596\n",
            "훈련 레이블의 개수 : 78596\n",
            "테스트 데이터의 개수 : 19648\n",
            "테스트 레이블의 개수 : 19648\n"
          ]
        }
      ],
      "source": [
        "# 훈련 데이터와 테스트 데이터에 대해서 요약문의 길이가 1인 경우의 인덱스를 각각 drop_train과 drop_test에 라는 변수에 저장\n",
        "# 이 샘플들은 모두 삭제함\n",
        "drop_train = [index for index, sentence in enumerate(decoder_input_train) if len(sentence) == 1]\n",
        "drop_test = [index for index, sentence in enumerate(decoder_input_test) if len(sentence) == 1]\n",
        "\n",
        "print('삭제할 훈련 데이터의 개수 :', len(drop_train))\n",
        "print('삭제할 테스트 데이터의 개수 :', len(drop_test))\n",
        "\n",
        "encoder_input_train = [sentence for index, sentence in enumerate(encoder_input_train) if index not in drop_train]\n",
        "decoder_input_train = [sentence for index, sentence in enumerate(decoder_input_train) if index not in drop_train]\n",
        "decoder_target_train = [sentence for index, sentence in enumerate(decoder_target_train) if index not in drop_train]\n",
        "\n",
        "encoder_input_test = [sentence for index, sentence in enumerate(encoder_input_test) if index not in drop_test]\n",
        "decoder_input_test = [sentence for index, sentence in enumerate(decoder_input_test) if index not in drop_test]\n",
        "decoder_target_test = [sentence for index, sentence in enumerate(decoder_target_test) if index not in drop_test]\n",
        "\n",
        "print('훈련 데이터의 개수 :', len(encoder_input_train))\n",
        "print('훈련 레이블의 개수 :', len(decoder_input_train))\n",
        "print('테스트 데이터의 개수 :', len(encoder_input_test))\n",
        "print('테스트 레이블의 개수 :', len(decoder_input_test))"
      ]
    },
    {
      "cell_type": "markdown",
      "id": "3730c808",
      "metadata": {
        "id": "3730c808"
      },
      "source": [
        "### 패딩하기"
      ]
    },
    {
      "cell_type": "code",
      "execution_count": null,
      "id": "5ca80ac0",
      "metadata": {
        "id": "5ca80ac0",
        "outputId": "cdcfedc2-2f7d-424b-9b58-5c11ddc383a2"
      },
      "outputs": [
        {
          "name": "stdout",
          "output_type": "stream",
          "text": [
            "전처리 종료\n"
          ]
        }
      ],
      "source": [
        "# 최대 길이보다 짧은 데이터들은 뒤의 공간에 숫자 0을 넣어 최대 길이로 길이를 맞춤\n",
        "encoder_input_train = pad_sequences(encoder_input_train, maxlen=text_max_len, padding='post')\n",
        "encoder_input_test = pad_sequences(encoder_input_test, maxlen=text_max_len, padding='post')\n",
        "decoder_input_train = pad_sequences(decoder_input_train, maxlen=headlines_max_len, padding='post')\n",
        "decoder_target_train = pad_sequences(decoder_target_train, maxlen=headlines_max_len, padding='post')\n",
        "decoder_input_test = pad_sequences(decoder_input_test, maxlen=headlines_max_len, padding='post')\n",
        "decoder_target_test = pad_sequences(decoder_target_test, maxlen=headlines_max_len, padding='post')\n",
        "print('전처리 종료')"
      ]
    },
    {
      "cell_type": "markdown",
      "id": "78e187bb",
      "metadata": {
        "id": "78e187bb"
      },
      "source": [
        "### 모델 설계하기"
      ]
    },
    {
      "cell_type": "code",
      "execution_count": null,
      "id": "fbf226ac",
      "metadata": {
        "id": "fbf226ac"
      },
      "outputs": [],
      "source": [
        "# API를 이용해서 인코더를 설계\n",
        "from tensorflow.keras.layers import Input, LSTM, Embedding, Dense, Concatenate, TimeDistributed\n",
        "from tensorflow.keras.models import Model\n",
        "from tensorflow.keras.callbacks import EarlyStopping, ModelCheckpoint\n",
        "\n",
        "\n",
        "# 인코더 설계 시작\n",
        "embedding_dim = 128\n",
        "hidden_size = 256\n",
        "\n",
        "# 인코더\n",
        "encoder_inputs = Input(shape=(text_max_len,))\n",
        "\n",
        "# 인코더의 임베딩 층\n",
        "enc_emb = Embedding(src_vocab, embedding_dim)(encoder_inputs)\n",
        "\n",
        "# 인코더의 LSTM 1\n",
        "# encoder_lstm1 = LSTM(hidden_size, return_sequences=True, return_state=True ,dropout = 0.4, recurrent_dropout = 0.4)\n",
        "encoder_lstm1 = LSTM(hidden_size, return_sequences=True, return_state=True ,dropout = 0.4)\n",
        "encoder_output1, state_h1, state_c1 = encoder_lstm1(enc_emb)\n",
        "\n",
        "# 인코더의 LSTM 2\n",
        "encoder_lstm2 = LSTM(hidden_size, return_sequences=True, return_state=True ,dropout = 0.4)\n",
        "encoder_output2, state_h2, state_c2 = encoder_lstm2(encoder_output1)\n",
        "\n",
        "# 인코더의 LSTM 3\n",
        "encoder_lstm3 = LSTM(hidden_size, return_sequences=False, return_state=True ,dropout = 0.4)\n",
        "encoder_outputs, state_h, state_c = encoder_lstm2(encoder_output2)"
      ]
    },
    {
      "cell_type": "code",
      "execution_count": null,
      "id": "dd75972e",
      "metadata": {
        "id": "dd75972e"
      },
      "outputs": [],
      "source": [
        "# 디코더 설계\n",
        "decoder_inputs = Input(shape=(None,))\n",
        "\n",
        "# 디코더의 임베딩 층\n",
        "dec_emb_layer = Embedding(tar_vocab, embedding_dim)\n",
        "dec_emb = dec_emb_layer(decoder_inputs)\n",
        "\n",
        "# 디코더의 LSTM\n",
        "# decoder_lstm = LSTM(hidden_size, return_sequences=True, return_state=True, dropout=0.4, recurrent_dropout=0.2)\n",
        "decoder_lstm = LSTM(hidden_size, return_sequences=True, return_state=True, dropout=0.4)\n",
        "decoder_outputs, _, _ = decoder_lstm(dec_emb, initial_state=[state_h, state_c])"
      ]
    },
    {
      "cell_type": "code",
      "execution_count": null,
      "id": "d8469371",
      "metadata": {
        "id": "d8469371",
        "outputId": "383e4a89-44fc-44af-c6ca-a7ad521c2dde"
      },
      "outputs": [
        {
          "name": "stdout",
          "output_type": "stream",
          "text": [
            "Model: \"model\"\n",
            "__________________________________________________________________________________________________\n",
            "Layer (type)                    Output Shape         Param #     Connected to                     \n",
            "==================================================================================================\n",
            "input_1 (InputLayer)            [(None, 50)]         0                                            \n",
            "__________________________________________________________________________________________________\n",
            "embedding (Embedding)           (None, 50, 128)      2560000     input_1[0][0]                    \n",
            "__________________________________________________________________________________________________\n",
            "lstm (LSTM)                     [(None, 50, 256), (N 394240      embedding[0][0]                  \n",
            "__________________________________________________________________________________________________\n",
            "input_2 (InputLayer)            [(None, None)]       0                                            \n",
            "__________________________________________________________________________________________________\n",
            "lstm_1 (LSTM)                   [(None, 50, 256), (N 525312      lstm[0][0]                       \n",
            "                                                                 lstm_1[0][0]                     \n",
            "__________________________________________________________________________________________________\n",
            "embedding_1 (Embedding)         (None, None, 128)    1280000     input_2[0][0]                    \n",
            "__________________________________________________________________________________________________\n",
            "lstm_3 (LSTM)                   [(None, None, 256),  394240      embedding_1[0][0]                \n",
            "                                                                 lstm_1[1][1]                     \n",
            "                                                                 lstm_1[1][2]                     \n",
            "__________________________________________________________________________________________________\n",
            "dense (Dense)                   (None, None, 10000)  2570000     lstm_3[0][0]                     \n",
            "==================================================================================================\n",
            "Total params: 7,723,792\n",
            "Trainable params: 7,723,792\n",
            "Non-trainable params: 0\n",
            "__________________________________________________________________________________________________\n"
          ]
        }
      ],
      "source": [
        "# 디코더의 출력층\n",
        "decoder_softmax_layer = Dense(tar_vocab, activation='softmax')\n",
        "decoder_softmax_outputs = decoder_softmax_layer(decoder_outputs)\n",
        "\n",
        "# 모델 정의\n",
        "model = Model([encoder_inputs, decoder_inputs], decoder_softmax_outputs)\n",
        "model.summary()"
      ]
    },
    {
      "cell_type": "markdown",
      "id": "0aa53d65",
      "metadata": {
        "id": "0aa53d65"
      },
      "source": [
        "## Step 3. 어텐션 메커니즘 사용하기 (추상적 요약)"
      ]
    },
    {
      "cell_type": "code",
      "execution_count": null,
      "id": "66999041",
      "metadata": {
        "scrolled": false,
        "id": "66999041",
        "outputId": "5d257515-9fdf-4486-94c9-860c2f6e294c"
      },
      "outputs": [
        {
          "name": "stdout",
          "output_type": "stream",
          "text": [
            "Model: \"model_1\"\n",
            "__________________________________________________________________________________________________\n",
            "Layer (type)                    Output Shape         Param #     Connected to                     \n",
            "==================================================================================================\n",
            "input_1 (InputLayer)            [(None, 50)]         0                                            \n",
            "__________________________________________________________________________________________________\n",
            "embedding (Embedding)           (None, 50, 128)      2560000     input_1[0][0]                    \n",
            "__________________________________________________________________________________________________\n",
            "lstm (LSTM)                     [(None, 50, 256), (N 394240      embedding[0][0]                  \n",
            "__________________________________________________________________________________________________\n",
            "input_2 (InputLayer)            [(None, None)]       0                                            \n",
            "__________________________________________________________________________________________________\n",
            "lstm_1 (LSTM)                   [(None, 50, 256), (N 525312      lstm[0][0]                       \n",
            "                                                                 lstm_1[0][0]                     \n",
            "__________________________________________________________________________________________________\n",
            "embedding_1 (Embedding)         (None, None, 128)    1280000     input_2[0][0]                    \n",
            "__________________________________________________________________________________________________\n",
            "lstm_3 (LSTM)                   [(None, None, 256),  394240      embedding_1[0][0]                \n",
            "                                                                 lstm_1[1][1]                     \n",
            "                                                                 lstm_1[1][2]                     \n",
            "__________________________________________________________________________________________________\n",
            "attention_layer (AdditiveAttent (None, None, 256)    256         lstm_3[0][0]                     \n",
            "                                                                 lstm_1[1][0]                     \n",
            "__________________________________________________________________________________________________\n",
            "concat_layer (Concatenate)      (None, None, 512)    0           lstm_3[0][0]                     \n",
            "                                                                 attention_layer[0][0]            \n",
            "__________________________________________________________________________________________________\n",
            "dense_1 (Dense)                 (None, None, 10000)  5130000     concat_layer[0][0]               \n",
            "==================================================================================================\n",
            "Total params: 10,284,048\n",
            "Trainable params: 10,284,048\n",
            "Non-trainable params: 0\n",
            "__________________________________________________________________________________________________\n"
          ]
        }
      ],
      "source": [
        "from tensorflow.keras.layers import AdditiveAttention\n",
        "\n",
        "# 어텐션 층(어텐션 함수)\n",
        "attn_layer = AdditiveAttention(name='attention_layer')\n",
        "\n",
        "# 인코더와 디코더의 모든 time step의 hidden state를 어텐션 층에 전달하고 결과를 리턴\n",
        "attn_out = attn_layer([decoder_outputs, encoder_outputs])\n",
        "\n",
        "\n",
        "# 어텐션의 결과와 디코더의 hidden state들을 연결\n",
        "decoder_concat_input = Concatenate(axis=-1, name='concat_layer')([decoder_outputs, attn_out])\n",
        "\n",
        "# 디코더의 출력층\n",
        "decoder_softmax_layer = Dense(tar_vocab, activation='softmax')\n",
        "decoder_softmax_outputs = decoder_softmax_layer(decoder_concat_input)\n",
        "\n",
        "# 모델 정의\n",
        "model = Model([encoder_inputs, decoder_inputs], decoder_softmax_outputs)\n",
        "model.summary()"
      ]
    },
    {
      "cell_type": "markdown",
      "id": "aaf67598",
      "metadata": {
        "id": "aaf67598"
      },
      "source": [
        "### 모델 훈련"
      ]
    },
    {
      "cell_type": "code",
      "execution_count": null,
      "id": "10ef5f1d",
      "metadata": {
        "id": "10ef5f1d",
        "outputId": "bb293930-c33d-413c-83c7-0928041fab2f"
      },
      "outputs": [
        {
          "name": "stdout",
          "output_type": "stream",
          "text": [
            "Epoch 1/50\n",
            "308/308 [==============================] - 66s 104ms/step - loss: 4.7123 - val_loss: 4.3654\n",
            "Epoch 2/50\n",
            "308/308 [==============================] - 31s 102ms/step - loss: 4.2089 - val_loss: 4.0616\n",
            "Epoch 3/50\n",
            "308/308 [==============================] - 32s 104ms/step - loss: 3.9412 - val_loss: 3.9034\n",
            "Epoch 4/50\n",
            "308/308 [==============================] - 33s 106ms/step - loss: 3.7377 - val_loss: 3.7674\n",
            "Epoch 5/50\n",
            "308/308 [==============================] - 33s 108ms/step - loss: 3.5733 - val_loss: 3.5946\n",
            "Epoch 6/50\n",
            "308/308 [==============================] - 33s 107ms/step - loss: 3.4329 - val_loss: 3.5435\n",
            "Epoch 7/50\n",
            "308/308 [==============================] - 33s 107ms/step - loss: 3.3126 - val_loss: 3.5083\n",
            "Epoch 8/50\n",
            "308/308 [==============================] - 33s 108ms/step - loss: 3.2093 - val_loss: 3.4220\n",
            "Epoch 9/50\n",
            "308/308 [==============================] - 33s 107ms/step - loss: 3.1144 - val_loss: 3.3634\n",
            "Epoch 10/50\n",
            "308/308 [==============================] - 33s 107ms/step - loss: 3.0236 - val_loss: 3.3313\n",
            "Epoch 11/50\n",
            "308/308 [==============================] - 33s 107ms/step - loss: 2.9438 - val_loss: 3.2927\n",
            "Epoch 12/50\n",
            "308/308 [==============================] - 33s 107ms/step - loss: 2.8705 - val_loss: 3.2741\n",
            "Epoch 13/50\n",
            "308/308 [==============================] - 33s 108ms/step - loss: 2.8051 - val_loss: 3.2374\n",
            "Epoch 14/50\n",
            "308/308 [==============================] - 33s 107ms/step - loss: 2.7398 - val_loss: 3.2109\n",
            "Epoch 15/50\n",
            "308/308 [==============================] - 33s 107ms/step - loss: 2.6788 - val_loss: 3.2203\n",
            "Epoch 16/50\n",
            "308/308 [==============================] - 33s 108ms/step - loss: 2.6279 - val_loss: 3.1948\n",
            "Epoch 17/50\n",
            "308/308 [==============================] - 33s 107ms/step - loss: 2.5804 - val_loss: 3.1834\n",
            "Epoch 18/50\n",
            "308/308 [==============================] - 33s 107ms/step - loss: 2.5317 - val_loss: 3.1857\n",
            "Epoch 19/50\n",
            "308/308 [==============================] - 33s 107ms/step - loss: 2.4854 - val_loss: 3.1574\n",
            "Epoch 20/50\n",
            "308/308 [==============================] - 33s 108ms/step - loss: 2.4425 - val_loss: 3.1442\n",
            "Epoch 21/50\n",
            "308/308 [==============================] - 33s 108ms/step - loss: 2.4018 - val_loss: 3.1443\n",
            "Epoch 22/50\n",
            "308/308 [==============================] - 33s 108ms/step - loss: 2.3623 - val_loss: 3.1383\n",
            "Epoch 23/50\n",
            "308/308 [==============================] - 33s 108ms/step - loss: 2.3245 - val_loss: 3.1374\n",
            "Epoch 24/50\n",
            "308/308 [==============================] - 33s 107ms/step - loss: 2.2919 - val_loss: 3.1471\n",
            "Epoch 25/50\n",
            "308/308 [==============================] - 33s 107ms/step - loss: 2.2572 - val_loss: 3.1424\n",
            "Epoch 00025: early stopping\n"
          ]
        }
      ],
      "source": [
        "model.compile(optimizer='rmsprop', loss='sparse_categorical_crossentropy')\n",
        "es = EarlyStopping(monitor='val_loss', patience=2, verbose=1)\n",
        "history = model.fit(x=[encoder_input_train, decoder_input_train], y=decoder_target_train, \\\n",
        "          validation_data=([encoder_input_test, decoder_input_test], decoder_target_test), \\\n",
        "          batch_size=256, callbacks=[es], epochs=50)"
      ]
    },
    {
      "cell_type": "code",
      "execution_count": null,
      "id": "50d22f9b",
      "metadata": {
        "id": "50d22f9b",
        "outputId": "2a6cb94c-af89-4ef8-8b8d-6c7b402979b1"
      },
      "outputs": [
        {
          "data": {
            "image/png": "[encoded data removed]",
            "text/plain": [
              "<Figure size 432x288 with 1 Axes>"
            ]
          },
          "metadata": {
            "needs_background": "light"
          },
          "output_type": "display_data"
        }
      ],
      "source": [
        "# 훈련 데이터의 손실과 검증 데이터의 손실이 줄어드는 과정을 시각화\n",
        "plt.plot(history.history['loss'], label='train')\n",
        "plt.plot(history.history['val_loss'], label='test')\n",
        "plt.legend()\n",
        "plt.show()"
      ]
    },
    {
      "cell_type": "markdown",
      "id": "c506856a",
      "metadata": {
        "id": "c506856a"
      },
      "source": [
        "### 인퍼런스 모델 구현하기"
      ]
    },
    {
      "cell_type": "code",
      "execution_count": null,
      "id": "a0b1b505",
      "metadata": {
        "id": "a0b1b505"
      },
      "outputs": [],
      "source": [
        "# 테스트 단계에서는 정수 인덱스 행렬로 존재하던 텍스트 데이터를 실제 데이터로 복원해야 하므로,\n",
        "# 필요한 3개의 사전을 아래와 같이 미리 준비해 둠.\n",
        "src_index_to_word = src_tokenizer.index_word # 원문 단어 집합에서 정수 -> 단어를 얻음\n",
        "tar_word_to_index = tar_tokenizer.word_index # 요약 단어 집합에서 단어 -> 정수를 얻음\n",
        "tar_index_to_word = tar_tokenizer.index_word # 요약 단어 집합에서 정수 -> 단어를 얻음"
      ]
    },
    {
      "cell_type": "code",
      "execution_count": null,
      "id": "964e5103",
      "metadata": {
        "id": "964e5103"
      },
      "outputs": [],
      "source": [
        "# 인코더 설계\n",
        "encoder_model = Model(inputs=encoder_inputs, outputs=[encoder_outputs, state_h, state_c])\n",
        "\n",
        "# 이전 시점의 상태들을 저장하는 텐서\n",
        "decoder_state_input_h = Input(shape=(hidden_size,))\n",
        "decoder_state_input_c = Input(shape=(hidden_size,))\n",
        "\n",
        "dec_emb2 = dec_emb_layer(decoder_inputs)\n",
        "\n",
        "# 문장의 다음 단어를 예측하기 위해서 초기 상태(initial_state)를 이전 시점의 상태로 사용. 이는 뒤의 함수 decode_sequence()에 구현\n",
        "# 훈련 과정에서와 달리 LSTM의 리턴하는 은닉 상태와 셀 상태인 state_h와 state_c를 버리지 않음.\n",
        "decoder_outputs2, state_h2, state_c2 = decoder_lstm(dec_emb2, initial_state=[decoder_state_input_h, decoder_state_input_c])"
      ]
    },
    {
      "cell_type": "code",
      "execution_count": null,
      "id": "b1e8779a",
      "metadata": {
        "id": "b1e8779a"
      },
      "outputs": [],
      "source": [
        "# 어텐션 함수\n",
        "decoder_hidden_state_input = Input(shape=(text_max_len, hidden_size))\n",
        "attn_out_inf = attn_layer([decoder_outputs2, decoder_hidden_state_input])\n",
        "decoder_inf_concat = Concatenate(axis=-1, name='concat')([decoder_outputs2, attn_out_inf])\n",
        "\n",
        "# 디코더의 출력층\n",
        "decoder_outputs2 = decoder_softmax_layer(decoder_inf_concat)\n",
        "\n",
        "# 최종 디코더 모델\n",
        "decoder_model = Model(\n",
        "    [decoder_inputs] + [decoder_hidden_state_input,decoder_state_input_h, decoder_state_input_c],\n",
        "    [decoder_outputs2] + [state_h2, state_c2])"
      ]
    },
    {
      "cell_type": "code",
      "execution_count": null,
      "id": "368305ae",
      "metadata": {
        "id": "368305ae"
      },
      "outputs": [],
      "source": [
        "def decode_sequence(input_seq):\n",
        "    # 입력으로부터 인코더의 상태를 얻음\n",
        "    e_out, e_h, e_c = encoder_model.predict(input_seq)\n",
        "\n",
        "     # <SOS>에 해당하는 토큰 생성\n",
        "    target_seq = np.zeros((1,1))\n",
        "    target_seq[0, 0] = tar_word_to_index['sostoken']\n",
        "\n",
        "    stop_condition = False\n",
        "    decoded_sentence = ''\n",
        "    while not stop_condition: # stop_condition이 True가 될 때까지 루프 반복\n",
        "\n",
        "        output_tokens, h, c = decoder_model.predict([target_seq] + [e_out, e_h, e_c])\n",
        "        sampled_token_index = np.argmax(output_tokens[0, -1, :])\n",
        "        sampled_token = tar_index_to_word[sampled_token_index]\n",
        "\n",
        "        if (sampled_token!='eostoken'):\n",
        "            decoded_sentence += ' '+sampled_token\n",
        "\n",
        "        #  <eos>에 도달하거나 최대 길이를 넘으면 중단.\n",
        "        if (sampled_token == 'eostoken'  or len(decoded_sentence.split()) >= (headlines_max_len-1)):\n",
        "            stop_condition = True\n",
        "\n",
        "        # 길이가 1인 타겟 시퀀스를 업데이트\n",
        "        target_seq = np.zeros((1,1))\n",
        "        target_seq[0, 0] = sampled_token_index\n",
        "\n",
        "        # 상태를 업데이트 합니다.\n",
        "        e_h, e_c = h, c\n",
        "\n",
        "    return decoded_sentence"
      ]
    },
    {
      "cell_type": "markdown",
      "id": "94e5c944",
      "metadata": {
        "id": "94e5c944"
      },
      "source": [
        "### 모델 테스트하기"
      ]
    },
    {
      "cell_type": "code",
      "execution_count": null,
      "id": "a1cb654e",
      "metadata": {
        "id": "a1cb654e"
      },
      "outputs": [],
      "source": [
        "# 원문의 정수 시퀀스를 텍스트 시퀀스로 변환\n",
        "def seq2text(input_seq):\n",
        "    temp=''\n",
        "    for i in input_seq:\n",
        "        if (i!=0):\n",
        "            temp = temp + src_index_to_word[i]+' '\n",
        "    return temp\n",
        "\n",
        "# 요약문의 정수 시퀀스를 텍스트 시퀀스로 변환\n",
        "def seq2headlines(input_seq):\n",
        "    temp=''\n",
        "    for i in input_seq:\n",
        "        if ((i!=0 and i!=tar_word_to_index['sostoken']) and i!=tar_word_to_index['eostoken']):\n",
        "            temp = temp + tar_index_to_word[i] + ' '\n",
        "    return temp"
      ]
    },
    {
      "cell_type": "markdown",
      "id": "cbcdf64e",
      "metadata": {
        "id": "cbcdf64e"
      },
      "source": [
        "## Step 4. 실제 결과와 요약문 비교하기 (추상적 요약)"
      ]
    },
    {
      "cell_type": "markdown",
      "id": "833e4326",
      "metadata": {
        "id": "833e4326"
      },
      "source": [
        "원래의 요약문(headlines 열)과 학습을 통해 얻은 추상적 요약의 결과를 비교합니다."
      ]
    },
    {
      "cell_type": "code",
      "execution_count": null,
      "id": "b2b5a834",
      "metadata": {
        "id": "b2b5a834",
        "outputId": "bb460ddd-4ef2-49a3-85ed-1216fa684669"
      },
      "outputs": [
        {
          "name": "stdout",
          "output_type": "stream",
          "text": [
            "원문 : us president donald trump youngest son barron trump seen practising football skills white house wearing full arsenal kit year old pictured lawn monday easter egg roll white house several members us professional soccer league major league soccer present lawn party \n",
            "실제 요약 : trump son plays football white house arsenal kit \n",
            "추상 요약 :  trump son obama meet us open\n",
            "\n",
            "\n",
            "원문 : growing trees reduce atmospheric carbon dioxide cannot replace cutting emissions fossil fuel burning study warned plants suck co atmosphere build woody roots leaves low tech carbon dioxide removal could combined high tech underground carbon storage mechanisms meet paris climate agreement goals researchers said \n",
            "실제 요약 : planting trees substitute cutting co emissions study \n",
            "추상 요약 :  use use use water fuel prices\n",
            "\n",
            "\n",
            "원문 : low cost airline ryanair ceo michael made million last fiscal claimed seriously added shareholders opposed bumper pay packet adding feels appreciated also slammed government proposals would force firms publish details executive pay \n",
            "실제 요약 : seriously underpaid says ryanair ceo \n",
            "추상 요약 :  ceo loses billion tax ceo\n",
            "\n",
            "\n",
            "원문 : boeing airbus group supplier fined investigation alleged discriminatory hiring policy investigation found founder refused hire muslim applicants engaged religious national origin harassment however said founder personal views \n",
            "실제 요약 : boeing supplier fined cr discrimination muslims \n",
            "추상 요약 :  singapore demands lakh indians\n",
            "\n",
            "\n",
            "원문 : tamil nadu health department wednesday launched cosmetic surgery clinic government hospital chennai provide free breast reconstruction surgeries poor stating beauty treatments available everyone state health minister cv said government launched initiative women may use dangerous methods take loans surgeries \n",
            "실제 요약 : tamil nadu starts free breast implants poor \n",
            "추상 요약 :  tamil nadu hospital doctors remove nipah virus\n",
            "\n",
            "\n",
            "원문 : supreme court commenced hearing first love jihad case monday hadiya told court wanted freedom back adding parents custody unlawful another development court ordered could pursue education medical college tamil nadu salem college dean \n",
            "실제 요약 : want freedom custody hadiya parents \n",
            "추상 요약 :  sc allows yr old justice adultery marriage\n",
            "\n",
            "\n",
            "원문 : rajkumar hirani said sanjay dutt would played older self upcoming biopic sanju would weird added seeing ranbir sanju throughout film suddenly see sanjay playing older self would automatically disconnected public link film \n",
            "실제 요약 : dutt playing older self sanju would hirani \n",
            "추상 요약 :  dutt biopic sanjay dutt biopic\n",
            "\n",
            "\n",
            "원문 : congratulating spacex completion falcon launches ceo elon musk tweeted cannot believe fifty falcon launches already ten years ago could even reach orbit little falcon space exploration startup launched rocket florida us tuesday carrying largest geostationary satellite company ever flown \n",
            "실제 요약 : reach orbit yrs ago musk th falcon launch \n",
            "추상 요약 :  spacex may launch new spacex launch spacex\n",
            "\n",
            "\n",
            "원문 : spiritual leader sri sri ravi shankar said loved watching sanjay leela bhansali padmaavat found nothing objectionable added padmaavat celebrated across india rajput honour make proud bhansali held pre release screening film spiritual leader art living foundation bengaluru monday \n",
            "실제 요약 : loved padmaavat found nothing objectionable sri sri \n",
            "추상 요약 :  bhansali chief meets ranveer singh sanjay dutt\n",
            "\n",
            "\n",
            "원문 : bjp president amit shah saturday alleged party done much corruption aap tenure delhi one two legislators aap booked criminal cases ever since aap elections delhi added shah said aap made record losing elections \n",
            "실제 요약 : party much corruption aap delhi bjp \n",
            "추상 요약 :  delhi cm shah corruption case amit shah\n",
            "\n",
            "\n",
            "원문 : england rounder ben stokes ipl auction expensive buy bought rajasthan royals crore ms dhoni expensive buy first ever ipl auction bought csk million delhi daredevils bought yuvraj singh crore making expensive buy ipl ever \n",
            "실제 요약 : expensive players past ipl auctions \n",
            "추상 요약 :  mumbai buys cr ipl auction\n",
            "\n",
            "\n",
            "원문 : newly discovered species pistol shrimp named honour british rock band pink floyd newly discovered species shrimp distinct almost glowing pink found tropical eastern pacific regions known generate loud pistol like sounds \n",
            "실제 요약 : new species named british band pink floyd \n",
            "추상 요약 :  man eats lions boxing boxing term\n",
            "\n",
            "\n",
            "원문 : man beaten death haryana sonipat allegedly sharing pictures clicked family members whatsapp group victim brother said accidentally shared pictures group angered one recipient accused invited man family home attacked rods bricks \n",
            "실제 요약 : man killed sharing family pics whatsapp group \n",
            "추상 요약 :  man tries kill woman files fir facebook\n",
            "\n",
            "\n",
            "원문 : mp municipality converted garbage truck van ferry unclaimed bodies crematorium however official said since vehicle used collecting trash utilised carrying bodies civic body notably reports claimed district hospital van \n",
            "실제 요약 : mp civic body turns garbage truck van carrying dead \n",
            "추상 요약 :  mp mp officials mp highway truck\n",
            "\n",
            "\n",
            "원문 : nora starrer song rajkummar rao shraddha kapoor stree released song composed sachin jigar vocals gill sachin sanghvi jigar divya kumar lyrics vayu directed amar kaushik stree scheduled release august \n",
            "실제 요약 : starrer song stree released \n",
            "추상 요약 :  shraddha shraddha shraddha mubarakan mubarakan released\n",
            "\n",
            "\n",
            "원문 : video airbus largest passenger jet world making hard landing storm german city gone viral video watched millions times shows appearing bounce landing plane pilots managed steady \n",
            "실제 요약 : world largest passenger jet makes hard landing amid storm \n",
            "추상 요약 :  plane lands plane crashes us\n",
            "\n",
            "\n",
            "원문 : year old us man million lottery finding winning ticket old shirt pocket two days due expire man claimed prize year searched ticket new york lottery made announcement unclaimed reward \n",
            "실제 요약 : man finds cr lottery ticket days \n",
            "추상 요약 :  man wins crore lottery lottery\n",
            "\n",
            "\n",
            "원문 : filed total criminal cases two months investigating nude photo scandal nude photos male female us marine soldiers shared online investigation team searched websites recovered nudes within two months investigators also found suspects could stalked victims \n",
            "실제 요약 : us nude photo sharing leads criminal cases \n",
            "추상 요약 :  police porn porn porn porn porn porn porn\n",
            "\n",
            "\n",
            "원문 : attempt raise quick funds american airlines introduced pass allowing customers fly free life unlimited purchased people used one person fly london times one month another person reportedly used pass ferry people united states fee \n",
            "실제 요약 : airlines issued pass let people fly free life \n",
            "추상 요약 :  uk offers free service free people\n",
            "\n",
            "\n",
            "원문 : indian banks need additional capital billion meet basel iii capital standards march state run lenders accounting requirements fitch ratings said said government committed investing another billion state run banks next two already provided originally budgeted billion \n",
            "실제 요약 : indian banks need bn capital meet rules fitch \n",
            "추상 요약 :  india open account bn world bank\n",
            "\n",
            "\n",
            "원문 : trailer upcoming musical comedy pitch perfect released saturday original cast members anna rebel wilson elizabeth banks joined ruby rose sequel third installation pitch perfect franchise directed film scheduled release december \n",
            "실제 요약 : trailer anna pitch perfect released \n",
            "추상 요약 :  trailer ganguly starrer released\n",
            "\n",
            "\n",
            "원문 : congress vice president rahul gandhi monday began election campaign gujarat riding bullock cart short stretch police refused permission road show open top jeep campaign dwarka promising yuva jobs youth rights farmers interactions people \n",
            "실제 요약 : rahul rides bullock cart gujarat election campaign \n",
            "추상 요약 :  rahul gandhi sends pm modi workers\n",
            "\n",
            "\n",
            "원문 : actor salman khan revealed really liked girl could never courage tell ended dating two friends friend others dated heartbroken never got know feelings added salman \n",
            "실제 요약 : liked girl ended dating friends salman \n",
            "추상 요약 :  brother thought dating salman\n",
            "\n",
            "\n",
            "원문 : uk ministers took part secret exercise focused day queen death planned days mourning would follow monarch passing reports said exercise dubbed castle dove reportedly took place day queen elizabeth ii cancelled appearance service feeling weather \n",
            "실제 요약 : uk ministers queen elizabeth ii death reports \n",
            "추상 요약 :  uk returns week st time yrs\n",
            "\n",
            "\n",
            "원문 : aishwarya rai bachchan anil kapoor rajkummar rao starrer fanney khan released today slice life film wrote hindustan times fanney khan taps emotions father daughter relationship said ndtv firstpost called film comedy rated \n",
            "실제 요약 : aishwarya anil starrer fanney khan hits theatres \n",
            "추상 요약 :  aishwarya anil kapoor starrer fanney khan\n",
            "\n",
            "\n",
            "원문 : former indian batsman rahul dravid said offside first god sourav ganguly former indian captain turned saturday let honest tell tv screen looks different warm person actually meet ms dhoni said ganguly \n",
            "실제 요약 : pictures quotes sourav ganguly \n",
            "추상 요약 :  kl rahul dravid ganguly\n",
            "\n",
            "\n",
            "원문 : former zimbabwean president robert mugabe called ouster office coup must year old forced resign post last year army took party launched impeachment proceedings mugabe one world longest serving leaders led zimbabwe years \n",
            "실제 요약 : former zimbabwe president terms forced exit coup \n",
            "추상 요약 :  zimbabwe prez mugabe mugabe resign\n",
            "\n",
            "\n",
            "원문 : man muzaffarnagar uttar pradesh refused marry girl non vegetarian dishes served wedding bride family said non vegetarian dishes served shortage meat due crackdown slaughterhouses however bride later married guest proposed woman wedding \n",
            "실제 요약 : man refuses marriage meat dishes served wedding \n",
            "추상 요약 :  tn woman denied entry wedding wedding\n",
            "\n",
            "\n",
            "원문 : bengaluru based workforce outsourcing startup raised crore seed fund angel investors startup said statement amount used scale outreach improve product startup added founded business work among college students turn provides \n",
            "실제 요약 : workforce startup raises crore \n",
            "추상 요약 :  bengaluru based startup raises crore\n",
            "\n",
            "\n",
            "원문 : british telephone service company virgin media advised eight lakh customers specific change passwords immediately investigation found could hacked easily investigation uk publication called found hackers could gain access home networks connected appliances little four days \n",
            "실제 요약 : virgin media asks lakh users change passwords \n",
            "추상 요약 :  uk firm offers million users use tax\n",
            "\n",
            "\n",
            "원문 : gst council may consider lowering gst construction flats houses meeting next month currently gst levied construction property ready move flats completion certificate issued time sale gst levied buyers real estate properties completion certificate issued sale \n",
            "실제 요약 : gst construction flats houses may \n",
            "추상 요약 :  gst rate cut tax rates\n",
            "\n",
            "\n",
            "원문 : former finance minister chidambaram said back series gdp proved best years economic growth upa years india economy grew double digits twice previous upa regime prime minister manmohan singh according recently released ministry statistics data \n",
            "실제 요약 : back series gdp data proved upa years best chidambaram \n",
            "추상 요약 :  economy growth growth ex fm\n",
            "\n",
            "\n",
            "원문 : rishi kapoor asked approves son ranbir kapoor girlfriend alia bhatt said ranbir life wants get married neetu likes like ranbir likes cannot uncles chose life partners ranbir entitled choose rishi added \n",
            "실제 요약 : ranbir likes alia neetu like rishi \n",
            "추상 요약 :  ranbir alia ranbir alia\n",
            "\n",
            "\n",
            "원문 : bjp ally shiv sena mp arvind sawant said pm narendra modi speech parliament wednesday election speech similar one pm gave campaigns time modi ji years people want hear schemes criticism congress shiv sena spokesperson manisha said \n",
            "실제 요약 : pm modi parliament address election speech shiv sena \n",
            "추상 요약 :  pm modi speech nation shiv sena\n",
            "\n",
            "\n",
            "원문 : veteran actress reema lagoo passed away thursday age suffering cardiac arrest known acting films like hum aapke hain koun kuch kuch hota hai kal ho naa ho tv serials tu tu main main four filmfare awards best supporting actress \n",
            "실제 요약 : actress reema passes away aged \n",
            "추상 요약 :  veteran actress vinod khanna passes away aged\n",
            "\n",
            "\n",
            "원문 : ireland voted overturn ban abortions irish bishop said voted favour amendment committed sin voted yes consider coming confession added said want come confession received compassion \n",
            "실제 요약 : voted abortion committed sin irish bishop \n",
            "추상 요약 :  austria bans gender neutral\n",
            "\n",
            "\n",
            "원문 : textiles minister smriti irani sunday tagged superwoman lilly singh tweet posting know old year old says say irani shared picture singh recently released book singh described confident person makes people feel good \n",
            "실제 요약 : smriti irani tags singh tweet \n",
            "추상 요약 :  smriti irani shares picture smriti irani\n",
            "\n",
            "\n",
            "원문 : lynching deputy sp mohammed srinagar captured video bought destroyed state government fear public top state official reportedly said official added video content violent deputy arms legs bent broken like someone breaks sugarcane eating \n",
            "실제 요약 : govt bought destroyed cop lynching video report \n",
            "추상 요약 :  police officer goes missing\n",
            "\n",
            "\n",
            "원문 : pakistan fakhar zaman imam ul haq recorded odi cricket history first ever plus run opening stand sharing runs first wicket zimbabwe friday previous highest opening stand odi cricket runs recorded sri lanka sanath jayasuriya upul tharanga england run stand also pakistan highest ever odi partnership \n",
            "실제 요약 : pak record odi cricket first ever run opening stand \n",
            "추상 요약 :  pak batsman breaks odi runs balls\n",
            "\n",
            "\n",
            "원문 : us discussed potential missile defence cooperation india us said missile defence review natural india status major defence partner key element indo pacific strategy added russia china iran north korea described current emerging missile threats us \n",
            "실제 요약 : us discusses potential missile defence cooperation india \n",
            "추상 요약 :  us russia seek sanctions us sanctions russia\n",
            "\n",
            "\n",
            "원문 : talking process developing launching products apple ceo tim cook said company takes time get every product right believe using customers laboratory think unique patience patience wait something great ship added \n",
            "실제 요약 : believe using customers apple ceo \n",
            "추상 요약 :  apple ceo tim cook\n",
            "\n",
            "\n",
            "원문 : zee horror show co director tulsi brothers passed away age heart attack mumbai tulsi co directed zee horror show brother shyam brothers tulsi kumar shyam arjun kiran produced series horror shows \n",
            "실제 요약 : zee horror show co director tulsi passes away \n",
            "추상 요약 :  telugu actor brother passes away aged\n",
            "\n",
            "\n",
            "원문 : south korea based cryptocurrency exchange sunday announced platform hacked resulting loss reported amount million according website exchange already suspended services managed freeze two thirds stolen tokens also said reserves moved cold wallet without internet access \n",
            "실제 요약 : korean crypto exchange hacked loses mn \n",
            "추상 요약 :  north korea hack cryptocurrency\n",
            "\n",
            "\n",
            "원문 : reacting juventus forward cristiano ronaldo getting red card pulling opponent hair champions league match teammate said women playing football giving red card sent foul added later apologised saying intention women \n",
            "실제 요약 : women teammate ronaldo red card pulling hair \n",
            "추상 요약 :  ronaldo fined lakh free player\n",
            "\n",
            "\n",
            "원문 : model gigi hadid featured cover shoot harper bazaar us shot nasa kennedy space center florida gigi seen wearing metallic silver cape coat boots chanel cover shot also posed gucci outside apollo crew capsule \n",
            "실제 요약 : gigi hadid poses nasa space centre magazine shoot \n",
            "추상 요약 :  vogue magazine gigi hadid attend china\n",
            "\n",
            "\n",
            "원문 : uk based study found iceland saw less volcanic activity glacier cover glaciers melted eruptions increased due changes surface pressure researchers noticed year time lag major decrease ancient global temperatures reduced adding similar time lag expected following recent shift warmer temperatures \n",
            "실제 요약 : global warming could increase volcanic study \n",
            "추상 요약 :  scientists discover new ocean\n",
            "\n",
            "\n",
            "원문 : pad man director balki said menstruation natural phenomenon growing beard adding natural process nothing hide added moment call adult topic whole purpose defeated balki said pad man children film must watched families \n",
            "실제 요약 : natural growing beard pad man director \n",
            "추상 요약 :  man know know\n",
            "\n",
            "\n",
            "원문 : elon musk spacex signed deal japanese lunar exploration startup moon rover mission plans orbit lunar lander around moon second mission land two rovers moon surface using spacex falcon rocket startup said signed launches spacex rockets \n",
            "실제 요약 : musk spacex signs japanese startup moon rover mission \n",
            "추상 요약 :  spacex launches th century moon mission\n",
            "\n",
            "\n",
            "원문 : confession journalist gauri lankesh murder accused claimed hindu samiti leader mohan gowda put touch extremist unit hindu outfit sanatan sanstha planning murder came contact hindutva activist another accused arrested earlier may lankesh shot dead bengaluru september last year \n",
            "실제 요약 : journo murder accused names hindu body leader confession \n",
            "추상 요약 :  gauri lankesh murder accused gauri lankesh murder\n",
            "\n",
            "\n",
            "원문 : us based startup working camera car shoots degree videos alerts users someone tries steal car camera lets users check cars via live stream phones also fitted detect movements would prompt send alerts owners \n",
            "실제 요약 : alerts user someone tries steal car \n",
            "추상 요약 :  startup makes self driving cars detect crash\n",
            "\n",
            "\n"
          ]
        }
      ],
      "source": [
        "for i in range(50, 100):\n",
        "    print(\"원문 :\", seq2text(encoder_input_test[i]))\n",
        "    print(\"실제 요약 :\", seq2headlines(decoder_input_test[i]))\n",
        "    print(\"추상 요약 :\", decode_sequence(encoder_input_test[i].reshape(1, text_max_len)))\n",
        "    print(\"\\n\")"
      ]
    },
    {
      "cell_type": "markdown",
      "id": "3886ec74",
      "metadata": {
        "id": "3886ec74"
      },
      "source": [
        "## Step 5. Summa을 이용해서 추출적 요약해보기"
      ]
    },
    {
      "cell_type": "code",
      "execution_count": null,
      "id": "27a685a6",
      "metadata": {
        "id": "27a685a6"
      },
      "outputs": [],
      "source": [
        "import requests\n",
        "from summa.summarizer import summarize"
      ]
    },
    {
      "cell_type": "code",
      "execution_count": null,
      "id": "7b9e44c6",
      "metadata": {
        "id": "7b9e44c6"
      },
      "outputs": [],
      "source": [
        "# 데이터 다운로드\n",
        "urllib.request.urlretrieve(\"https://raw.githubusercontent.com/sunnysai12345/News_Summary/master/news_summary_more.csv\", filename=\"news_summary_more.csv\")\n",
        "data_summa = pd.read_csv('news_summary_more.csv', encoding='iso-8859-1')"
      ]
    },
    {
      "cell_type": "code",
      "execution_count": null,
      "id": "3921092f",
      "metadata": {
        "id": "3921092f"
      },
      "outputs": [],
      "source": [
        "# 추상적 요약을 하는 함수\n",
        "def textSummary(text) :\n",
        "    text_preprocess = preprocess_sentence(text)\n",
        "    text_preprocess = src_tokenizer.texts_to_sequences([text])\n",
        "    text_preprocess = pad_sequences(text_preprocess, maxlen=text_max_len, padding='post')\n",
        "    summa = decode_sequence(text_preprocess)\n",
        "    return summa"
      ]
    },
    {
      "cell_type": "code",
      "execution_count": null,
      "id": "454bbd75",
      "metadata": {
        "id": "454bbd75",
        "outputId": "9828148a-e944-4b0c-d987-79261c39ffd3"
      },
      "outputs": [
        {
          "name": "stdout",
          "output_type": "stream",
          "text": [
            "원문 : Former Finance Minister Yashwant Sinha on Tuesday demanded a probe into the alleged diversion of loans worth Ã¢ÂÂ¹31,000 crore by Dewan Housing Finance (DHFL). All agencies including regulators of the government have failed to track nefarious deals, he said. This comes after a media report on Tuesday accused DHFL's controlling shareholders of diverting funds to shell companies to buy assets.\n",
            "실제 요약 : Yashwant Sinha demands probe into alleged fund diversion by DHFL\n",
            "추상 요약 :  ex rbi deputy deputy governor booked rafale scam\n",
            "추출 요약 : \n",
            "\n",
            "\n",
            "원문 : US-based Boeing on Wednesday reported annual sales worth $101.12 billion in 2018, the first time the planemaker's sales crossed the $100-billion mark in its 102-year history. The company said it expects to deliver between 895 and 905 commercial aircraft in 2019. Boeing retained its position as the world's largest planemaker for the seventh straight year, delivering 806 aircraft in 2018. \n",
            "실제 요약 : Boeing sales cross $100bn for 1st time in its 102-yr history\n",
            "추상 요약 :  us oil sales hits first ever billion\n",
            "추출 요약 : \n",
            "\n",
            "\n",
            "원문 : text\n",
            "실제 요약 : headlines\n",
            "추상 요약 :  snapdeal waives inflation fy\n",
            "추출 요약 : \n",
            "\n",
            "\n",
            "원문 : OnePlus has emerged as India's best-selling premium smartphone brand of 2018, as per a report by Counterpoint. It captured 36% of the market share in the premium segment, in Q4 2018. Further, its OnePlus 6 emerged as the highest selling premium smartphone of 2018 followed by OnePlus 6T.\n",
            "실제 요약 : OnePlus named bestselling premium smartphone brand of 2018: Report\n",
            "추상 요약 :  oneplus launch smartphone launch new year\n",
            "추출 요약 : \n",
            "\n",
            "\n",
            "원문 : Filmmaker Pooja Bhatt, while talking about the presentation of women in her films, said, \"I can never look at a female body, even if it's naked, in a vulgar manner.\" \"Our audience can say...the women in my films are bold or sensual, but never ever vulgar,\" she added. Pooja further said her censor board is her \"own heart and mind\".\n",
            "실제 요약 : Can never look at female body, even if naked, in vulgar way: Pooja\n",
            "추상 요약 :  men told sex change karan johar\n",
            "추출 요약 : \n",
            "\n",
            "\n",
            "원문 : Actress Mishti, who has featured in 'Manikarnika: The Queen of Jhansi', has said the film's co-director Kangana Ranaut made false promises to the cast. \"Kangana had said, 'I want dates because all characters look jumbled up...I'm trying my best to give everybody a prominent space on screen.' After watching the movie, there is no scope for other characters,\" Mishti added. \n",
            "실제 요약 : Kangana made fake promises to cast: 'Manikarnika' actress Mishti\n",
            "추상 요약 :  kangana ranaut manikarnika queen\n",
            "추출 요약 : \n",
            "\n",
            "\n",
            "원문 : The high-powered committee led by PM Narendra Modi to select the next CBI Director will meet again on February 1, Congress leader Mallikarjun Kharge has said. The panel consisting of Kharge and Chief Justice of India Ranjan Gogoi met on January 24, but the meeting ended \"inconclusively\" after Kharge cited lack of details in the list of 80 IPS officers. \n",
            "실제 요약 : PM-led panel to meet on Friday to pick new CBI chief: Kharge\n",
            "추상 요약 :  pm modi corruption govt govt\n",
            "추출 요약 : \n",
            "\n",
            "\n",
            "원문 : Nevada State Athletic Commission has banned MMA fighters Conor McGregor and Khabib Nurmagomedov for six months and nine months respectively over their roles in the mass brawl that occurred after their fight at UFC 229 last October. McGregor and Khabib have been fined $50,000 (Ã¢ÂÂ¹35 lakh) and $500,000 (Ã¢ÂÂ¹3.5 crore) respectively. The brawl occurred after Nurmagomedov confronted McGregor's teammate.\n",
            "실제 요약 : McGregor fined Ã¢ÂÂ¹35 lakh, Khabib Ã¢ÂÂ¹3.5 crore for brawl; both banned\n",
            "추상 요약 :  mcgregor banned messi brawl\n",
            "추출 요약 : \n",
            "\n",
            "\n",
            "원문 : Pakistan captain Sarfaraz Ahmed, who has been banned for four matches over racist remarks, took an apparent dig at his critics by sharing a video of a child reciting 'log hai na' poem on Twitter. \"Pyaar karna hai to khud se kar...dushmani karne ke liye log hai na,\" the poem read. \"This is how the world is,\" Sarfaraz wrote.\n",
            "실제 요약 : Banned for 4 matches, Sarfaraz shares 'log hai na' poem for critics\n",
            "추상 요약 :  pak board slammed calling sania\n",
            "추출 요약 : \n",
            "\n",
            "\n",
            "원문 : Banned cricketer Sreesanth has told Supreme Court he initially confessed to Delhi Police about his alleged involvement in 2013 IPL spot-fixing scandal to escape continuous police torture. Sreesanth further said the bookie tried dragging him into spot-fixing but he didn't fall for it. Citing Sreesanth not informing BCCI about fixing approach, the apex court said Sreesanth's conduct \"wasn't good\".\n",
            "실제 요약 : Confessed to spot-fixing to escape police torture: Sreesanth to SC\n",
            "추상 요약 :  sc playing cricket player playing ipl\n",
            "추출 요약 : \n",
            "\n",
            "\n",
            "원문 : The Finance Ministry on Wednesday said the government will present an Interim Budget on February 1. The clarification came amid speculations that a full Budget may be presented during the session. The government recently assigned Piyush Goyal temporary additional charge of the Finance and Corporate Affairs ministries in the absence of Arun Jaitley, who is in the US for treatment.\n",
            "실제 요약 : Govt to present Interim Budget, not full Budget on February 1\n",
            "추상 요약 :  govt budget budget\n",
            "추출 요약 : \n",
            "\n",
            "\n",
            "원문 : US President Donald Trump on Wednesday called his country's top intelligence chiefs \"naive\" and \"wrong\" on Iran and added that they should perhaps \"go back to school\". Trump claimed Iran is testing rockets, calling the country \"a source of potential danger and conflict\". Top US intelligence officials on Tuesday said that Iran isn't currently taking steps towards building nuclear weapons.\n",
            "실제 요약 : US intelligence naive and wrong, should go back to school: Trump\n",
            "추상 요약 :  trump calls us prez secretary\n",
            "추출 요약 : \n",
            "\n",
            "\n",
            "원문 : A senior priest at the Vatican who handled cases of sexual abuse has quit after being accused of sexual abuse by a former nun. The accused priest claimed he is innocent and said he would consider taking legal action. The Vatican said in a statement that a Church investigation of the case was underway.\n",
            "실제 요약 : Vatican priest handling sex abuse cases quits over alleged sex abuse\n",
            "추상 요약 :  pope francis sexually abuse cases sex abuse\n",
            "추출 요약 : \n",
            "\n",
            "\n",
            "원문 : A 22-year-old writer turned down a job offer, claiming she was bullied to the point of tears during her two-hour interview by a UK company's CEO. Olivia Bland added the \"brutal\" interview brought back painful memories of her abusive relationship. \"I am so sorry that anyone has been hurt, it is never my intent,\" Web Applications CEO Craig Dean replied. \n",
            "실제 요약 : Woman rejects job after CEO bullies her in interview; he apologises\n",
            "추상 요약 :  ex ceo wife interview\n",
            "추출 요약 : \n",
            "\n",
            "\n",
            "원문 : Noida Police has arrested Sector 20 station in-charge Manoj Pant and three journalists for allegedly extorting money from a call centre owner for removing his name from an FIR. The four were caught while taking bribe money of Ã¢ÂÂ¹8 lakh, police said. Pant was the lead investigator in the Paytm extortion case involving Founder Vijay Shekhar Sharma's secretary Sonia Dhawan.\n",
            "실제 요약 : Police officer probing Paytm extortion case arrested for extortion\n",
            "추상 요약 :  police arrests man arrested cheating bank\n",
            "추출 요약 : \n",
            "\n",
            "\n",
            "원문 : Airtel on Wednesday said that Qatar's sovereign wealth fund Qatar Investment Authority will invest $200 million through a primary equity issuance in Airtel Africa. India's second-largest telecom operator's Africa unit recently raised $1.25 billion from six investors. Airtel Africa, the holding company for Airtel's operations in 14 African countries, is preparing for an initial public offering.\n",
            "실제 요약 : Qatar to invest $200 million in Airtel Africa\n",
            "추상 요약 :  airtel invest bn bn years\n",
            "추출 요약 : \n",
            "\n",
            "\n",
            "원문 : Actor Shreyas Talpade said that 'Golmaal' filmmaker Rohit Shetty is still working on the script for the fifth instalment of the 'Golmaal' film franchise. \"He was telling us the other day that he...cracked some story. Once he's done with the...scripting, he'll take a call,Ã¢ÂÂ the actor added. The series features Shreyas along with Ajay Devgn, Arshad Warsi and Tusshar Kapoor.\n",
            "실제 요약 : Rohit Shetty still working on script for Golmaal 5: Shreyas\n",
            "추상 요약 :  golmaal made rohit shetty\n",
            "추출 요약 : Actor Shreyas Talpade said that 'Golmaal' filmmaker Rohit Shetty is still working on the script for the fifth instalment of the 'Golmaal' film franchise.\n",
            "\n",
            "\n",
            "원문 : A 72-year-old man named Terry Sanderson has sued 'Avengers' actress Gwyneth Paltrow for allegedly crashing into him while skiing, and is seeking $3.1 million (over Ã¢ÂÂ¹22 crore) in damages. The lawsuit states the actress got up and skied away after knocking the man down, leaving him with broken ribs. The incident reportedly took place in 2016 in Utah, US. \n",
            "실제 요약 : Man sues Avengers actress Gwyneth for Ã¢ÂÂ¹22 crore over ski crash\n",
            "추상 요약 :  man sues crore round sues owner\n",
            "추출 요약 : \n",
            "\n",
            "\n",
            "원문 : Yami Gautam was felicitated by Border Security Force (BSF) in Amritsar for her performance in 'Uri: The Surgical Strike'. \"BSF is the first line of defence of our country and it gives me...pride to have met them,\" Yami said. The film, which also stars Vicky Kaushal, is based on the Indian Army's surgical strike operation which took place in 2016.\n",
            "실제 요약 : Yami Gautam felicitated by BSF for performance in 'Uri...'\n",
            "추상 요약 :  yami slams kerala cm soldiers uri\n",
            "추출 요약 : \n",
            "\n",
            "\n",
            "원문 : Social media giant Facebook has hired privacy critic Nate Cardozo, formerly the top legal counsel for US privacy watchdog EFF, as a privacy policy manager for WhatsApp. Cardozo had called Facebook a \"faceless corporation\" whose business model depends on user's confusion and indifference about privacy, in October 2015. Facebook has also hired attorney Robyn Greene as its privacy policy manager.\n",
            "실제 요약 : Facebook hires its privacy critic as privacy policy manager\n",
            "추상 요약 :  facebook hires privacy privacy privacy privacy\n",
            "추출 요약 : \n",
            "\n",
            "\n",
            "원문 : Apple CEO Tim Cook said the company plans to lower some iPhones' prices in markets with currencies that weakened against the US dollar in the past year. \"WeÃ¢ÂÂve decided to go back to (iPhone prices) more commensurate with...local prices...a year ago,\" Cook added. The price cuts, in hopes of increasing sales, are reportedly occurring for second time in 12 years.\n",
            "실제 요약 : Apple to cut some iPhones' prices outside US over strong dollar\n",
            "추상 요약 :  apple ceo tim cook prices new iphones\n",
            "추출 요약 : \n",
            "\n",
            "\n",
            "원문 : Scientists in Australia's Flinders University are testing a wetsuit prototype that could protect its wearer after a shark attack. The suit, made of synthetic material similar to the material used in bulletproof vests, could help reduce blood loss after a shark attack. \"The majority of fatalities from shark bites is due to blood loss...shock from blood loss,\" a scientist said.\n",
            "실제 요약 : Scientists test wetsuit to protect wearer after shark attack\n",
            "추상 요약 :  scientists develop oldest ever hole detect\n",
            "추출 요약 : \n",
            "\n",
            "\n",
            "원문 : BJP National Secretary Rahul Sinha on Wednesday asked the party workers in West Bengal to come armed with sticks to PM Narendra Modi's rally in the state on February 2. His statement came a day after clashes broke out following BJP chief Amit Shah's WB rally. Sinha added the TMC is indulged in violence as they're afraid of BJP's strength.\n",
            "실제 요약 : Come armed with sticks for PM Modi's rally in WB: BJP leader\n",
            "추상 요약 :  bjp workers attacked rahul gandhi\n",
            "추출 요약 : \n",
            "\n",
            "\n",
            "원문 : BJP President Amit Shah on Wednesday took a dig at the Opposition parties saying that the 'mahagathbandhan' for the Opposition is 4B - \"Bua-Bhatija-Bhai-Behen\". He added that 4B for the BJP meant \"Badhta Bharat, Banta Bharat\". He said Opposition's government cannot take the country ahead and \"only Modiji can provide a 'mazboot' (strong) government\".\n",
            "실제 요약 : '4B' for Opposition is 'Bua-Bhatija-Bhai-Behen': Amit Shah\n",
            "추상 요약 :  bjp prez patel take opposition\n",
            "추출 요약 : \n",
            "\n",
            "\n",
            "원문 : German automaker Volkswagen Group has retained the car industry's top spot in global sales, beating its Japanese rival Toyota. Volkswagen's sales, including its MAN and Scania heavy trucks and buses, rose 0.9% to 10.83 million in 2018, the company had said. Toyota came second with around 10.6 million deliveries, including its affiliated brands Daihatsu and Hino, in 2018.\n",
            "실제 요약 : Volkswagen retains top spot in global sales, beats Toyota\n",
            "추상 요약 :  ford posts electric car profit\n",
            "추출 요약 : \n",
            "\n",
            "\n",
            "원문 : Ousted Nissan Chairman Carlos Ghosn has said his arrest over alleged financial misconduct was led by \"plot and treason\" by the Japanese carmaker's executives who opposed its deeper integration with Renault and Mitsubishi. Ghosn added he had discussed the integration plans with Nissan's CEO in September, a month before his arrest. He further said he wouldn't flee if granted bail.\n",
            "실제 요약 : Plot, treason by Nissan executives led to my arrest: Ghosn\n",
            "추상 요약 :  nissan chairman quits chairman ghosn chairman\n",
            "추출 요약 : \n",
            "\n",
            "\n",
            "원문 : The government has cut down customs duty on import of parts and components for electric vehicles to 10-15%, down from the previous 15-30%. The Central Board of Indirect Taxes and Customs said disassembled parts will attract 10% duty, whereas 15% will be levied on pre-assembled packs. However, fully built electric vehicles will continue to attract 25% import duty.\n",
            "실제 요약 : Govt cuts customs duty on electric vehicle parts to 10-15%\n",
            "추상 요약 :  govt proposes duty duty duty hike duty hike\n",
            "추출 요약 : \n",
            "\n",
            "\n",
            "원문 : Government officials on Wednesday said that a swine flu outbreak has killed 76 people this year in Rajasthan. Colder weather has worsened the seasonal outbreak of the H1N1 virus in the country, officials added. Rajasthan recorded more than a third of all swine flu deaths in India with Jodhpur being the worst affected area in the state, officials said.\n",
            "실제 요약 : Swine flu outbreak kills 76 in Rajasthan\n",
            "추상 요약 :  swine flu deaths due virus\n",
            "추출 요약 : \n",
            "\n",
            "\n",
            "원문 : North Korea is \"unlikely to completely give up its nuclear weapons and production capabilities\", Director of US' National Intelligence, Daniel Coats, said. \"North Korean leaders view nuclear arms as critical to regime survival,\" he added. His statements come despite North Korea's agreement with the US at the Singapore summit last year to denuclearise the Korean Peninsula. \n",
            "실제 요약 : N Korea unlikely to give up nuclear weapons: US intelligence chief\n",
            "추상 요약 :  korea vows war north korea\n",
            "추출 요약 : \n",
            "\n",
            "\n",
            "원문 : Jet Airways on Wednesday denied it was directed by GE Capital Aviation Services to ground its aircraft due to non-payment of dues. The airline said it's in the process of delivering three aircraft to lessors due to the expiry of lease terms. Further, three aircraft have been temporarily grounded to carry out an engine normalisation exercise, it added.\n",
            "실제 요약 : Jet Airways denies being told to ground aircraft\n",
            "추상 요약 :  jet airways seeks planes pilots reports\n",
            "추출 요약 : \n",
            "\n",
            "\n",
            "원문 : Retired Justice Srikrishna's enquiry panel has found that ex-CEO Chanda Kochhar violated ICICI Bank's code of conduct. The bank said it'll treat Kochhar's exit as termination and will take back all bonuses paid to her from April 2009 until March 2018. The CBI recently filed a case against Kochhar, her husband, and Videocon MD in the ICICI-Videocon loan case.\n",
            "실제 요약 : ICICI fires Chanda Kochhar, to take back bonuses paid in last 9 yrs\n",
            "추상 요약 :  ex wife cfo icici hc\n",
            "추출 요약 : \n",
            "\n",
            "\n",
            "원문 : Ex-India cricketer Jacob Martin has been shifted to general ward from the ICU after being on a ventilator for nearly a month following a road accident, wherein he severely injured his lungs. Martin's wife Khyati mentioned there are chances that Jacob will be in hospital for two more months. BCCI, CSK and various cricketers provided financial assistance for Martin's treatment.\n",
            "실제 요약 : Ex-cricketer Martin out of ICU after being on ventilator for a month\n",
            "추상 요약 :  ex cricketer ex ufc cricketer passes away\n",
            "추출 요약 : \n",
            "\n",
            "\n",
            "원문 : Sri Lanka all-rounder Thisara Perera has written to Sri Lanka Cricket CEO Ashley de Silva, asking the board to intervene after ODI captain Lasith Malinga's wife Tanya targeted him on Facebook. Tanya accused Perera of meeting country's Sports Minister to secure his place in the team. \"We've become laughing stock of whole country...because of one person's personal vendetta,\" Perera wrote.\n",
            "실제 요약 : Malinga's wife targets Perera on Facebook, he seeks board's help\n",
            "추상 요약 :  ex england captain coach charged wc cricket\n",
            "추출 요약 : \n",
            "\n",
            "\n",
            "원문 : Goa CM and ex-Defence Minister Manohar Parrikar has written a letter to Congress President Rahul Gandhi over his claim that Parrikar told him he has nothing to do with new Rafale deal. Parrikar wrote, \"Kindly do not use your visit to an ailing person to feed political opportunism.\" In their five-minute meeting, they didn't discuss anything about Rafale, he added.\n",
            "실제 요약 : Don't use visit to ailing man for political gains: Goa CM to Rahul\n",
            "추상 요약 :  rahul gandhi parrikar asks pm modi\n",
            "추출 요약 : \n",
            "\n",
            "\n",
            "원문 : Prime Minister Narendra Modi stopped his speech at the inauguration of the new terminal building at Surat airport after observing that a cameraman had fainted. PM Modi then asked his officers to urgently arrange for an ambulance for the cameraman. \"It's good that PM was paying attention to his surroundings during his speech,\" the cameraman later said from a hospital. \n",
            "실제 요약 : PM Modi stops speech after cameraman faints, asks officers to help\n",
            "추상 요약 :  pm modi tweets picture varanasi\n",
            "추출 요약 : \n",
            "\n",
            "\n",
            "원문 : A couple got divorced minutes after their wedding ceremony got over in Gujarat's Gondal as a disagreement broke out and relatives from both sides started throwing dishes at each other during lunch. The advocates representing both sides arrived at the marriage hall and got the couple divorced within minutes. The couple even reportedly returned the gifts exchanged during the ceremony.\n",
            "실제 요약 : Couple divorces minutes after marriage as families fight over lunch\n",
            "추상 요약 :  couple marries girlfriend wedding venue\n",
            "추출 요약 : \n",
            "\n",
            "\n",
            "원문 : Gujarat Education Minister Bhupendrasinh Chudasma has written a congratulatory message to a yoga ashram run by rape-convict Asaram's organisation for observing February 14 as \"Matru-Pitru Pujan Divas\" (Mother-Father worship day). After the Congress termed the letter as \"unfortunate\", saying it \"shows the nexus between BJP and godman\", Chudasma clarified, \"All I have done is sent best wishes.\" \n",
            "실제 요약 : Minister praises rape-convict Asaram over Matru-Pitru Divas\n",
            "추상 요약 :  haryana cm father raping yr old girl\n",
            "추출 요약 : \n",
            "\n",
            "\n",
            "원문 : Venezuelan President NicolÃÂ¡s Maduro has claimed that his American counterpart Donald Trump ordered the Colombian government and the Colombian mafia to kill him. \"If something happens to me, Trump and Colombian President IvÃÂ¡n MÃÂ¡rquez will bear responsibility,\" he added. The US has blamed Maduro for the economic crisis in Venezuela and recognised opposition leader Juan GuaidÃÂ³ as interim President.\n",
            "실제 요약 : Trump ordered to kill me: Venezuela President Maduro\n",
            "추상 요약 :  trump calls venezuela prez assad\n",
            "추출 요약 : \n",
            "\n",
            "\n",
            "원문 : Eight Asian billionaires aged 90 or above on the Bloomberg Billionaires Index of world's 500 richest people have a combined net worth of $125 billion. The richest among them is Hong Kong's Li Ka Shing with a net worth of $30.5 billion. India's 90-year-old Pallonji Mistry, who controls 18.3% of Tata Sons through Shapoorji Pallonji Group, is worth $20.1 billion.\n",
            "실제 요약 : 8 Asian billionaires aged over 90, including Mistry, control $125bn\n",
            "추상 요약 :  world richest man wealth bn year\n",
            "추출 요약 : \n",
            "\n",
            "\n",
            "원문 : Tamil Nadu food safety officials on Wednesday raided and seized 1,000 kgs of banned plastic items from Hotel Saravana Bhavan in Chennai's Vadapalani. Officials began a surprise check in the branch at 8 am. The state government had banned single-use plastics from January 1 and said the banned items should be handed over at the offices of the city corporation.\n",
            "실제 요약 : 1,000 kg banned plastic seized from Saravana Bhavan in Chennai\n",
            "추상 요약 :  kg plastic seized banned mumbai\n",
            "추출 요약 : \n",
            "\n",
            "\n",
            "원문 : Actress Shamita Shetty was verbally abused and her driver was slapped in an incident of road rage in Mumbai on Tuesday, as per reports. The incident reportedly took place after a motorist who was accompanied by two friends, rammed his vehicle into Shamita's car. The men allegedly manhandled and threatened Shamita's driver when he stepped out to inspect the damage. \n",
            "실제 요약 : Shamita Shetty abused, driver slapped after accident: Report\n",
            "추상 요약 :  tv actress molested car hits delhi\n",
            "추출 요약 : \n",
            "\n",
            "\n",
            "원문 : Actress Vaani Kapoor said that trolling has become a norm on social media, adding, \"There's no one who hasn't got trolled on social media.\" \"Everybody is out there to pull the other person down but it'll only bother [you] if you let it bother you,\" Vaani added. She further said, social media offers a platform \"where people enjoy belittling everybody\". \n",
            "실제 요약 : Trolling has become the norm on social media: Vaani\n",
            "추상 요약 :  social media social media social media\n",
            "추출 요약 : \n",
            "\n",
            "\n",
            "원문 : Actress Sushmita Sen took to Instagram to share a joke on the subject of marriage. \"Whoever invented marriage was creepy as hell. Like I love you so much IÃ¢ÂÂm gonna get the government involved so you canÃ¢ÂÂt leave,\" Sushmita's post read. \"This is an insult to [the] beauty of marriage,\" an Instagram user commented on her post.\n",
            "실제 요약 : Whoever invented marriage was creepy as hell: Sushmita posts joke\n",
            "추상 요약 :  want sex married husband marriage\n",
            "추출 요약 : \"This is an insult to [the] beauty of marriage,\" an Instagram user commented on her post.\n",
            "\n",
            "\n",
            "원문 : Television actor Karanvir Bohra, who flew to Russia on Tuesday to attend a film festival, has been detained in Moscow due to passport damage. \"They [are] contemplating to deport me back to India,\" the actor wrote on Twitter. The Indian embassy in Russia's capital responded to his tweet and said that they were looking into the issue. \n",
            "실제 요약 : Actor Karanvir Bohra detained in Russia over passport damage\n",
            "추상 요약 :  tv actor banned russia border russia\n",
            "추출 요약 : \n",
            "\n",
            "\n",
            "원문 : While speaking about winning awards for his films, Shah Rukh Khan said, \"If I don't get an award, that award is at a loss.\" \"Sometimes, the prestige of an award increases when I receive it,\" the actor jokingly added. Shah Rukh further said that he was \"extremely ambitious\" but in a \"fair manner\". \n",
            "실제 요약 : If I don't get an award, that award is at loss: SRK\n",
            "추상 요약 :  award award srk\n",
            "추출 요약 : \n",
            "\n",
            "\n",
            "원문 : Actress Patralekhaa will make her debut in the Kannada film industry with the action-comedy film 'Where is my Kannadaka?' \"I can definitely say that itÃ¢ÂÂs a kind of role that I havenÃ¢ÂÂt portrayed on screen so far and that makes it special for me,\" the actress said in a statement. Shooting for the film will reportedly begin in April.\n",
            "실제 요약 : Actress Patralekhaa to make her Kannada film debut \n",
            "추상 요약 :  amitabh star upcoming film\n",
            "추출 요약 : \n",
            "\n",
            "\n",
            "원문 : Gmail on Tuesday faced a global outage, which also affected India, wherein certain users complained they faced a '404 error' message while trying to sign-in to their accounts. The error message read: \"The requested URL was not found on this server. That's all we know.\" Google responded saying \"problem with Gmail should be resolved (now). We apologise for the inconvenience\".\n",
            "실제 요약 : Gmail faces temporary global outage, users face '404 error'\n",
            "추상 요약 :  hackers account account hacked\n",
            "추출 요약 : Gmail on Tuesday faced a global outage, which also affected India, wherein certain users complained they faced a '404 error' message while trying to sign-in to their accounts.\n",
            "\n",
            "\n",
            "원문 : Shiv Sena chief Uddhav Thackeray has asked the BJP to decide about the alliance with the Sena within 15 days and said the BJP should make a concrete proposal on the alliance. Thackeray added that only if the BJP agrees to Sena's terms and conditions, the party will agree for an alliance. Sena is free to fight independently, he said. \n",
            "실제 요약 : Decide about an alliance within 15 days: Uddhav to BJP\n",
            "추상 요약 :  bjp alliance uddhav uddhav thackeray\n",
            "추출 요약 : \n",
            "\n",
            "\n",
            "원문 : BJP President Amit Shah on Wednesday took a dig at the Opposition's proposed grand alliance saying if the \"mahagathbandhan comes to power, each opposition leader will be a Prime Minister every day of the week\". He added, \"[The] country will go on...holiday on Sunday\". He said the Opposition is thinking about leading the country but does not have a leader.\n",
            "실제 요약 : Grand alliance, if wins, will see a new PM every day: Shah\n",
            "추상 요약 :  shah grand alliance shah\n",
            "추출 요약 : \n",
            "\n",
            "\n",
            "원문 : Prime Minister Narendra Modi on Wednesday said his government's demonetisation decision made houses affordable for the aspiring youth. He added decisions like demonetisation and RERA have put a check on black money that used to be \"parked in the real estate sector\". He said 'UDAN' (Ude Desh ka Aam Nagrik) scheme has boosted the development of the country's aviation sector.\n",
            "실제 요약 : Demonetisation made homes affordable for youth: PM Modi\n",
            "추상 요약 :  demonetisation demonetisation demonetisation pm modi\n",
            "추출 요약 : \n",
            "\n",
            "\n"
          ]
        }
      ],
      "source": [
        "for i in range(50, 100):\n",
        "    print(\"원문 :\", data_summa['text'][i])\n",
        "    print(\"실제 요약 :\", data_summa['headlines'][i])\n",
        "    print(\"추상 요약 :\", textSummary(data_summa['text'][i]))\n",
        "    print(\"추출 요약 :\", summarize(data_summa['text'][i], ratio=0.3))\n",
        "    print(\"\\n\")"
      ]
    },
    {
      "cell_type": "code",
      "execution_count": null,
      "id": "297b624d",
      "metadata": {
        "id": "297b624d",
        "outputId": "7e69d2ba-6e78-4f9e-cfe2-2a1765e38e27"
      },
      "outputs": [
        {
          "name": "stdout",
          "output_type": "stream",
          "text": [
            "원문 : us president donald trump youngest son barron trump seen practising football skills white house wearing full arsenal kit year old pictured lawn monday easter egg roll white house several members us professional soccer league major league soccer present lawn party \n",
            "실제 요약 : trump son plays football white house arsenal kit \n",
            "추상 요약 :  trump son obama meet us open\n",
            "추출 요약 : Former Finance Minister Yashwant Sinha on Tuesday demanded a probe into the alleged diversion of loans worth Ã¢ÂÂ¹31,000 crore by Dewan Housing Finance (DHFL).\n",
            "This comes after a media report on Tuesday accused DHFL's controlling shareholders of diverting funds to shell companies to buy assets.\n",
            "\n",
            "\n",
            "원문 : growing trees reduce atmospheric carbon dioxide cannot replace cutting emissions fossil fuel burning study warned plants suck co atmosphere build woody roots leaves low tech carbon dioxide removal could combined high tech underground carbon storage mechanisms meet paris climate agreement goals researchers said \n",
            "실제 요약 : planting trees substitute cutting co emissions study \n",
            "추상 요약 :  use use use water fuel prices\n",
            "추출 요약 : US-based Boeing on Wednesday reported annual sales worth $101.12 billion in 2018, the first time the planemaker's sales crossed the $100-billion mark in its 102-year history.\n",
            "Boeing retained its position as the world's largest planemaker for the seventh straight year, delivering 806 aircraft in 2018.\n",
            "\n",
            "\n",
            "원문 : low cost airline ryanair ceo michael made million last fiscal claimed seriously added shareholders opposed bumper pay packet adding feels appreciated also slammed government proposals would force firms publish details executive pay \n",
            "실제 요약 : seriously underpaid says ryanair ceo \n",
            "추상 요약 :  ceo loses billion tax ceo\n",
            "추출 요약 : \n",
            "\n",
            "\n",
            "원문 : boeing airbus group supplier fined investigation alleged discriminatory hiring policy investigation found founder refused hire muslim applicants engaged religious national origin harassment however said founder personal views \n",
            "실제 요약 : boeing supplier fined cr discrimination muslims \n",
            "추상 요약 :  singapore demands lakh indians\n",
            "추출 요약 : OnePlus has emerged as India's best-selling premium smartphone brand of 2018, as per a report by Counterpoint.\n",
            "Further, its OnePlus 6 emerged as the highest selling premium smartphone of 2018 followed by OnePlus 6T.\n",
            "\n",
            "\n",
            "원문 : tamil nadu health department wednesday launched cosmetic surgery clinic government hospital chennai provide free breast reconstruction surgeries poor stating beauty treatments available everyone state health minister cv said government launched initiative women may use dangerous methods take loans surgeries \n",
            "실제 요약 : tamil nadu starts free breast implants poor \n",
            "추상 요약 :  tamil nadu hospital doctors remove nipah virus\n",
            "추출 요약 : Filmmaker Pooja Bhatt, while talking about the presentation of women in her films, said, \"I can never look at a female body, even if it's naked, in a vulgar manner.\" \"Our audience can say...the women in my films are bold or sensual, but never ever vulgar,\" she added.\n",
            "\n",
            "\n",
            "원문 : supreme court commenced hearing first love jihad case monday hadiya told court wanted freedom back adding parents custody unlawful another development court ordered could pursue education medical college tamil nadu salem college dean \n",
            "실제 요약 : want freedom custody hadiya parents \n",
            "추상 요약 :  sc allows yr old justice adultery marriage\n",
            "추출 요약 : Actress Mishti, who has featured in 'Manikarnika: The Queen of Jhansi', has said the film's co-director Kangana Ranaut made false promises to the cast.\n",
            "\n",
            "\n",
            "원문 : rajkumar hirani said sanjay dutt would played older self upcoming biopic sanju would weird added seeing ranbir sanju throughout film suddenly see sanjay playing older self would automatically disconnected public link film \n",
            "실제 요약 : dutt playing older self sanju would hirani \n",
            "추상 요약 :  dutt biopic sanjay dutt biopic\n",
            "추출 요약 : The high-powered committee led by PM Narendra Modi to select the next CBI Director will meet again on February 1, Congress leader Mallikarjun Kharge has said.\n",
            "\n",
            "\n",
            "원문 : congratulating spacex completion falcon launches ceo elon musk tweeted cannot believe fifty falcon launches already ten years ago could even reach orbit little falcon space exploration startup launched rocket florida us tuesday carrying largest geostationary satellite company ever flown \n",
            "실제 요약 : reach orbit yrs ago musk th falcon launch \n",
            "추상 요약 :  spacex may launch new spacex launch spacex\n",
            "추출 요약 : Nevada State Athletic Commission has banned MMA fighters Conor McGregor and Khabib Nurmagomedov for six months and nine months respectively over their roles in the mass brawl that occurred after their fight at UFC 229 last October.\n",
            "The brawl occurred after Nurmagomedov confronted McGregor's teammate.\n",
            "\n",
            "\n",
            "원문 : spiritual leader sri sri ravi shankar said loved watching sanjay leela bhansali padmaavat found nothing objectionable added padmaavat celebrated across india rajput honour make proud bhansali held pre release screening film spiritual leader art living foundation bengaluru monday \n",
            "실제 요약 : loved padmaavat found nothing objectionable sri sri \n",
            "추상 요약 :  bhansali chief meets ranveer singh sanjay dutt\n",
            "추출 요약 : Pakistan captain Sarfaraz Ahmed, who has been banned for four matches over racist remarks, took an apparent dig at his critics by sharing a video of a child reciting 'log hai na' poem on Twitter.\n",
            "\"Pyaar karna hai to khud se kar...dushmani karne ke liye log hai na,\" the poem read.\n",
            "\n",
            "\n",
            "원문 : bjp president amit shah saturday alleged party done much corruption aap tenure delhi one two legislators aap booked criminal cases ever since aap elections delhi added shah said aap made record losing elections \n",
            "실제 요약 : party much corruption aap delhi bjp \n",
            "추상 요약 :  delhi cm shah corruption case amit shah\n",
            "추출 요약 : Sreesanth further said the bookie tried dragging him into spot-fixing but he didn't fall for it.\n",
            "Citing Sreesanth not informing BCCI about fixing approach, the apex court said Sreesanth's conduct \"wasn't good\".\n",
            "\n",
            "\n",
            "원문 : england rounder ben stokes ipl auction expensive buy bought rajasthan royals crore ms dhoni expensive buy first ever ipl auction bought csk million delhi daredevils bought yuvraj singh crore making expensive buy ipl ever \n",
            "실제 요약 : expensive players past ipl auctions \n",
            "추상 요약 :  mumbai buys cr ipl auction\n",
            "추출 요약 : The Finance Ministry on Wednesday said the government will present an Interim Budget on February 1.\n",
            "The government recently assigned Piyush Goyal temporary additional charge of the Finance and Corporate Affairs ministries in the absence of Arun Jaitley, who is in the US for treatment.\n",
            "\n",
            "\n",
            "원문 : newly discovered species pistol shrimp named honour british rock band pink floyd newly discovered species shrimp distinct almost glowing pink found tropical eastern pacific regions known generate loud pistol like sounds \n",
            "실제 요약 : new species named british band pink floyd \n",
            "추상 요약 :  man eats lions boxing boxing term\n",
            "추출 요약 : US President Donald Trump on Wednesday called his country's top intelligence chiefs \"naive\" and \"wrong\" on Iran and added that they should perhaps \"go back to school\".\n",
            "Trump claimed Iran is testing rockets, calling the country \"a source of potential danger and conflict\".\n",
            "\n",
            "\n",
            "원문 : man beaten death haryana sonipat allegedly sharing pictures clicked family members whatsapp group victim brother said accidentally shared pictures group angered one recipient accused invited man family home attacked rods bricks \n",
            "실제 요약 : man killed sharing family pics whatsapp group \n",
            "추상 요약 :  man tries kill woman files fir facebook\n",
            "추출 요약 : A senior priest at the Vatican who handled cases of sexual abuse has quit after being accused of sexual abuse by a former nun.\n",
            "The Vatican said in a statement that a Church investigation of the case was underway.\n",
            "\n",
            "\n",
            "원문 : mp municipality converted garbage truck van ferry unclaimed bodies crematorium however official said since vehicle used collecting trash utilised carrying bodies civic body notably reports claimed district hospital van \n",
            "실제 요약 : mp civic body turns garbage truck van carrying dead \n",
            "추상 요약 :  mp mp officials mp highway truck\n",
            "추출 요약 : A 22-year-old writer turned down a job offer, claiming she was bullied to the point of tears during her two-hour interview by a UK company's CEO.\n",
            "\"I am so sorry that anyone has been hurt, it is never my intent,\" Web Applications CEO Craig Dean replied.\n",
            "\n",
            "\n",
            "원문 : nora starrer song rajkummar rao shraddha kapoor stree released song composed sachin jigar vocals gill sachin sanghvi jigar divya kumar lyrics vayu directed amar kaushik stree scheduled release august \n",
            "실제 요약 : starrer song stree released \n",
            "추상 요약 :  shraddha shraddha shraddha mubarakan mubarakan released\n",
            "추출 요약 : Noida Police has arrested Sector 20 station in-charge Manoj Pant and three journalists for allegedly extorting money from a call centre owner for removing his name from an FIR.\n",
            "The four were caught while taking bribe money of Ã¢ÂÂ¹8 lakh, police said.\n",
            "\n",
            "\n",
            "원문 : video airbus largest passenger jet world making hard landing storm german city gone viral video watched millions times shows appearing bounce landing plane pilots managed steady \n",
            "실제 요약 : world largest passenger jet makes hard landing amid storm \n",
            "추상 요약 :  plane lands plane crashes us\n",
            "추출 요약 : India's second-largest telecom operator's Africa unit recently raised $1.25 billion from six investors.\n",
            "Airtel Africa, the holding company for Airtel's operations in 14 African countries, is preparing for an initial public offering.\n",
            "\n",
            "\n",
            "원문 : year old us man million lottery finding winning ticket old shirt pocket two days due expire man claimed prize year searched ticket new york lottery made announcement unclaimed reward \n",
            "실제 요약 : man finds cr lottery ticket days \n",
            "추상 요약 :  man wins crore lottery lottery\n",
            "추출 요약 : Actor Shreyas Talpade said that 'Golmaal' filmmaker Rohit Shetty is still working on the script for the fifth instalment of the 'Golmaal' film franchise.\n",
            "Once he's done with the...scripting, he'll take a call,Ã¢ÂÂ the actor added.\n",
            "\n",
            "\n",
            "원문 : filed total criminal cases two months investigating nude photo scandal nude photos male female us marine soldiers shared online investigation team searched websites recovered nudes within two months investigators also found suspects could stalked victims \n",
            "실제 요약 : us nude photo sharing leads criminal cases \n",
            "추상 요약 :  police porn porn porn porn porn porn porn\n",
            "추출 요약 : A 72-year-old man named Terry Sanderson has sued 'Avengers' actress Gwyneth Paltrow for allegedly crashing into him while skiing, and is seeking $3.1 million (over Ã¢ÂÂ¹22 crore) in damages.\n",
            "The lawsuit states the actress got up and skied away after knocking the man down, leaving him with broken ribs.\n",
            "\n",
            "\n",
            "원문 : attempt raise quick funds american airlines introduced pass allowing customers fly free life unlimited purchased people used one person fly london times one month another person reportedly used pass ferry people united states fee \n",
            "실제 요약 : airlines issued pass let people fly free life \n",
            "추상 요약 :  uk offers free service free people\n",
            "추출 요약 : Yami Gautam was felicitated by Border Security Force (BSF) in Amritsar for her performance in 'Uri: The Surgical Strike'.\n",
            "\"BSF is the first line of defence of our country and it gives me...pride to have met them,\" Yami said.\n",
            "\n",
            "\n",
            "원문 : indian banks need additional capital billion meet basel iii capital standards march state run lenders accounting requirements fitch ratings said said government committed investing another billion state run banks next two already provided originally budgeted billion \n",
            "실제 요약 : indian banks need bn capital meet rules fitch \n",
            "추상 요약 :  india open account bn world bank\n",
            "추출 요약 : Social media giant Facebook has hired privacy critic Nate Cardozo, formerly the top legal counsel for US privacy watchdog EFF, as a privacy policy manager for WhatsApp. Cardozo had called Facebook a \"faceless corporation\" whose business model depends on user's confusion and indifference about privacy, in October 2015.\n",
            "\n",
            "\n",
            "원문 : trailer upcoming musical comedy pitch perfect released saturday original cast members anna rebel wilson elizabeth banks joined ruby rose sequel third installation pitch perfect franchise directed film scheduled release december \n",
            "실제 요약 : trailer anna pitch perfect released \n",
            "추상 요약 :  trailer ganguly starrer released\n",
            "추출 요약 : Apple CEO Tim Cook said the company plans to lower some iPhones' prices in markets with currencies that weakened against the US dollar in the past year.\n",
            "\"WeÃ¢ÂÂve decided to go back to (iPhone prices) more commensurate with...local prices...a year ago,\" Cook added.\n",
            "\n",
            "\n",
            "원문 : congress vice president rahul gandhi monday began election campaign gujarat riding bullock cart short stretch police refused permission road show open top jeep campaign dwarka promising yuva jobs youth rights farmers interactions people \n",
            "실제 요약 : rahul rides bullock cart gujarat election campaign \n",
            "추상 요약 :  rahul gandhi sends pm modi workers\n",
            "추출 요약 : The suit, made of synthetic material similar to the material used in bulletproof vests, could help reduce blood loss after a shark attack.\n",
            "\"The majority of fatalities from shark bites is due to blood loss...shock from blood loss,\" a scientist said.\n",
            "\n",
            "\n",
            "원문 : actor salman khan revealed really liked girl could never courage tell ended dating two friends friend others dated heartbroken never got know feelings added salman \n",
            "실제 요약 : liked girl ended dating friends salman \n",
            "추상 요약 :  brother thought dating salman\n",
            "추출 요약 : BJP National Secretary Rahul Sinha on Wednesday asked the party workers in West Bengal to come armed with sticks to PM Narendra Modi's rally in the state on February 2.\n",
            "Sinha added the TMC is indulged in violence as they're afraid of BJP's strength.\n",
            "\n",
            "\n",
            "원문 : uk ministers took part secret exercise focused day queen death planned days mourning would follow monarch passing reports said exercise dubbed castle dove reportedly took place day queen elizabeth ii cancelled appearance service feeling weather \n",
            "실제 요약 : uk ministers queen elizabeth ii death reports \n",
            "추상 요약 :  uk returns week st time yrs\n",
            "추출 요약 : BJP President Amit Shah on Wednesday took a dig at the Opposition parties saying that the 'mahagathbandhan' for the Opposition is 4B - \"Bua-Bhatija-Bhai-Behen\".\n",
            "He added that 4B for the BJP meant \"Badhta Bharat, Banta Bharat\".\n",
            "\n",
            "\n",
            "원문 : aishwarya rai bachchan anil kapoor rajkummar rao starrer fanney khan released today slice life film wrote hindustan times fanney khan taps emotions father daughter relationship said ndtv firstpost called film comedy rated \n",
            "실제 요약 : aishwarya anil starrer fanney khan hits theatres \n",
            "추상 요약 :  aishwarya anil kapoor starrer fanney khan\n",
            "추출 요약 : Volkswagen's sales, including its MAN and Scania heavy trucks and buses, rose 0.9% to 10.83 million in 2018, the company had said.\n",
            "Toyota came second with around 10.6 million deliveries, including its affiliated brands Daihatsu and Hino, in 2018.\n",
            "\n",
            "\n",
            "원문 : former indian batsman rahul dravid said offside first god sourav ganguly former indian captain turned saturday let honest tell tv screen looks different warm person actually meet ms dhoni said ganguly \n",
            "실제 요약 : pictures quotes sourav ganguly \n",
            "추상 요약 :  kl rahul dravid ganguly\n",
            "추출 요약 : Ousted Nissan Chairman Carlos Ghosn has said his arrest over alleged financial misconduct was led by \"plot and treason\" by the Japanese carmaker's executives who opposed its deeper integration with Renault and Mitsubishi.\n",
            "Ghosn added he had discussed the integration plans with Nissan's CEO in September, a month before his arrest.\n",
            "\n",
            "\n",
            "원문 : former zimbabwean president robert mugabe called ouster office coup must year old forced resign post last year army took party launched impeachment proceedings mugabe one world longest serving leaders led zimbabwe years \n",
            "실제 요약 : former zimbabwe president terms forced exit coup \n",
            "추상 요약 :  zimbabwe prez mugabe mugabe resign\n",
            "추출 요약 : The government has cut down customs duty on import of parts and components for electric vehicles to 10-15%, down from the previous 15-30%.\n",
            "However, fully built electric vehicles will continue to attract 25% import duty.\n",
            "\n",
            "\n",
            "원문 : man muzaffarnagar uttar pradesh refused marry girl non vegetarian dishes served wedding bride family said non vegetarian dishes served shortage meat due crackdown slaughterhouses however bride later married guest proposed woman wedding \n",
            "실제 요약 : man refuses marriage meat dishes served wedding \n",
            "추상 요약 :  tn woman denied entry wedding wedding\n",
            "추출 요약 : Government officials on Wednesday said that a swine flu outbreak has killed 76 people this year in Rajasthan.\n",
            "Rajasthan recorded more than a third of all swine flu deaths in India with Jodhpur being the worst affected area in the state, officials said.\n",
            "\n",
            "\n",
            "원문 : bengaluru based workforce outsourcing startup raised crore seed fund angel investors startup said statement amount used scale outreach improve product startup added founded business work among college students turn provides \n",
            "실제 요약 : workforce startup raises crore \n",
            "추상 요약 :  bengaluru based startup raises crore\n",
            "추출 요약 : \"North Korean leaders view nuclear arms as critical to regime survival,\" he added.\n",
            "His statements come despite North Korea's agreement with the US at the Singapore summit last year to denuclearise the Korean Peninsula.\n",
            "\n",
            "\n",
            "원문 : british telephone service company virgin media advised eight lakh customers specific change passwords immediately investigation found could hacked easily investigation uk publication called found hackers could gain access home networks connected appliances little four days \n",
            "실제 요약 : virgin media asks lakh users change passwords \n",
            "추상 요약 :  uk firm offers million users use tax\n",
            "추출 요약 : Jet Airways on Wednesday denied it was directed by GE Capital Aviation Services to ground its aircraft due to non-payment of dues.\n",
            "Further, three aircraft have been temporarily grounded to carry out an engine normalisation exercise, it added.\n",
            "\n",
            "\n",
            "원문 : gst council may consider lowering gst construction flats houses meeting next month currently gst levied construction property ready move flats completion certificate issued time sale gst levied buyers real estate properties completion certificate issued sale \n",
            "실제 요약 : gst construction flats houses may \n",
            "추상 요약 :  gst rate cut tax rates\n",
            "추출 요약 : Retired Justice Srikrishna's enquiry panel has found that ex-CEO Chanda Kochhar violated ICICI Bank's code of conduct.\n",
            "The bank said it'll treat Kochhar's exit as termination and will take back all bonuses paid to her from April 2009 until March 2018.\n",
            "\n",
            "\n",
            "원문 : former finance minister chidambaram said back series gdp proved best years economic growth upa years india economy grew double digits twice previous upa regime prime minister manmohan singh according recently released ministry statistics data \n",
            "실제 요약 : back series gdp data proved upa years best chidambaram \n",
            "추상 요약 :  economy growth growth ex fm\n",
            "추출 요약 : Ex-India cricketer Jacob Martin has been shifted to general ward from the ICU after being on a ventilator for nearly a month following a road accident, wherein he severely injured his lungs.\n",
            "Martin's wife Khyati mentioned there are chances that Jacob will be in hospital for two more months.\n",
            "\n",
            "\n",
            "원문 : rishi kapoor asked approves son ranbir kapoor girlfriend alia bhatt said ranbir life wants get married neetu likes like ranbir likes cannot uncles chose life partners ranbir entitled choose rishi added \n",
            "실제 요약 : ranbir likes alia neetu like rishi \n",
            "추상 요약 :  ranbir alia ranbir alia\n",
            "추출 요약 : Tanya accused Perera of meeting country's Sports Minister to secure his place in the team.\n",
            "\"We've become laughing stock of whole country...because of one person's personal vendetta,\" Perera wrote.\n",
            "\n",
            "\n",
            "원문 : bjp ally shiv sena mp arvind sawant said pm narendra modi speech parliament wednesday election speech similar one pm gave campaigns time modi ji years people want hear schemes criticism congress shiv sena spokesperson manisha said \n",
            "실제 요약 : pm modi parliament address election speech shiv sena \n",
            "추상 요약 :  pm modi speech nation shiv sena\n",
            "추출 요약 : Goa CM and ex-Defence Minister Manohar Parrikar has written a letter to Congress President Rahul Gandhi over his claim that Parrikar told him he has nothing to do with new Rafale deal.\n",
            "\n",
            "\n",
            "원문 : veteran actress reema lagoo passed away thursday age suffering cardiac arrest known acting films like hum aapke hain koun kuch kuch hota hai kal ho naa ho tv serials tu tu main main four filmfare awards best supporting actress \n",
            "실제 요약 : actress reema passes away aged \n",
            "추상 요약 :  veteran actress vinod khanna passes away aged\n",
            "추출 요약 : PM Modi then asked his officers to urgently arrange for an ambulance for the cameraman.\n",
            "\"It's good that PM was paying attention to his surroundings during his speech,\" the cameraman later said from a hospital.\n",
            "\n",
            "\n",
            "원문 : ireland voted overturn ban abortions irish bishop said voted favour amendment committed sin voted yes consider coming confession added said want come confession received compassion \n",
            "실제 요약 : voted abortion committed sin irish bishop \n",
            "추상 요약 :  austria bans gender neutral\n",
            "추출 요약 : A couple got divorced minutes after their wedding ceremony got over in Gujarat's Gondal as a disagreement broke out and relatives from both sides started throwing dishes at each other during lunch.\n",
            "The advocates representing both sides arrived at the marriage hall and got the couple divorced within minutes.\n",
            "\n",
            "\n",
            "원문 : textiles minister smriti irani sunday tagged superwoman lilly singh tweet posting know old year old says say irani shared picture singh recently released book singh described confident person makes people feel good \n",
            "실제 요약 : smriti irani tags singh tweet \n",
            "추상 요약 :  smriti irani shares picture smriti irani\n",
            "추출 요약 : Gujarat Education Minister Bhupendrasinh Chudasma has written a congratulatory message to a yoga ashram run by rape-convict Asaram's organisation for observing February 14 as \"Matru-Pitru Pujan Divas\" (Mother-Father worship day).\n",
            "\n",
            "\n",
            "원문 : lynching deputy sp mohammed srinagar captured video bought destroyed state government fear public top state official reportedly said official added video content violent deputy arms legs bent broken like someone breaks sugarcane eating \n",
            "실제 요약 : govt bought destroyed cop lynching video report \n",
            "추상 요약 :  police officer goes missing\n",
            "추출 요약 : Venezuelan President NicolÃÂ¡s Maduro has claimed that his American counterpart Donald Trump ordered the Colombian government and the Colombian mafia to kill him.\n",
            "\"If something happens to me, Trump and Colombian President IvÃÂ¡n MÃÂ¡rquez will bear responsibility,\" he added.\n",
            "\n",
            "\n",
            "원문 : pakistan fakhar zaman imam ul haq recorded odi cricket history first ever plus run opening stand sharing runs first wicket zimbabwe friday previous highest opening stand odi cricket runs recorded sri lanka sanath jayasuriya upul tharanga england run stand also pakistan highest ever odi partnership \n",
            "실제 요약 : pak record odi cricket first ever run opening stand \n",
            "추상 요약 :  pak batsman breaks odi runs balls\n",
            "추출 요약 : Eight Asian billionaires aged 90 or above on the Bloomberg Billionaires Index of world's 500 richest people have a combined net worth of $125 billion.\n",
            "The richest among them is Hong Kong's Li Ka Shing with a net worth of $30.5 billion.\n",
            "\n",
            "\n",
            "원문 : us discussed potential missile defence cooperation india us said missile defence review natural india status major defence partner key element indo pacific strategy added russia china iran north korea described current emerging missile threats us \n",
            "실제 요약 : us discusses potential missile defence cooperation india \n",
            "추상 요약 :  us russia seek sanctions us sanctions russia\n",
            "추출 요약 : Tamil Nadu food safety officials on Wednesday raided and seized 1,000 kgs of banned plastic items from Hotel Saravana Bhavan in Chennai's Vadapalani.\n",
            "The state government had banned single-use plastics from January 1 and said the banned items should be handed over at the offices of the city corporation.\n",
            "\n",
            "\n",
            "원문 : talking process developing launching products apple ceo tim cook said company takes time get every product right believe using customers laboratory think unique patience patience wait something great ship added \n",
            "실제 요약 : believe using customers apple ceo \n",
            "추상 요약 :  apple ceo tim cook\n",
            "추출 요약 : Actress Shamita Shetty was verbally abused and her driver was slapped in an incident of road rage in Mumbai on Tuesday, as per reports.\n",
            "The incident reportedly took place after a motorist who was accompanied by two friends, rammed his vehicle into Shamita's car.\n",
            "\n",
            "\n",
            "원문 : zee horror show co director tulsi brothers passed away age heart attack mumbai tulsi co directed zee horror show brother shyam brothers tulsi kumar shyam arjun kiran produced series horror shows \n",
            "실제 요약 : zee horror show co director tulsi passes away \n",
            "추상 요약 :  telugu actor brother passes away aged\n",
            "추출 요약 : Actress Vaani Kapoor said that trolling has become a norm on social media, adding, \"There's no one who hasn't got trolled on social media.\" \"Everybody is out there to pull the other person down but it'll only bother [you] if you let it bother you,\" Vaani added.\n",
            "\n",
            "\n",
            "원문 : south korea based cryptocurrency exchange sunday announced platform hacked resulting loss reported amount million according website exchange already suspended services managed freeze two thirds stolen tokens also said reserves moved cold wallet without internet access \n",
            "실제 요약 : korean crypto exchange hacked loses mn \n",
            "추상 요약 :  north korea hack cryptocurrency\n",
            "추출 요약 : Actress Sushmita Sen took to Instagram to share a joke on the subject of marriage.\n",
            "\"This is an insult to [the] beauty of marriage,\" an Instagram user commented on her post.\n",
            "\n",
            "\n",
            "원문 : reacting juventus forward cristiano ronaldo getting red card pulling opponent hair champions league match teammate said women playing football giving red card sent foul added later apologised saying intention women \n",
            "실제 요약 : women teammate ronaldo red card pulling hair \n",
            "추상 요약 :  ronaldo fined lakh free player\n",
            "추출 요약 : Television actor Karanvir Bohra, who flew to Russia on Tuesday to attend a film festival, has been detained in Moscow due to passport damage.\n",
            "\"They [are] contemplating to deport me back to India,\" the actor wrote on Twitter.\n",
            "\n",
            "\n",
            "원문 : model gigi hadid featured cover shoot harper bazaar us shot nasa kennedy space center florida gigi seen wearing metallic silver cape coat boots chanel cover shot also posed gucci outside apollo crew capsule \n",
            "실제 요약 : gigi hadid poses nasa space centre magazine shoot \n",
            "추상 요약 :  vogue magazine gigi hadid attend china\n",
            "추출 요약 : While speaking about winning awards for his films, Shah Rukh Khan said, \"If I don't get an award, that award is at a loss.\" \"Sometimes, the prestige of an award increases when I receive it,\" the actor jokingly added.\n",
            "\n",
            "\n",
            "원문 : uk based study found iceland saw less volcanic activity glacier cover glaciers melted eruptions increased due changes surface pressure researchers noticed year time lag major decrease ancient global temperatures reduced adding similar time lag expected following recent shift warmer temperatures \n",
            "실제 요약 : global warming could increase volcanic study \n",
            "추상 요약 :  scientists discover new ocean\n",
            "추출 요약 : Actress Patralekhaa will make her debut in the Kannada film industry with the action-comedy film 'Where is my Kannadaka?' \"I can definitely say that itÃ¢ÂÂs a kind of role that I havenÃ¢ÂÂt portrayed on screen so far and that makes it special for me,\" the actress said in a statement.\n",
            "\n",
            "\n",
            "원문 : pad man director balki said menstruation natural phenomenon growing beard adding natural process nothing hide added moment call adult topic whole purpose defeated balki said pad man children film must watched families \n",
            "실제 요약 : natural growing beard pad man director \n",
            "추상 요약 :  man know know\n",
            "추출 요약 : Gmail on Tuesday faced a global outage, which also affected India, wherein certain users complained they faced a '404 error' message while trying to sign-in to their accounts.\n",
            "The error message read: \"The requested URL was not found on this server.\n",
            "\n",
            "\n",
            "원문 : elon musk spacex signed deal japanese lunar exploration startup moon rover mission plans orbit lunar lander around moon second mission land two rovers moon surface using spacex falcon rocket startup said signed launches spacex rockets \n",
            "실제 요약 : musk spacex signs japanese startup moon rover mission \n",
            "추상 요약 :  spacex launches th century moon mission\n",
            "추출 요약 : Shiv Sena chief Uddhav Thackeray has asked the BJP to decide about the alliance with the Sena within 15 days and said the BJP should make a concrete proposal on the alliance.\n",
            "Thackeray added that only if the BJP agrees to Sena's terms and conditions, the party will agree for an alliance.\n",
            "\n",
            "\n",
            "원문 : confession journalist gauri lankesh murder accused claimed hindu samiti leader mohan gowda put touch extremist unit hindu outfit sanatan sanstha planning murder came contact hindutva activist another accused arrested earlier may lankesh shot dead bengaluru september last year \n",
            "실제 요약 : journo murder accused names hindu body leader confession \n",
            "추상 요약 :  gauri lankesh murder accused gauri lankesh murder\n",
            "추출 요약 : BJP President Amit Shah on Wednesday took a dig at the Opposition's proposed grand alliance saying if the \"mahagathbandhan comes to power, each opposition leader will be a Prime Minister every day of the week\".\n",
            "He said the Opposition is thinking about leading the country but does not have a leader.\n",
            "\n",
            "\n",
            "원문 : us based startup working camera car shoots degree videos alerts users someone tries steal car camera lets users check cars via live stream phones also fitted detect movements would prompt send alerts owners \n",
            "실제 요약 : alerts user someone tries steal car \n",
            "추상 요약 :  startup makes self driving cars detect crash\n",
            "추출 요약 : Prime Minister Narendra Modi on Wednesday said his government's demonetisation decision made houses affordable for the aspiring youth.\n",
            "He added decisions like demonetisation and RERA have put a check on black money that used to be \"parked in the real estate sector\".\n",
            "\n",
            "\n"
          ]
        }
      ],
      "source": [
        "for i in range(50, 100):\n",
        "    print(\"원문 :\", seq2text(encoder_input_test[i]))\n",
        "    print(\"실제 요약 :\", seq2headlines(decoder_input_test[i]))\n",
        "    print(\"추상 요약 :\", decode_sequence(encoder_input_test[i].reshape(1, text_max_len)))\n",
        "    print(\"추출 요약 :\", summarize(data_summa['text'][i], ratio=0.7))  # ratio값을 0.7로 조정\n",
        "    print(\"\\n\")"
      ]
    },
    {
      "cell_type": "code",
      "execution_count": null,
      "id": "5b0d2cea",
      "metadata": {
        "id": "5b0d2cea",
        "outputId": "95ff449c-d57c-4a27-fd8b-b3c71acd43a7"
      },
      "outputs": [
        {
          "name": "stdout",
          "output_type": "stream",
          "text": [
            "원문 : us president donald trump youngest son barron trump seen practising football skills white house wearing full arsenal kit year old pictured lawn monday easter egg roll white house several members us professional soccer league major league soccer present lawn party \n",
            "실제 요약 : trump son plays football white house arsenal kit \n",
            "추상 요약 :  trump son obama meet us open\n",
            "추출 요약 : Former Finance Minister Yashwant Sinha on Tuesday demanded a probe into the alleged diversion of loans worth Ã¢ÂÂ¹31,000 crore by Dewan Housing Finance (DHFL).\n",
            "\n",
            "\n",
            "원문 : growing trees reduce atmospheric carbon dioxide cannot replace cutting emissions fossil fuel burning study warned plants suck co atmosphere build woody roots leaves low tech carbon dioxide removal could combined high tech underground carbon storage mechanisms meet paris climate agreement goals researchers said \n",
            "실제 요약 : planting trees substitute cutting co emissions study \n",
            "추상 요약 :  use use use water fuel prices\n",
            "추출 요약 : Boeing retained its position as the world's largest planemaker for the seventh straight year, delivering 806 aircraft in 2018.\n",
            "\n",
            "\n",
            "원문 : low cost airline ryanair ceo michael made million last fiscal claimed seriously added shareholders opposed bumper pay packet adding feels appreciated also slammed government proposals would force firms publish details executive pay \n",
            "실제 요약 : seriously underpaid says ryanair ceo \n",
            "추상 요약 :  ceo loses billion tax ceo\n",
            "추출 요약 : \n",
            "\n",
            "\n",
            "원문 : boeing airbus group supplier fined investigation alleged discriminatory hiring policy investigation found founder refused hire muslim applicants engaged religious national origin harassment however said founder personal views \n",
            "실제 요약 : boeing supplier fined cr discrimination muslims \n",
            "추상 요약 :  singapore demands lakh indians\n",
            "추출 요약 : Further, its OnePlus 6 emerged as the highest selling premium smartphone of 2018 followed by OnePlus 6T.\n",
            "\n",
            "\n",
            "원문 : tamil nadu health department wednesday launched cosmetic surgery clinic government hospital chennai provide free breast reconstruction surgeries poor stating beauty treatments available everyone state health minister cv said government launched initiative women may use dangerous methods take loans surgeries \n",
            "실제 요약 : tamil nadu starts free breast implants poor \n",
            "추상 요약 :  tamil nadu hospital doctors remove nipah virus\n",
            "추출 요약 : Filmmaker Pooja Bhatt, while talking about the presentation of women in her films, said, \"I can never look at a female body, even if it's naked, in a vulgar manner.\" \"Our audience can say...the women in my films are bold or sensual, but never ever vulgar,\" she added.\n",
            "\n",
            "\n",
            "원문 : supreme court commenced hearing first love jihad case monday hadiya told court wanted freedom back adding parents custody unlawful another development court ordered could pursue education medical college tamil nadu salem college dean \n",
            "실제 요약 : want freedom custody hadiya parents \n",
            "추상 요약 :  sc allows yr old justice adultery marriage\n",
            "추출 요약 : Actress Mishti, who has featured in 'Manikarnika: The Queen of Jhansi', has said the film's co-director Kangana Ranaut made false promises to the cast.\n",
            "\n",
            "\n",
            "원문 : rajkumar hirani said sanjay dutt would played older self upcoming biopic sanju would weird added seeing ranbir sanju throughout film suddenly see sanjay playing older self would automatically disconnected public link film \n",
            "실제 요약 : dutt playing older self sanju would hirani \n",
            "추상 요약 :  dutt biopic sanjay dutt biopic\n",
            "추출 요약 : The high-powered committee led by PM Narendra Modi to select the next CBI Director will meet again on February 1, Congress leader Mallikarjun Kharge has said.\n",
            "\n",
            "\n",
            "원문 : congratulating spacex completion falcon launches ceo elon musk tweeted cannot believe fifty falcon launches already ten years ago could even reach orbit little falcon space exploration startup launched rocket florida us tuesday carrying largest geostationary satellite company ever flown \n",
            "실제 요약 : reach orbit yrs ago musk th falcon launch \n",
            "추상 요약 :  spacex may launch new spacex launch spacex\n",
            "추출 요약 : Nevada State Athletic Commission has banned MMA fighters Conor McGregor and Khabib Nurmagomedov for six months and nine months respectively over their roles in the mass brawl that occurred after their fight at UFC 229 last October.\n",
            "\n",
            "\n",
            "원문 : spiritual leader sri sri ravi shankar said loved watching sanjay leela bhansali padmaavat found nothing objectionable added padmaavat celebrated across india rajput honour make proud bhansali held pre release screening film spiritual leader art living foundation bengaluru monday \n",
            "실제 요약 : loved padmaavat found nothing objectionable sri sri \n",
            "추상 요약 :  bhansali chief meets ranveer singh sanjay dutt\n",
            "추출 요약 : Pakistan captain Sarfaraz Ahmed, who has been banned for four matches over racist remarks, took an apparent dig at his critics by sharing a video of a child reciting 'log hai na' poem on Twitter.\n",
            "\n",
            "\n",
            "원문 : bjp president amit shah saturday alleged party done much corruption aap tenure delhi one two legislators aap booked criminal cases ever since aap elections delhi added shah said aap made record losing elections \n",
            "실제 요약 : party much corruption aap delhi bjp \n",
            "추상 요약 :  delhi cm shah corruption case amit shah\n",
            "추출 요약 : Sreesanth further said the bookie tried dragging him into spot-fixing but he didn't fall for it.\n",
            "\n",
            "\n",
            "원문 : england rounder ben stokes ipl auction expensive buy bought rajasthan royals crore ms dhoni expensive buy first ever ipl auction bought csk million delhi daredevils bought yuvraj singh crore making expensive buy ipl ever \n",
            "실제 요약 : expensive players past ipl auctions \n",
            "추상 요약 :  mumbai buys cr ipl auction\n",
            "추출 요약 : The Finance Ministry on Wednesday said the government will present an Interim Budget on February 1.\n",
            "\n",
            "\n",
            "원문 : newly discovered species pistol shrimp named honour british rock band pink floyd newly discovered species shrimp distinct almost glowing pink found tropical eastern pacific regions known generate loud pistol like sounds \n",
            "실제 요약 : new species named british band pink floyd \n",
            "추상 요약 :  man eats lions boxing boxing term\n",
            "추출 요약 : US President Donald Trump on Wednesday called his country's top intelligence chiefs \"naive\" and \"wrong\" on Iran and added that they should perhaps \"go back to school\".\n",
            "\n",
            "\n",
            "원문 : man beaten death haryana sonipat allegedly sharing pictures clicked family members whatsapp group victim brother said accidentally shared pictures group angered one recipient accused invited man family home attacked rods bricks \n",
            "실제 요약 : man killed sharing family pics whatsapp group \n",
            "추상 요약 :  man tries kill woman files fir facebook\n",
            "추출 요약 : A senior priest at the Vatican who handled cases of sexual abuse has quit after being accused of sexual abuse by a former nun.\n",
            "\n",
            "\n",
            "원문 : mp municipality converted garbage truck van ferry unclaimed bodies crematorium however official said since vehicle used collecting trash utilised carrying bodies civic body notably reports claimed district hospital van \n",
            "실제 요약 : mp civic body turns garbage truck van carrying dead \n",
            "추상 요약 :  mp mp officials mp highway truck\n",
            "추출 요약 : A 22-year-old writer turned down a job offer, claiming she was bullied to the point of tears during her two-hour interview by a UK company's CEO.\n",
            "\n",
            "\n",
            "원문 : nora starrer song rajkummar rao shraddha kapoor stree released song composed sachin jigar vocals gill sachin sanghvi jigar divya kumar lyrics vayu directed amar kaushik stree scheduled release august \n",
            "실제 요약 : starrer song stree released \n",
            "추상 요약 :  shraddha shraddha shraddha mubarakan mubarakan released\n",
            "추출 요약 : Noida Police has arrested Sector 20 station in-charge Manoj Pant and three journalists for allegedly extorting money from a call centre owner for removing his name from an FIR.\n",
            "\n",
            "\n",
            "원문 : video airbus largest passenger jet world making hard landing storm german city gone viral video watched millions times shows appearing bounce landing plane pilots managed steady \n",
            "실제 요약 : world largest passenger jet makes hard landing amid storm \n",
            "추상 요약 :  plane lands plane crashes us\n",
            "추출 요약 : Airtel Africa, the holding company for Airtel's operations in 14 African countries, is preparing for an initial public offering.\n",
            "\n",
            "\n",
            "원문 : year old us man million lottery finding winning ticket old shirt pocket two days due expire man claimed prize year searched ticket new york lottery made announcement unclaimed reward \n",
            "실제 요약 : man finds cr lottery ticket days \n",
            "추상 요약 :  man wins crore lottery lottery\n",
            "추출 요약 : Actor Shreyas Talpade said that 'Golmaal' filmmaker Rohit Shetty is still working on the script for the fifth instalment of the 'Golmaal' film franchise.\n",
            "Once he's done with the...scripting, he'll take a call,Ã¢ÂÂ the actor added.\n",
            "\n",
            "\n",
            "원문 : filed total criminal cases two months investigating nude photo scandal nude photos male female us marine soldiers shared online investigation team searched websites recovered nudes within two months investigators also found suspects could stalked victims \n",
            "실제 요약 : us nude photo sharing leads criminal cases \n",
            "추상 요약 :  police porn porn porn porn porn porn porn\n",
            "추출 요약 : A 72-year-old man named Terry Sanderson has sued 'Avengers' actress Gwyneth Paltrow for allegedly crashing into him while skiing, and is seeking $3.1 million (over Ã¢ÂÂ¹22 crore) in damages.\n",
            "\n",
            "\n",
            "원문 : attempt raise quick funds american airlines introduced pass allowing customers fly free life unlimited purchased people used one person fly london times one month another person reportedly used pass ferry people united states fee \n",
            "실제 요약 : airlines issued pass let people fly free life \n",
            "추상 요약 :  uk offers free service free people\n",
            "추출 요약 : Yami Gautam was felicitated by Border Security Force (BSF) in Amritsar for her performance in 'Uri: The Surgical Strike'.\n",
            "\n",
            "\n",
            "원문 : indian banks need additional capital billion meet basel iii capital standards march state run lenders accounting requirements fitch ratings said said government committed investing another billion state run banks next two already provided originally budgeted billion \n",
            "실제 요약 : indian banks need bn capital meet rules fitch \n",
            "추상 요약 :  india open account bn world bank\n",
            "추출 요약 : Social media giant Facebook has hired privacy critic Nate Cardozo, formerly the top legal counsel for US privacy watchdog EFF, as a privacy policy manager for WhatsApp. Cardozo had called Facebook a \"faceless corporation\" whose business model depends on user's confusion and indifference about privacy, in October 2015.\n",
            "\n",
            "\n",
            "원문 : trailer upcoming musical comedy pitch perfect released saturday original cast members anna rebel wilson elizabeth banks joined ruby rose sequel third installation pitch perfect franchise directed film scheduled release december \n",
            "실제 요약 : trailer anna pitch perfect released \n",
            "추상 요약 :  trailer ganguly starrer released\n",
            "추출 요약 : \"WeÃ¢ÂÂve decided to go back to (iPhone prices) more commensurate with...local prices...a year ago,\" Cook added.\n",
            "\n",
            "\n",
            "원문 : congress vice president rahul gandhi monday began election campaign gujarat riding bullock cart short stretch police refused permission road show open top jeep campaign dwarka promising yuva jobs youth rights farmers interactions people \n",
            "실제 요약 : rahul rides bullock cart gujarat election campaign \n",
            "추상 요약 :  rahul gandhi sends pm modi workers\n",
            "추출 요약 : \"The majority of fatalities from shark bites is due to blood loss...shock from blood loss,\" a scientist said.\n",
            "\n",
            "\n",
            "원문 : actor salman khan revealed really liked girl could never courage tell ended dating two friends friend others dated heartbroken never got know feelings added salman \n",
            "실제 요약 : liked girl ended dating friends salman \n",
            "추상 요약 :  brother thought dating salman\n",
            "추출 요약 : BJP National Secretary Rahul Sinha on Wednesday asked the party workers in West Bengal to come armed with sticks to PM Narendra Modi's rally in the state on February 2.\n",
            "\n",
            "\n",
            "원문 : uk ministers took part secret exercise focused day queen death planned days mourning would follow monarch passing reports said exercise dubbed castle dove reportedly took place day queen elizabeth ii cancelled appearance service feeling weather \n",
            "실제 요약 : uk ministers queen elizabeth ii death reports \n",
            "추상 요약 :  uk returns week st time yrs\n",
            "추출 요약 : BJP President Amit Shah on Wednesday took a dig at the Opposition parties saying that the 'mahagathbandhan' for the Opposition is 4B - \"Bua-Bhatija-Bhai-Behen\".\n",
            "\n",
            "\n",
            "원문 : aishwarya rai bachchan anil kapoor rajkummar rao starrer fanney khan released today slice life film wrote hindustan times fanney khan taps emotions father daughter relationship said ndtv firstpost called film comedy rated \n",
            "실제 요약 : aishwarya anil starrer fanney khan hits theatres \n",
            "추상 요약 :  aishwarya anil kapoor starrer fanney khan\n",
            "추출 요약 : Volkswagen's sales, including its MAN and Scania heavy trucks and buses, rose 0.9% to 10.83 million in 2018, the company had said.\n",
            "\n",
            "\n",
            "원문 : former indian batsman rahul dravid said offside first god sourav ganguly former indian captain turned saturday let honest tell tv screen looks different warm person actually meet ms dhoni said ganguly \n",
            "실제 요약 : pictures quotes sourav ganguly \n",
            "추상 요약 :  kl rahul dravid ganguly\n",
            "추출 요약 : Ousted Nissan Chairman Carlos Ghosn has said his arrest over alleged financial misconduct was led by \"plot and treason\" by the Japanese carmaker's executives who opposed its deeper integration with Renault and Mitsubishi.\n",
            "\n",
            "\n",
            "원문 : former zimbabwean president robert mugabe called ouster office coup must year old forced resign post last year army took party launched impeachment proceedings mugabe one world longest serving leaders led zimbabwe years \n",
            "실제 요약 : former zimbabwe president terms forced exit coup \n",
            "추상 요약 :  zimbabwe prez mugabe mugabe resign\n",
            "추출 요약 : The government has cut down customs duty on import of parts and components for electric vehicles to 10-15%, down from the previous 15-30%.\n",
            "\n",
            "\n",
            "원문 : man muzaffarnagar uttar pradesh refused marry girl non vegetarian dishes served wedding bride family said non vegetarian dishes served shortage meat due crackdown slaughterhouses however bride later married guest proposed woman wedding \n",
            "실제 요약 : man refuses marriage meat dishes served wedding \n",
            "추상 요약 :  tn woman denied entry wedding wedding\n",
            "추출 요약 : Government officials on Wednesday said that a swine flu outbreak has killed 76 people this year in Rajasthan.\n",
            "\n",
            "\n",
            "원문 : bengaluru based workforce outsourcing startup raised crore seed fund angel investors startup said statement amount used scale outreach improve product startup added founded business work among college students turn provides \n",
            "실제 요약 : workforce startup raises crore \n",
            "추상 요약 :  bengaluru based startup raises crore\n",
            "추출 요약 : \"North Korean leaders view nuclear arms as critical to regime survival,\" he added.\n",
            "\n",
            "\n",
            "원문 : british telephone service company virgin media advised eight lakh customers specific change passwords immediately investigation found could hacked easily investigation uk publication called found hackers could gain access home networks connected appliances little four days \n",
            "실제 요약 : virgin media asks lakh users change passwords \n",
            "추상 요약 :  uk firm offers million users use tax\n",
            "추출 요약 : Further, three aircraft have been temporarily grounded to carry out an engine normalisation exercise, it added.\n",
            "\n",
            "\n",
            "원문 : gst council may consider lowering gst construction flats houses meeting next month currently gst levied construction property ready move flats completion certificate issued time sale gst levied buyers real estate properties completion certificate issued sale \n",
            "실제 요약 : gst construction flats houses may \n",
            "추상 요약 :  gst rate cut tax rates\n",
            "추출 요약 : Retired Justice Srikrishna's enquiry panel has found that ex-CEO Chanda Kochhar violated ICICI Bank's code of conduct.\n",
            "\n",
            "\n",
            "원문 : former finance minister chidambaram said back series gdp proved best years economic growth upa years india economy grew double digits twice previous upa regime prime minister manmohan singh according recently released ministry statistics data \n",
            "실제 요약 : back series gdp data proved upa years best chidambaram \n",
            "추상 요약 :  economy growth growth ex fm\n",
            "추출 요약 : Ex-India cricketer Jacob Martin has been shifted to general ward from the ICU after being on a ventilator for nearly a month following a road accident, wherein he severely injured his lungs.\n",
            "\n",
            "\n",
            "원문 : rishi kapoor asked approves son ranbir kapoor girlfriend alia bhatt said ranbir life wants get married neetu likes like ranbir likes cannot uncles chose life partners ranbir entitled choose rishi added \n",
            "실제 요약 : ranbir likes alia neetu like rishi \n",
            "추상 요약 :  ranbir alia ranbir alia\n",
            "추출 요약 : Tanya accused Perera of meeting country's Sports Minister to secure his place in the team.\n",
            "\n",
            "\n",
            "원문 : bjp ally shiv sena mp arvind sawant said pm narendra modi speech parliament wednesday election speech similar one pm gave campaigns time modi ji years people want hear schemes criticism congress shiv sena spokesperson manisha said \n",
            "실제 요약 : pm modi parliament address election speech shiv sena \n",
            "추상 요약 :  pm modi speech nation shiv sena\n",
            "추출 요약 : Goa CM and ex-Defence Minister Manohar Parrikar has written a letter to Congress President Rahul Gandhi over his claim that Parrikar told him he has nothing to do with new Rafale deal.\n",
            "\n",
            "\n",
            "원문 : veteran actress reema lagoo passed away thursday age suffering cardiac arrest known acting films like hum aapke hain koun kuch kuch hota hai kal ho naa ho tv serials tu tu main main four filmfare awards best supporting actress \n",
            "실제 요약 : actress reema passes away aged \n",
            "추상 요약 :  veteran actress vinod khanna passes away aged\n",
            "추출 요약 : PM Modi then asked his officers to urgently arrange for an ambulance for the cameraman.\n",
            "\n",
            "\n",
            "원문 : ireland voted overturn ban abortions irish bishop said voted favour amendment committed sin voted yes consider coming confession added said want come confession received compassion \n",
            "실제 요약 : voted abortion committed sin irish bishop \n",
            "추상 요약 :  austria bans gender neutral\n",
            "추출 요약 : A couple got divorced minutes after their wedding ceremony got over in Gujarat's Gondal as a disagreement broke out and relatives from both sides started throwing dishes at each other during lunch.\n",
            "\n",
            "\n",
            "원문 : textiles minister smriti irani sunday tagged superwoman lilly singh tweet posting know old year old says say irani shared picture singh recently released book singh described confident person makes people feel good \n",
            "실제 요약 : smriti irani tags singh tweet \n",
            "추상 요약 :  smriti irani shares picture smriti irani\n",
            "추출 요약 : Gujarat Education Minister Bhupendrasinh Chudasma has written a congratulatory message to a yoga ashram run by rape-convict Asaram's organisation for observing February 14 as \"Matru-Pitru Pujan Divas\" (Mother-Father worship day).\n",
            "\n",
            "\n",
            "원문 : lynching deputy sp mohammed srinagar captured video bought destroyed state government fear public top state official reportedly said official added video content violent deputy arms legs bent broken like someone breaks sugarcane eating \n",
            "실제 요약 : govt bought destroyed cop lynching video report \n",
            "추상 요약 :  police officer goes missing\n",
            "추출 요약 : Venezuelan President NicolÃÂ¡s Maduro has claimed that his American counterpart Donald Trump ordered the Colombian government and the Colombian mafia to kill him.\n",
            "\n",
            "\n",
            "원문 : pakistan fakhar zaman imam ul haq recorded odi cricket history first ever plus run opening stand sharing runs first wicket zimbabwe friday previous highest opening stand odi cricket runs recorded sri lanka sanath jayasuriya upul tharanga england run stand also pakistan highest ever odi partnership \n",
            "실제 요약 : pak record odi cricket first ever run opening stand \n",
            "추상 요약 :  pak batsman breaks odi runs balls\n",
            "추출 요약 : The richest among them is Hong Kong's Li Ka Shing with a net worth of $30.5 billion.\n",
            "\n",
            "\n",
            "원문 : us discussed potential missile defence cooperation india us said missile defence review natural india status major defence partner key element indo pacific strategy added russia china iran north korea described current emerging missile threats us \n",
            "실제 요약 : us discusses potential missile defence cooperation india \n",
            "추상 요약 :  us russia seek sanctions us sanctions russia\n",
            "추출 요약 : Tamil Nadu food safety officials on Wednesday raided and seized 1,000 kgs of banned plastic items from Hotel Saravana Bhavan in Chennai's Vadapalani.\n",
            "\n",
            "\n",
            "원문 : talking process developing launching products apple ceo tim cook said company takes time get every product right believe using customers laboratory think unique patience patience wait something great ship added \n",
            "실제 요약 : believe using customers apple ceo \n",
            "추상 요약 :  apple ceo tim cook\n",
            "추출 요약 : Actress Shamita Shetty was verbally abused and her driver was slapped in an incident of road rage in Mumbai on Tuesday, as per reports.\n",
            "\n",
            "\n",
            "원문 : zee horror show co director tulsi brothers passed away age heart attack mumbai tulsi co directed zee horror show brother shyam brothers tulsi kumar shyam arjun kiran produced series horror shows \n",
            "실제 요약 : zee horror show co director tulsi passes away \n",
            "추상 요약 :  telugu actor brother passes away aged\n",
            "추출 요약 : Actress Vaani Kapoor said that trolling has become a norm on social media, adding, \"There's no one who hasn't got trolled on social media.\" \"Everybody is out there to pull the other person down but it'll only bother [you] if you let it bother you,\" Vaani added.\n",
            "\n",
            "\n",
            "원문 : south korea based cryptocurrency exchange sunday announced platform hacked resulting loss reported amount million according website exchange already suspended services managed freeze two thirds stolen tokens also said reserves moved cold wallet without internet access \n",
            "실제 요약 : korean crypto exchange hacked loses mn \n",
            "추상 요약 :  north korea hack cryptocurrency\n",
            "추출 요약 : Actress Sushmita Sen took to Instagram to share a joke on the subject of marriage.\n",
            "\"This is an insult to [the] beauty of marriage,\" an Instagram user commented on her post.\n",
            "\n",
            "\n",
            "원문 : reacting juventus forward cristiano ronaldo getting red card pulling opponent hair champions league match teammate said women playing football giving red card sent foul added later apologised saying intention women \n",
            "실제 요약 : women teammate ronaldo red card pulling hair \n",
            "추상 요약 :  ronaldo fined lakh free player\n",
            "추출 요약 : Television actor Karanvir Bohra, who flew to Russia on Tuesday to attend a film festival, has been detained in Moscow due to passport damage.\n",
            "\n",
            "\n",
            "원문 : model gigi hadid featured cover shoot harper bazaar us shot nasa kennedy space center florida gigi seen wearing metallic silver cape coat boots chanel cover shot also posed gucci outside apollo crew capsule \n",
            "실제 요약 : gigi hadid poses nasa space centre magazine shoot \n",
            "추상 요약 :  vogue magazine gigi hadid attend china\n",
            "추출 요약 : While speaking about winning awards for his films, Shah Rukh Khan said, \"If I don't get an award, that award is at a loss.\" \"Sometimes, the prestige of an award increases when I receive it,\" the actor jokingly added.\n",
            "\n",
            "\n",
            "원문 : uk based study found iceland saw less volcanic activity glacier cover glaciers melted eruptions increased due changes surface pressure researchers noticed year time lag major decrease ancient global temperatures reduced adding similar time lag expected following recent shift warmer temperatures \n",
            "실제 요약 : global warming could increase volcanic study \n",
            "추상 요약 :  scientists discover new ocean\n",
            "추출 요약 : Actress Patralekhaa will make her debut in the Kannada film industry with the action-comedy film 'Where is my Kannadaka?' \"I can definitely say that itÃ¢ÂÂs a kind of role that I havenÃ¢ÂÂt portrayed on screen so far and that makes it special for me,\" the actress said in a statement.\n",
            "\n",
            "\n",
            "원문 : pad man director balki said menstruation natural phenomenon growing beard adding natural process nothing hide added moment call adult topic whole purpose defeated balki said pad man children film must watched families \n",
            "실제 요약 : natural growing beard pad man director \n",
            "추상 요약 :  man know know\n",
            "추출 요약 : Gmail on Tuesday faced a global outage, which also affected India, wherein certain users complained they faced a '404 error' message while trying to sign-in to their accounts.\n",
            "The error message read: \"The requested URL was not found on this server.\n",
            "\n",
            "\n",
            "원문 : elon musk spacex signed deal japanese lunar exploration startup moon rover mission plans orbit lunar lander around moon second mission land two rovers moon surface using spacex falcon rocket startup said signed launches spacex rockets \n",
            "실제 요약 : musk spacex signs japanese startup moon rover mission \n",
            "추상 요약 :  spacex launches th century moon mission\n",
            "추출 요약 : Shiv Sena chief Uddhav Thackeray has asked the BJP to decide about the alliance with the Sena within 15 days and said the BJP should make a concrete proposal on the alliance.\n",
            "\n",
            "\n",
            "원문 : confession journalist gauri lankesh murder accused claimed hindu samiti leader mohan gowda put touch extremist unit hindu outfit sanatan sanstha planning murder came contact hindutva activist another accused arrested earlier may lankesh shot dead bengaluru september last year \n",
            "실제 요약 : journo murder accused names hindu body leader confession \n",
            "추상 요약 :  gauri lankesh murder accused gauri lankesh murder\n",
            "추출 요약 : He said the Opposition is thinking about leading the country but does not have a leader.\n",
            "\n",
            "\n",
            "원문 : us based startup working camera car shoots degree videos alerts users someone tries steal car camera lets users check cars via live stream phones also fitted detect movements would prompt send alerts owners \n",
            "실제 요약 : alerts user someone tries steal car \n",
            "추상 요약 :  startup makes self driving cars detect crash\n",
            "추출 요약 : He added decisions like demonetisation and RERA have put a check on black money that used to be \"parked in the real estate sector\".\n",
            "\n",
            "\n"
          ]
        }
      ],
      "source": [
        "for i in range(50, 100):\n",
        "    print(\"원문 :\", seq2text(encoder_input_test[i]))\n",
        "    print(\"실제 요약 :\", seq2headlines(decoder_input_test[i]))\n",
        "    print(\"추상 요약 :\", decode_sequence(encoder_input_test[i].reshape(1, text_max_len)))\n",
        "    print(\"추출 요약 :\", summarize(data_summa['text'][i], ratio=0.5))  # ratio값을 0.5로 조정\n",
        "    print(\"\\n\")"
      ]
    },
    {
      "cell_type": "code",
      "execution_count": null,
      "id": "1b389e7a",
      "metadata": {
        "id": "1b389e7a",
        "outputId": "09120294-eb18-4238-fd33-e35266ead788"
      },
      "outputs": [
        {
          "name": "stdout",
          "output_type": "stream",
          "text": [
            "원문 : us president donald trump youngest son barron trump seen practising football skills white house wearing full arsenal kit year old pictured lawn monday easter egg roll white house several members us professional soccer league major league soccer present lawn party \n",
            "실제 요약 : trump son plays football white house arsenal kit \n",
            "추상 요약 :  trump son obama meet us open\n",
            "추출 요약 : Former Finance Minister Yashwant Sinha on Tuesday demanded a probe into the alleged diversion of loans worth Ã¢ÂÂ¹31,000 crore by Dewan Housing Finance (DHFL).\n",
            "\n",
            "\n",
            "원문 : growing trees reduce atmospheric carbon dioxide cannot replace cutting emissions fossil fuel burning study warned plants suck co atmosphere build woody roots leaves low tech carbon dioxide removal could combined high tech underground carbon storage mechanisms meet paris climate agreement goals researchers said \n",
            "실제 요약 : planting trees substitute cutting co emissions study \n",
            "추상 요약 :  use use use water fuel prices\n",
            "추출 요약 : Boeing retained its position as the world's largest planemaker for the seventh straight year, delivering 806 aircraft in 2018.\n",
            "\n",
            "\n",
            "원문 : low cost airline ryanair ceo michael made million last fiscal claimed seriously added shareholders opposed bumper pay packet adding feels appreciated also slammed government proposals would force firms publish details executive pay \n",
            "실제 요약 : seriously underpaid says ryanair ceo \n",
            "추상 요약 :  ceo loses billion tax ceo\n",
            "추출 요약 : \n",
            "\n",
            "\n",
            "원문 : boeing airbus group supplier fined investigation alleged discriminatory hiring policy investigation found founder refused hire muslim applicants engaged religious national origin harassment however said founder personal views \n",
            "실제 요약 : boeing supplier fined cr discrimination muslims \n",
            "추상 요약 :  singapore demands lakh indians\n",
            "추출 요약 : Further, its OnePlus 6 emerged as the highest selling premium smartphone of 2018 followed by OnePlus 6T.\n",
            "\n",
            "\n",
            "원문 : tamil nadu health department wednesday launched cosmetic surgery clinic government hospital chennai provide free breast reconstruction surgeries poor stating beauty treatments available everyone state health minister cv said government launched initiative women may use dangerous methods take loans surgeries \n",
            "실제 요약 : tamil nadu starts free breast implants poor \n",
            "추상 요약 :  tamil nadu hospital doctors remove nipah virus\n",
            "추출 요약 : \n",
            "\n",
            "\n",
            "원문 : supreme court commenced hearing first love jihad case monday hadiya told court wanted freedom back adding parents custody unlawful another development court ordered could pursue education medical college tamil nadu salem college dean \n",
            "실제 요약 : want freedom custody hadiya parents \n",
            "추상 요약 :  sc allows yr old justice adultery marriage\n",
            "추출 요약 : \n",
            "\n",
            "\n",
            "원문 : rajkumar hirani said sanjay dutt would played older self upcoming biopic sanju would weird added seeing ranbir sanju throughout film suddenly see sanjay playing older self would automatically disconnected public link film \n",
            "실제 요약 : dutt playing older self sanju would hirani \n",
            "추상 요약 :  dutt biopic sanjay dutt biopic\n",
            "추출 요약 : \n",
            "\n",
            "\n",
            "원문 : congratulating spacex completion falcon launches ceo elon musk tweeted cannot believe fifty falcon launches already ten years ago could even reach orbit little falcon space exploration startup launched rocket florida us tuesday carrying largest geostationary satellite company ever flown \n",
            "실제 요약 : reach orbit yrs ago musk th falcon launch \n",
            "추상 요약 :  spacex may launch new spacex launch spacex\n",
            "추출 요약 : Nevada State Athletic Commission has banned MMA fighters Conor McGregor and Khabib Nurmagomedov for six months and nine months respectively over their roles in the mass brawl that occurred after their fight at UFC 229 last October.\n",
            "\n",
            "\n",
            "원문 : spiritual leader sri sri ravi shankar said loved watching sanjay leela bhansali padmaavat found nothing objectionable added padmaavat celebrated across india rajput honour make proud bhansali held pre release screening film spiritual leader art living foundation bengaluru monday \n",
            "실제 요약 : loved padmaavat found nothing objectionable sri sri \n",
            "추상 요약 :  bhansali chief meets ranveer singh sanjay dutt\n",
            "추출 요약 : Pakistan captain Sarfaraz Ahmed, who has been banned for four matches over racist remarks, took an apparent dig at his critics by sharing a video of a child reciting 'log hai na' poem on Twitter.\n",
            "\n",
            "\n",
            "원문 : bjp president amit shah saturday alleged party done much corruption aap tenure delhi one two legislators aap booked criminal cases ever since aap elections delhi added shah said aap made record losing elections \n",
            "실제 요약 : party much corruption aap delhi bjp \n",
            "추상 요약 :  delhi cm shah corruption case amit shah\n",
            "추출 요약 : Sreesanth further said the bookie tried dragging him into spot-fixing but he didn't fall for it.\n",
            "\n",
            "\n",
            "원문 : england rounder ben stokes ipl auction expensive buy bought rajasthan royals crore ms dhoni expensive buy first ever ipl auction bought csk million delhi daredevils bought yuvraj singh crore making expensive buy ipl ever \n",
            "실제 요약 : expensive players past ipl auctions \n",
            "추상 요약 :  mumbai buys cr ipl auction\n",
            "추출 요약 : The Finance Ministry on Wednesday said the government will present an Interim Budget on February 1.\n",
            "\n",
            "\n",
            "원문 : newly discovered species pistol shrimp named honour british rock band pink floyd newly discovered species shrimp distinct almost glowing pink found tropical eastern pacific regions known generate loud pistol like sounds \n",
            "실제 요약 : new species named british band pink floyd \n",
            "추상 요약 :  man eats lions boxing boxing term\n",
            "추출 요약 : US President Donald Trump on Wednesday called his country's top intelligence chiefs \"naive\" and \"wrong\" on Iran and added that they should perhaps \"go back to school\".\n",
            "\n",
            "\n",
            "원문 : man beaten death haryana sonipat allegedly sharing pictures clicked family members whatsapp group victim brother said accidentally shared pictures group angered one recipient accused invited man family home attacked rods bricks \n",
            "실제 요약 : man killed sharing family pics whatsapp group \n",
            "추상 요약 :  man tries kill woman files fir facebook\n",
            "추출 요약 : A senior priest at the Vatican who handled cases of sexual abuse has quit after being accused of sexual abuse by a former nun.\n",
            "\n",
            "\n",
            "원문 : mp municipality converted garbage truck van ferry unclaimed bodies crematorium however official said since vehicle used collecting trash utilised carrying bodies civic body notably reports claimed district hospital van \n",
            "실제 요약 : mp civic body turns garbage truck van carrying dead \n",
            "추상 요약 :  mp mp officials mp highway truck\n",
            "추출 요약 : A 22-year-old writer turned down a job offer, claiming she was bullied to the point of tears during her two-hour interview by a UK company's CEO.\n",
            "\n",
            "\n",
            "원문 : nora starrer song rajkummar rao shraddha kapoor stree released song composed sachin jigar vocals gill sachin sanghvi jigar divya kumar lyrics vayu directed amar kaushik stree scheduled release august \n",
            "실제 요약 : starrer song stree released \n",
            "추상 요약 :  shraddha shraddha shraddha mubarakan mubarakan released\n",
            "추출 요약 : Noida Police has arrested Sector 20 station in-charge Manoj Pant and three journalists for allegedly extorting money from a call centre owner for removing his name from an FIR.\n",
            "\n",
            "\n",
            "원문 : video airbus largest passenger jet world making hard landing storm german city gone viral video watched millions times shows appearing bounce landing plane pilots managed steady \n",
            "실제 요약 : world largest passenger jet makes hard landing amid storm \n",
            "추상 요약 :  plane lands plane crashes us\n",
            "추출 요약 : Airtel Africa, the holding company for Airtel's operations in 14 African countries, is preparing for an initial public offering.\n",
            "\n",
            "\n",
            "원문 : year old us man million lottery finding winning ticket old shirt pocket two days due expire man claimed prize year searched ticket new york lottery made announcement unclaimed reward \n",
            "실제 요약 : man finds cr lottery ticket days \n",
            "추상 요약 :  man wins crore lottery lottery\n",
            "추출 요약 : Actor Shreyas Talpade said that 'Golmaal' filmmaker Rohit Shetty is still working on the script for the fifth instalment of the 'Golmaal' film franchise.\n",
            "\n",
            "\n",
            "원문 : filed total criminal cases two months investigating nude photo scandal nude photos male female us marine soldiers shared online investigation team searched websites recovered nudes within two months investigators also found suspects could stalked victims \n",
            "실제 요약 : us nude photo sharing leads criminal cases \n",
            "추상 요약 :  police porn porn porn porn porn porn porn\n",
            "추출 요약 : A 72-year-old man named Terry Sanderson has sued 'Avengers' actress Gwyneth Paltrow for allegedly crashing into him while skiing, and is seeking $3.1 million (over Ã¢ÂÂ¹22 crore) in damages.\n",
            "\n",
            "\n",
            "원문 : attempt raise quick funds american airlines introduced pass allowing customers fly free life unlimited purchased people used one person fly london times one month another person reportedly used pass ferry people united states fee \n",
            "실제 요약 : airlines issued pass let people fly free life \n",
            "추상 요약 :  uk offers free service free people\n",
            "추출 요약 : Yami Gautam was felicitated by Border Security Force (BSF) in Amritsar for her performance in 'Uri: The Surgical Strike'.\n",
            "\n",
            "\n",
            "원문 : indian banks need additional capital billion meet basel iii capital standards march state run lenders accounting requirements fitch ratings said said government committed investing another billion state run banks next two already provided originally budgeted billion \n",
            "실제 요약 : indian banks need bn capital meet rules fitch \n",
            "추상 요약 :  india open account bn world bank\n",
            "추출 요약 : \n",
            "\n",
            "\n",
            "원문 : trailer upcoming musical comedy pitch perfect released saturday original cast members anna rebel wilson elizabeth banks joined ruby rose sequel third installation pitch perfect franchise directed film scheduled release december \n",
            "실제 요약 : trailer anna pitch perfect released \n",
            "추상 요약 :  trailer ganguly starrer released\n",
            "추출 요약 : \"WeÃ¢ÂÂve decided to go back to (iPhone prices) more commensurate with...local prices...a year ago,\" Cook added.\n",
            "\n",
            "\n",
            "원문 : congress vice president rahul gandhi monday began election campaign gujarat riding bullock cart short stretch police refused permission road show open top jeep campaign dwarka promising yuva jobs youth rights farmers interactions people \n",
            "실제 요약 : rahul rides bullock cart gujarat election campaign \n",
            "추상 요약 :  rahul gandhi sends pm modi workers\n",
            "추출 요약 : \"The majority of fatalities from shark bites is due to blood loss...shock from blood loss,\" a scientist said.\n",
            "\n",
            "\n",
            "원문 : actor salman khan revealed really liked girl could never courage tell ended dating two friends friend others dated heartbroken never got know feelings added salman \n",
            "실제 요약 : liked girl ended dating friends salman \n",
            "추상 요약 :  brother thought dating salman\n",
            "추출 요약 : BJP National Secretary Rahul Sinha on Wednesday asked the party workers in West Bengal to come armed with sticks to PM Narendra Modi's rally in the state on February 2.\n",
            "\n",
            "\n",
            "원문 : uk ministers took part secret exercise focused day queen death planned days mourning would follow monarch passing reports said exercise dubbed castle dove reportedly took place day queen elizabeth ii cancelled appearance service feeling weather \n",
            "실제 요약 : uk ministers queen elizabeth ii death reports \n",
            "추상 요약 :  uk returns week st time yrs\n",
            "추출 요약 : BJP President Amit Shah on Wednesday took a dig at the Opposition parties saying that the 'mahagathbandhan' for the Opposition is 4B - \"Bua-Bhatija-Bhai-Behen\".\n",
            "\n",
            "\n",
            "원문 : aishwarya rai bachchan anil kapoor rajkummar rao starrer fanney khan released today slice life film wrote hindustan times fanney khan taps emotions father daughter relationship said ndtv firstpost called film comedy rated \n",
            "실제 요약 : aishwarya anil starrer fanney khan hits theatres \n",
            "추상 요약 :  aishwarya anil kapoor starrer fanney khan\n",
            "추출 요약 : Volkswagen's sales, including its MAN and Scania heavy trucks and buses, rose 0.9% to 10.83 million in 2018, the company had said.\n",
            "\n",
            "\n",
            "원문 : former indian batsman rahul dravid said offside first god sourav ganguly former indian captain turned saturday let honest tell tv screen looks different warm person actually meet ms dhoni said ganguly \n",
            "실제 요약 : pictures quotes sourav ganguly \n",
            "추상 요약 :  kl rahul dravid ganguly\n",
            "추출 요약 : Ousted Nissan Chairman Carlos Ghosn has said his arrest over alleged financial misconduct was led by \"plot and treason\" by the Japanese carmaker's executives who opposed its deeper integration with Renault and Mitsubishi.\n",
            "\n",
            "\n",
            "원문 : former zimbabwean president robert mugabe called ouster office coup must year old forced resign post last year army took party launched impeachment proceedings mugabe one world longest serving leaders led zimbabwe years \n",
            "실제 요약 : former zimbabwe president terms forced exit coup \n",
            "추상 요약 :  zimbabwe prez mugabe mugabe resign\n",
            "추출 요약 : The government has cut down customs duty on import of parts and components for electric vehicles to 10-15%, down from the previous 15-30%.\n",
            "\n",
            "\n",
            "원문 : man muzaffarnagar uttar pradesh refused marry girl non vegetarian dishes served wedding bride family said non vegetarian dishes served shortage meat due crackdown slaughterhouses however bride later married guest proposed woman wedding \n",
            "실제 요약 : man refuses marriage meat dishes served wedding \n",
            "추상 요약 :  tn woman denied entry wedding wedding\n",
            "추출 요약 : Government officials on Wednesday said that a swine flu outbreak has killed 76 people this year in Rajasthan.\n",
            "\n",
            "\n",
            "원문 : bengaluru based workforce outsourcing startup raised crore seed fund angel investors startup said statement amount used scale outreach improve product startup added founded business work among college students turn provides \n",
            "실제 요약 : workforce startup raises crore \n",
            "추상 요약 :  bengaluru based startup raises crore\n",
            "추출 요약 : \"North Korean leaders view nuclear arms as critical to regime survival,\" he added.\n",
            "\n",
            "\n",
            "원문 : british telephone service company virgin media advised eight lakh customers specific change passwords immediately investigation found could hacked easily investigation uk publication called found hackers could gain access home networks connected appliances little four days \n",
            "실제 요약 : virgin media asks lakh users change passwords \n",
            "추상 요약 :  uk firm offers million users use tax\n",
            "추출 요약 : Further, three aircraft have been temporarily grounded to carry out an engine normalisation exercise, it added.\n",
            "\n",
            "\n",
            "원문 : gst council may consider lowering gst construction flats houses meeting next month currently gst levied construction property ready move flats completion certificate issued time sale gst levied buyers real estate properties completion certificate issued sale \n",
            "실제 요약 : gst construction flats houses may \n",
            "추상 요약 :  gst rate cut tax rates\n",
            "추출 요약 : Retired Justice Srikrishna's enquiry panel has found that ex-CEO Chanda Kochhar violated ICICI Bank's code of conduct.\n",
            "\n",
            "\n",
            "원문 : former finance minister chidambaram said back series gdp proved best years economic growth upa years india economy grew double digits twice previous upa regime prime minister manmohan singh according recently released ministry statistics data \n",
            "실제 요약 : back series gdp data proved upa years best chidambaram \n",
            "추상 요약 :  economy growth growth ex fm\n",
            "추출 요약 : Ex-India cricketer Jacob Martin has been shifted to general ward from the ICU after being on a ventilator for nearly a month following a road accident, wherein he severely injured his lungs.\n",
            "\n",
            "\n",
            "원문 : rishi kapoor asked approves son ranbir kapoor girlfriend alia bhatt said ranbir life wants get married neetu likes like ranbir likes cannot uncles chose life partners ranbir entitled choose rishi added \n",
            "실제 요약 : ranbir likes alia neetu like rishi \n",
            "추상 요약 :  ranbir alia ranbir alia\n",
            "추출 요약 : Tanya accused Perera of meeting country's Sports Minister to secure his place in the team.\n",
            "\n",
            "\n",
            "원문 : bjp ally shiv sena mp arvind sawant said pm narendra modi speech parliament wednesday election speech similar one pm gave campaigns time modi ji years people want hear schemes criticism congress shiv sena spokesperson manisha said \n",
            "실제 요약 : pm modi parliament address election speech shiv sena \n",
            "추상 요약 :  pm modi speech nation shiv sena\n",
            "추출 요약 : \n",
            "\n",
            "\n",
            "원문 : veteran actress reema lagoo passed away thursday age suffering cardiac arrest known acting films like hum aapke hain koun kuch kuch hota hai kal ho naa ho tv serials tu tu main main four filmfare awards best supporting actress \n",
            "실제 요약 : actress reema passes away aged \n",
            "추상 요약 :  veteran actress vinod khanna passes away aged\n",
            "추출 요약 : PM Modi then asked his officers to urgently arrange for an ambulance for the cameraman.\n",
            "\n",
            "\n",
            "원문 : ireland voted overturn ban abortions irish bishop said voted favour amendment committed sin voted yes consider coming confession added said want come confession received compassion \n",
            "실제 요약 : voted abortion committed sin irish bishop \n",
            "추상 요약 :  austria bans gender neutral\n",
            "추출 요약 : A couple got divorced minutes after their wedding ceremony got over in Gujarat's Gondal as a disagreement broke out and relatives from both sides started throwing dishes at each other during lunch.\n",
            "\n",
            "\n",
            "원문 : textiles minister smriti irani sunday tagged superwoman lilly singh tweet posting know old year old says say irani shared picture singh recently released book singh described confident person makes people feel good \n",
            "실제 요약 : smriti irani tags singh tweet \n",
            "추상 요약 :  smriti irani shares picture smriti irani\n",
            "추출 요약 : \n",
            "\n",
            "\n",
            "원문 : lynching deputy sp mohammed srinagar captured video bought destroyed state government fear public top state official reportedly said official added video content violent deputy arms legs bent broken like someone breaks sugarcane eating \n",
            "실제 요약 : govt bought destroyed cop lynching video report \n",
            "추상 요약 :  police officer goes missing\n",
            "추출 요약 : Venezuelan President NicolÃÂ¡s Maduro has claimed that his American counterpart Donald Trump ordered the Colombian government and the Colombian mafia to kill him.\n",
            "\n",
            "\n",
            "원문 : pakistan fakhar zaman imam ul haq recorded odi cricket history first ever plus run opening stand sharing runs first wicket zimbabwe friday previous highest opening stand odi cricket runs recorded sri lanka sanath jayasuriya upul tharanga england run stand also pakistan highest ever odi partnership \n",
            "실제 요약 : pak record odi cricket first ever run opening stand \n",
            "추상 요약 :  pak batsman breaks odi runs balls\n",
            "추출 요약 : The richest among them is Hong Kong's Li Ka Shing with a net worth of $30.5 billion.\n",
            "\n",
            "\n",
            "원문 : us discussed potential missile defence cooperation india us said missile defence review natural india status major defence partner key element indo pacific strategy added russia china iran north korea described current emerging missile threats us \n",
            "실제 요약 : us discusses potential missile defence cooperation india \n",
            "추상 요약 :  us russia seek sanctions us sanctions russia\n",
            "추출 요약 : Tamil Nadu food safety officials on Wednesday raided and seized 1,000 kgs of banned plastic items from Hotel Saravana Bhavan in Chennai's Vadapalani.\n",
            "\n",
            "\n",
            "원문 : talking process developing launching products apple ceo tim cook said company takes time get every product right believe using customers laboratory think unique patience patience wait something great ship added \n",
            "실제 요약 : believe using customers apple ceo \n",
            "추상 요약 :  apple ceo tim cook\n",
            "추출 요약 : Actress Shamita Shetty was verbally abused and her driver was slapped in an incident of road rage in Mumbai on Tuesday, as per reports.\n",
            "\n",
            "\n",
            "원문 : zee horror show co director tulsi brothers passed away age heart attack mumbai tulsi co directed zee horror show brother shyam brothers tulsi kumar shyam arjun kiran produced series horror shows \n",
            "실제 요약 : zee horror show co director tulsi passes away \n",
            "추상 요약 :  telugu actor brother passes away aged\n",
            "추출 요약 : \n",
            "\n",
            "\n",
            "원문 : south korea based cryptocurrency exchange sunday announced platform hacked resulting loss reported amount million according website exchange already suspended services managed freeze two thirds stolen tokens also said reserves moved cold wallet without internet access \n",
            "실제 요약 : korean crypto exchange hacked loses mn \n",
            "추상 요약 :  north korea hack cryptocurrency\n",
            "추출 요약 : \"This is an insult to [the] beauty of marriage,\" an Instagram user commented on her post.\n",
            "\n",
            "\n",
            "원문 : reacting juventus forward cristiano ronaldo getting red card pulling opponent hair champions league match teammate said women playing football giving red card sent foul added later apologised saying intention women \n",
            "실제 요약 : women teammate ronaldo red card pulling hair \n",
            "추상 요약 :  ronaldo fined lakh free player\n",
            "추출 요약 : Television actor Karanvir Bohra, who flew to Russia on Tuesday to attend a film festival, has been detained in Moscow due to passport damage.\n",
            "\n",
            "\n",
            "원문 : model gigi hadid featured cover shoot harper bazaar us shot nasa kennedy space center florida gigi seen wearing metallic silver cape coat boots chanel cover shot also posed gucci outside apollo crew capsule \n",
            "실제 요약 : gigi hadid poses nasa space centre magazine shoot \n",
            "추상 요약 :  vogue magazine gigi hadid attend china\n",
            "추출 요약 : \n",
            "\n",
            "\n",
            "원문 : uk based study found iceland saw less volcanic activity glacier cover glaciers melted eruptions increased due changes surface pressure researchers noticed year time lag major decrease ancient global temperatures reduced adding similar time lag expected following recent shift warmer temperatures \n",
            "실제 요약 : global warming could increase volcanic study \n",
            "추상 요약 :  scientists discover new ocean\n",
            "추출 요약 : \n",
            "\n",
            "\n",
            "원문 : pad man director balki said menstruation natural phenomenon growing beard adding natural process nothing hide added moment call adult topic whole purpose defeated balki said pad man children film must watched families \n",
            "실제 요약 : natural growing beard pad man director \n",
            "추상 요약 :  man know know\n",
            "추출 요약 : Gmail on Tuesday faced a global outage, which also affected India, wherein certain users complained they faced a '404 error' message while trying to sign-in to their accounts.\n",
            "\n",
            "\n",
            "원문 : elon musk spacex signed deal japanese lunar exploration startup moon rover mission plans orbit lunar lander around moon second mission land two rovers moon surface using spacex falcon rocket startup said signed launches spacex rockets \n",
            "실제 요약 : musk spacex signs japanese startup moon rover mission \n",
            "추상 요약 :  spacex launches th century moon mission\n",
            "추출 요약 : Shiv Sena chief Uddhav Thackeray has asked the BJP to decide about the alliance with the Sena within 15 days and said the BJP should make a concrete proposal on the alliance.\n",
            "\n",
            "\n",
            "원문 : confession journalist gauri lankesh murder accused claimed hindu samiti leader mohan gowda put touch extremist unit hindu outfit sanatan sanstha planning murder came contact hindutva activist another accused arrested earlier may lankesh shot dead bengaluru september last year \n",
            "실제 요약 : journo murder accused names hindu body leader confession \n",
            "추상 요약 :  gauri lankesh murder accused gauri lankesh murder\n",
            "추출 요약 : He said the Opposition is thinking about leading the country but does not have a leader.\n",
            "\n",
            "\n",
            "원문 : us based startup working camera car shoots degree videos alerts users someone tries steal car camera lets users check cars via live stream phones also fitted detect movements would prompt send alerts owners \n",
            "실제 요약 : alerts user someone tries steal car \n",
            "추상 요약 :  startup makes self driving cars detect crash\n",
            "추출 요약 : He added decisions like demonetisation and RERA have put a check on black money that used to be \"parked in the real estate sector\".\n",
            "\n",
            "\n"
          ]
        }
      ],
      "source": [
        "for i in range(50, 100):\n",
        "    print(\"원문 :\", seq2text(encoder_input_test[i]))\n",
        "    print(\"실제 요약 :\", seq2headlines(decoder_input_test[i]))\n",
        "    print(\"추상 요약 :\", decode_sequence(encoder_input_test[i].reshape(1, text_max_len)))\n",
        "    print(\"추출 요약 :\", summarize(data_summa['text'][i], ratio=0.4))  # ratio값을 0.4로 조정\n",
        "    print(\"\\n\")"
      ]
    },
    {
      "cell_type": "markdown",
      "id": "bfd781d7",
      "metadata": {
        "id": "bfd781d7"
      },
      "source": [
        "### 결과를 비교하는 데이터프레임 만들기"
      ]
    },
    {
      "cell_type": "code",
      "execution_count": null,
      "id": "36d852aa",
      "metadata": {
        "id": "36d852aa",
        "outputId": "d5835909-57cb-40e1-b7dc-20df186b56ea"
      },
      "outputs": [
        {
          "data": {
            "text/html": [
              "<div>\n",
              "<style scoped>\n",
              "    .dataframe tbody tr th:only-of-type {\n",
              "        vertical-align: middle;\n",
              "    }\n",
              "\n",
              "    .dataframe tbody tr th {\n",
              "        vertical-align: top;\n",
              "    }\n",
              "\n",
              "    .dataframe thead th {\n",
              "        text-align: right;\n",
              "    }\n",
              "</style>\n",
              "<table border=\"1\" class=\"dataframe\">\n",
              "  <thead>\n",
              "    <tr style=\"text-align: right;\">\n",
              "      <th></th>\n",
              "      <th>0</th>\n",
              "      <th>1</th>\n",
              "      <th>2</th>\n",
              "      <th>3</th>\n",
              "    </tr>\n",
              "  </thead>\n",
              "  <tbody>\n",
              "    <tr>\n",
              "      <th>0</th>\n",
              "      <td>Former Finance Minister Yashwant Sinha on Tues...</td>\n",
              "      <td>trump son obama meet us open</td>\n",
              "      <td>us president donald trump youngest son barron ...</td>\n",
              "      <td>trump son plays football white house arsenal kit</td>\n",
              "    </tr>\n",
              "    <tr>\n",
              "      <th>1</th>\n",
              "      <td>growing trees reduce atmospheric carbon dioxid...</td>\n",
              "      <td>use use use water fuel prices</td>\n",
              "      <td>Boeing retained its position as the world's la...</td>\n",
              "      <td>planting trees substitute cutting co emissions...</td>\n",
              "    </tr>\n",
              "    <tr>\n",
              "      <th>2</th>\n",
              "      <td>ceo loses billion tax ceo</td>\n",
              "      <td></td>\n",
              "      <td>seriously underpaid says ryanair ceo</td>\n",
              "      <td>low cost airline ryanair ceo michael made mill...</td>\n",
              "    </tr>\n",
              "    <tr>\n",
              "      <th>3</th>\n",
              "      <td>singapore demands lakh indians</td>\n",
              "      <td>boeing airbus group supplier fined investigati...</td>\n",
              "      <td>Further, its OnePlus 6 emerged as the highest ...</td>\n",
              "      <td>boeing supplier fined cr discrimination muslims</td>\n",
              "    </tr>\n",
              "    <tr>\n",
              "      <th>4</th>\n",
              "      <td>Filmmaker Pooja Bhatt, while talking about the...</td>\n",
              "      <td>tamil nadu health department wednesday launche...</td>\n",
              "      <td>tamil nadu hospital doctors remove nipah virus</td>\n",
              "      <td>tamil nadu starts free breast implants poor</td>\n",
              "    </tr>\n",
              "  </tbody>\n",
              "</table>\n",
              "</div>"
            ],
            "text/plain": [
              "                                                   0  \\\n",
              "0  Former Finance Minister Yashwant Sinha on Tues...   \n",
              "1  growing trees reduce atmospheric carbon dioxid...   \n",
              "2                          ceo loses billion tax ceo   \n",
              "3                     singapore demands lakh indians   \n",
              "4  Filmmaker Pooja Bhatt, while talking about the...   \n",
              "\n",
              "                                                   1  \\\n",
              "0                       trump son obama meet us open   \n",
              "1                      use use use water fuel prices   \n",
              "2                                                      \n",
              "3  boeing airbus group supplier fined investigati...   \n",
              "4  tamil nadu health department wednesday launche...   \n",
              "\n",
              "                                                   2  \\\n",
              "0  us president donald trump youngest son barron ...   \n",
              "1  Boeing retained its position as the world's la...   \n",
              "2              seriously underpaid says ryanair ceo    \n",
              "3  Further, its OnePlus 6 emerged as the highest ...   \n",
              "4     tamil nadu hospital doctors remove nipah virus   \n",
              "\n",
              "                                                   3  \n",
              "0  trump son plays football white house arsenal kit   \n",
              "1  planting trees substitute cutting co emissions...  \n",
              "2  low cost airline ryanair ceo michael made mill...  \n",
              "3   boeing supplier fined cr discrimination muslims   \n",
              "4       tamil nadu starts free breast implants poor   "
            ]
          },
          "execution_count": 79,
          "metadata": {},
          "output_type": "execute_result"
        }
      ],
      "source": [
        "results = []\n",
        "\n",
        "for i in range(50, 100):\n",
        "    original_text = seq2text(encoder_input_test[i])\n",
        "    actual_summary = seq2headlines(decoder_input_test[i])\n",
        "    abstract_summary = decode_sequence(encoder_input_test[i].reshape(1, text_max_len))\n",
        "    extractive_summary = summarize(data_summa['text'][i], ratio=0.5)\n",
        "\n",
        "    results.append({\n",
        "        original_text,\n",
        "        actual_summary,\n",
        "        abstract_summary,\n",
        "        extractive_summary\n",
        "    })\n",
        "\n",
        "df = pd.DataFrame(results)\n",
        "df.head()"
      ]
    },
    {
      "cell_type": "markdown",
      "id": "f431f8ad",
      "metadata": {
        "id": "f431f8ad"
      },
      "source": [
        "## 회고"
      ]
    },
    {
      "cell_type": "markdown",
      "id": "0f00c026",
      "metadata": {
        "id": "0f00c026"
      },
      "source": [
        "NLP를 다루면서 RNN모델에 관한 이해를 더 깊게 해 볼 수 있는 시간이었다.\n",
        "직접 코딩해보니 평소에 알고 있다고 생각했던 개념들을 정확히 알지는 못하고 있었다고 확인하는 계기가 되었다.\n",
        "\n",
        "기계는 같은 의미라고 생각하지만, 인간이 보기에 같은 의미라고 볼 수 없는 요약들이 다수 존재했다.\n",
        "NLP 작업을 통한 요약은 최종적인 loss 값이 낮게 나오더라도 인간이 이해하지 못하거나 잘못된 내용을 전달할 수도 있겠다는 생각이 들었다.\n",
        "마지막에 summa를 이용하는 과정에서 ratio 값에 따라 추출 요약이 나오거나 나오지 않는 경우가 있었다.\n",
        "이는 요약을 하는 과정에서 ratio의 값이 너무 낮으면 문법적으로 올바른 내용을 만들기도 어렵고 내용상으로도 요약이라기보다는 키워드 몇 개를 추출하는 형태로 코드가 실행되어 요약이라고 할 수 없는 경우가 발생하게 된다.\n",
        "따라서 ratio 값을 적절히 조절하여 사용자가 읽기 편하면서 추출 요약이 실행되는 최적의 ratio 값을 찾아서 대입해야 한다.\n",
        "\n",
        "생각보다 val_loss의 값이 크게 변화하는 일은 없었다.\n",
        "이는 NLP의 특성상 많은 언어를 다루며 학습하기 때문에 어떤 문장이 쓰이더라도 개발자가 이에 대한 가중치 등의 변화를 주지 않는 한 val_loss 값에 큰 변화를 주지는 못한다는 생각이 들었다.\n",
        "\n",
        "모델을 만들면서 원문과 무관한 내용이 많이 등장하였다. 또한 추상적 요약에서는 원문과 무관한 내용이 많았고, 추출적요약에서는 사람이 읽을 수 없는 이상한 문자들이 포함되는 경우가 많았다. 이는 조금 더 좋은 모델이 개발되거나 다른 요약작업을 시도해야 할 것으로 생각된다."
      ]
    },
    {
      "cell_type": "code",
      "execution_count": null,
      "id": "b9086dff",
      "metadata": {
        "id": "b9086dff"
      },
      "outputs": [],
      "source": []
    }
  ],
  "metadata": {
    "kernelspec": {
      "display_name": "Python 3 (ipykernel)",
      "language": "python",
      "name": "python3"
    },
    "language_info": {
      "codemirror_mode": {
        "name": "ipython",
        "version": 3
      },
      "file_extension": ".py",
      "mimetype": "text/x-python",
      "name": "python",
      "nbconvert_exporter": "python",
      "pygments_lexer": "ipython3",
      "version": "3.9.7"
    },
    "colab": {
      "provenance": [],
      "include_colab_link": true
    }
  },
  "nbformat": 4,
  "nbformat_minor": 5
}